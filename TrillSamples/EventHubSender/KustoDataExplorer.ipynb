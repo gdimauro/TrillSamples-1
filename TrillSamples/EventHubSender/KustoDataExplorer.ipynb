{
 "cells": [
  {
   "cell_type": "code",
   "execution_count": 65,
   "metadata": {},
   "outputs": [
    {
     "name": "stdout",
     "output_type": "stream",
     "text": "Requirement already up-to-date: Kqlmagic in c:\\users\\gdimauro\\appdata\\local\\packages\\pythonsoftwarefoundation.python.3.7_qbz5n2kfra8p0\\localcache\\local-packages\\python37\\site-packages (0.1.108)\nRequirement already satisfied, skipping upgrade: pandas>=0.23.4 in c:\\users\\gdimauro\\appdata\\local\\packages\\pythonsoftwarefoundation.python.3.7_qbz5n2kfra8p0\\localcache\\local-packages\\python37\\site-packages (from Kqlmagic) (0.25.3)\nRequirement already satisfied, skipping upgrade: psutil>=5.4.7 in c:\\users\\gdimauro\\appdata\\local\\packages\\pythonsoftwarefoundation.python.3.7_qbz5n2kfra8p0\\localcache\\local-packages\\python37\\site-packages (from Kqlmagic) (5.6.7)\nRequirement already satisfied, skipping upgrade: plotly>=3.10.0 in c:\\users\\gdimauro\\appdata\\local\\packages\\pythonsoftwarefoundation.python.3.7_qbz5n2kfra8p0\\localcache\\local-packages\\python37\\site-packages (from Kqlmagic) (4.4.1)\nRequirement already satisfied, skipping upgrade: pyjwt>=1.7.1 in c:\\users\\gdimauro\\appdata\\local\\packages\\pythonsoftwarefoundation.python.3.7_qbz5n2kfra8p0\\localcache\\local-packages\\python37\\site-packages (from Kqlmagic) (1.7.1)\nRequirement already satisfied, skipping upgrade: lxml>=4.2.5 in c:\\users\\gdimauro\\appdata\\local\\packages\\pythonsoftwarefoundation.python.3.7_qbz5n2kfra8p0\\localcache\\local-packages\\python37\\site-packages (from Kqlmagic) (4.4.2)\nRequirement already satisfied, skipping upgrade: adal>=1.2.1 in c:\\users\\gdimauro\\appdata\\local\\packages\\pythonsoftwarefoundation.python.3.7_qbz5n2kfra8p0\\localcache\\local-packages\\python37\\site-packages (from Kqlmagic) (1.2.2)\nRequirement already satisfied, skipping upgrade: prettytable>=0.7.2 in c:\\users\\gdimauro\\appdata\\local\\packages\\pythonsoftwarefoundation.python.3.7_qbz5n2kfra8p0\\localcache\\local-packages\\python37\\site-packages (from Kqlmagic) (0.7.2)\nRequirement already satisfied, skipping upgrade: python-dateutil>=2.7.5 in c:\\users\\gdimauro\\appdata\\local\\packages\\pythonsoftwarefoundation.python.3.7_qbz5n2kfra8p0\\localcache\\local-packages\\python37\\site-packages (from Kqlmagic) (2.8.1)\nRequirement already satisfied, skipping upgrade: seaborn>=0.9.0 in c:\\users\\gdimauro\\appdata\\local\\packages\\pythonsoftwarefoundation.python.3.7_qbz5n2kfra8p0\\localcache\\local-packages\\python37\\site-packages (from Kqlmagic) (0.9.0)\nRequirement already satisfied, skipping upgrade: matplotlib>=3.0.0 in c:\\users\\gdimauro\\appdata\\local\\packages\\pythonsoftwarefoundation.python.3.7_qbz5n2kfra8p0\\localcache\\local-packages\\python37\\site-packages (from Kqlmagic) (3.1.2)\nRequirement already satisfied, skipping upgrade: ipykernel>=5.1.1 in c:\\users\\gdimauro\\appdata\\local\\packages\\pythonsoftwarefoundation.python.3.7_qbz5n2kfra8p0\\localcache\\local-packages\\python37\\site-packages (from Kqlmagic) (5.1.3)\nRequirement already satisfied, skipping upgrade: Markdown>=3.0.1 in c:\\users\\gdimauro\\appdata\\local\\packages\\pythonsoftwarefoundation.python.3.7_qbz5n2kfra8p0\\localcache\\local-packages\\python37\\site-packages (from Kqlmagic) (3.1.1)\nRequirement already satisfied, skipping upgrade: requests>=2.21.0 in c:\\users\\gdimauro\\appdata\\local\\packages\\pythonsoftwarefoundation.python.3.7_qbz5n2kfra8p0\\localcache\\local-packages\\python37\\site-packages (from Kqlmagic) (2.22.0)\nRequirement already satisfied, skipping upgrade: Pygments>=2.2.0 in c:\\users\\gdimauro\\appdata\\local\\packages\\pythonsoftwarefoundation.python.3.7_qbz5n2kfra8p0\\localcache\\local-packages\\python37\\site-packages (from Kqlmagic) (2.4.2)\nRequirement already satisfied, skipping upgrade: pytz>=2019.1 in c:\\users\\gdimauro\\appdata\\local\\packages\\pythonsoftwarefoundation.python.3.7_qbz5n2kfra8p0\\localcache\\local-packages\\python37\\site-packages (from Kqlmagic) (2019.3)\nRequirement already satisfied, skipping upgrade: traitlets>=4.3.2 in c:\\users\\gdimauro\\appdata\\local\\packages\\pythonsoftwarefoundation.python.3.7_qbz5n2kfra8p0\\localcache\\local-packages\\python37\\site-packages (from Kqlmagic) (4.3.3)\nRequirement already satisfied, skipping upgrade: ipython>=7.1.1 in c:\\users\\gdimauro\\appdata\\local\\packages\\pythonsoftwarefoundation.python.3.7_qbz5n2kfra8p0\\localcache\\local-packages\\python37\\site-packages (from Kqlmagic) (7.9.0)\nRequirement already satisfied, skipping upgrade: beautifulsoup4>=4.6.3 in c:\\users\\gdimauro\\appdata\\local\\packages\\pythonsoftwarefoundation.python.3.7_qbz5n2kfra8p0\\localcache\\local-packages\\python37\\site-packages (from Kqlmagic) (4.8.1)\nRequirement already satisfied, skipping upgrade: setuptools>=41.0.1 in c:\\programdata\\anaconda3\\lib\\site-packages (from Kqlmagic) (41.4.0)\nRequirement already satisfied, skipping upgrade: six>=1.11.0 in c:\\users\\gdimauro\\appdata\\local\\packages\\pythonsoftwarefoundation.python.3.7_qbz5n2kfra8p0\\localcache\\local-packages\\python37\\site-packages (from Kqlmagic) (1.13.0)\nRequirement already satisfied, skipping upgrade: numpy>=1.13.3 in c:\\users\\gdimauro\\appdata\\local\\packages\\pythonsoftwarefoundation.python.3.7_qbz5n2kfra8p0\\localcache\\local-packages\\python37\\site-packages (from pandas>=0.23.4->Kqlmagic) (1.17.4)\nRequirement already satisfied, skipping upgrade: retrying>=1.3.3 in c:\\users\\gdimauro\\appdata\\local\\packages\\pythonsoftwarefoundation.python.3.7_qbz5n2kfra8p0\\localcache\\local-packages\\python37\\site-packages (from plotly>=3.10.0->Kqlmagic) (1.3.3)\nRequirement already satisfied, skipping upgrade: cryptography>=1.1.0 in c:\\users\\gdimauro\\appdata\\local\\packages\\pythonsoftwarefoundation.python.3.7_qbz5n2kfra8p0\\localcache\\local-packages\\python37\\site-packages (from adal>=1.2.1->Kqlmagic) (2.8)\nRequirement already satisfied, skipping upgrade: scipy>=0.14.0 in c:\\users\\gdimauro\\appdata\\local\\packages\\pythonsoftwarefoundation.python.3.7_qbz5n2kfra8p0\\localcache\\local-packages\\python37\\site-packages (from seaborn>=0.9.0->Kqlmagic) (1.3.3)\nRequirement already satisfied, skipping upgrade: pyparsing!=2.0.4,!=2.1.2,!=2.1.6,>=2.0.1 in c:\\users\\gdimauro\\appdata\\local\\packages\\pythonsoftwarefoundation.python.3.7_qbz5n2kfra8p0\\localcache\\local-packages\\python37\\site-packages (from matplotlib>=3.0.0->Kqlmagic) (2.4.5)\nRequirement already satisfied, skipping upgrade: cycler>=0.10 in c:\\users\\gdimauro\\appdata\\local\\packages\\pythonsoftwarefoundation.python.3.7_qbz5n2kfra8p0\\localcache\\local-packages\\python37\\site-packages (from matplotlib>=3.0.0->Kqlmagic) (0.10.0)\nRequirement already satisfied, skipping upgrade: kiwisolver>=1.0.1 in c:\\users\\gdimauro\\appdata\\local\\packages\\pythonsoftwarefoundation.python.3.7_qbz5n2kfra8p0\\localcache\\local-packages\\python37\\site-packages (from matplotlib>=3.0.0->Kqlmagic) (1.1.0)\nRequirement already satisfied, skipping upgrade: tornado>=4.2 in c:\\users\\gdimauro\\appdata\\local\\packages\\pythonsoftwarefoundation.python.3.7_qbz5n2kfra8p0\\localcache\\local-packages\\python37\\site-packages (from ipykernel>=5.1.1->Kqlmagic) (6.0.3)\nRequirement already satisfied, skipping upgrade: jupyter-client in c:\\users\\gdimauro\\appdata\\local\\packages\\pythonsoftwarefoundation.python.3.7_qbz5n2kfra8p0\\localcache\\local-packages\\python37\\site-packages (from ipykernel>=5.1.1->Kqlmagic) (5.3.4)\nRequirement already satisfied, skipping upgrade: urllib3!=1.25.0,!=1.25.1,<1.26,>=1.21.1 in c:\\users\\gdimauro\\appdata\\local\\packages\\pythonsoftwarefoundation.python.3.7_qbz5n2kfra8p0\\localcache\\local-packages\\python37\\site-packages (from requests>=2.21.0->Kqlmagic) (1.25.7)\nRequirement already satisfied, skipping upgrade: certifi>=2017.4.17 in c:\\users\\gdimauro\\appdata\\local\\packages\\pythonsoftwarefoundation.python.3.7_qbz5n2kfra8p0\\localcache\\local-packages\\python37\\site-packages (from requests>=2.21.0->Kqlmagic) (2019.11.28)\nRequirement already satisfied, skipping upgrade: chardet<3.1.0,>=3.0.2 in c:\\users\\gdimauro\\appdata\\local\\packages\\pythonsoftwarefoundation.python.3.7_qbz5n2kfra8p0\\localcache\\local-packages\\python37\\site-packages (from requests>=2.21.0->Kqlmagic) (3.0.4)\nRequirement already satisfied, skipping upgrade: idna<2.9,>=2.5 in c:\\users\\gdimauro\\appdata\\local\\packages\\pythonsoftwarefoundation.python.3.7_qbz5n2kfra8p0\\localcache\\local-packages\\python37\\site-packages (from requests>=2.21.0->Kqlmagic) (2.8)\nRequirement already satisfied, skipping upgrade: decorator in c:\\users\\gdimauro\\appdata\\local\\packages\\pythonsoftwarefoundation.python.3.7_qbz5n2kfra8p0\\localcache\\local-packages\\python37\\site-packages (from traitlets>=4.3.2->Kqlmagic) (4.4.1)\nRequirement already satisfied, skipping upgrade: ipython-genutils in c:\\users\\gdimauro\\appdata\\local\\packages\\pythonsoftwarefoundation.python.3.7_qbz5n2kfra8p0\\localcache\\local-packages\\python37\\site-packages (from traitlets>=4.3.2->Kqlmagic) (0.2.0)\nRequirement already satisfied, skipping upgrade: backcall in c:\\users\\gdimauro\\appdata\\local\\packages\\pythonsoftwarefoundation.python.3.7_qbz5n2kfra8p0\\localcache\\local-packages\\python37\\site-packages (from ipython>=7.1.1->Kqlmagic) (0.1.0)\nRequirement already satisfied, skipping upgrade: pickleshare in c:\\users\\gdimauro\\appdata\\local\\packages\\pythonsoftwarefoundation.python.3.7_qbz5n2kfra8p0\\localcache\\local-packages\\python37\\site-packages (from ipython>=7.1.1->Kqlmagic) (0.7.5)\nRequirement already satisfied, skipping upgrade: prompt-toolkit<2.1.0,>=2.0.0 in c:\\users\\gdimauro\\appdata\\local\\packages\\pythonsoftwarefoundation.python.3.7_qbz5n2kfra8p0\\localcache\\local-packages\\python37\\site-packages (from ipython>=7.1.1->Kqlmagic) (2.0.10)\nRequirement already satisfied, skipping upgrade: colorama; sys_platform == \"win32\" in c:\\users\\gdimauro\\appdata\\local\\packages\\pythonsoftwarefoundation.python.3.7_qbz5n2kfra8p0\\localcache\\local-packages\\python37\\site-packages (from ipython>=7.1.1->Kqlmagic) (0.4.1)\nRequirement already satisfied, skipping upgrade: jedi>=0.10 in c:\\users\\gdimauro\\appdata\\local\\packages\\pythonsoftwarefoundation.python.3.7_qbz5n2kfra8p0\\localcache\\local-packages\\python37\\site-packages (from ipython>=7.1.1->Kqlmagic) (0.15.1)\nRequirement already satisfied, skipping upgrade: soupsieve>=1.2 in c:\\users\\gdimauro\\appdata\\local\\packages\\pythonsoftwarefoundation.python.3.7_qbz5n2kfra8p0\\localcache\\local-packages\\python37\\site-packages (from beautifulsoup4>=4.6.3->Kqlmagic) (1.9.5)\nRequirement already satisfied, skipping upgrade: cffi!=1.11.3,>=1.8 in c:\\users\\gdimauro\\appdata\\local\\packages\\pythonsoftwarefoundation.python.3.7_qbz5n2kfra8p0\\localcache\\local-packages\\python37\\site-packages (from cryptography>=1.1.0->adal>=1.2.1->Kqlmagic) (1.13.2)\nRequirement already satisfied, skipping upgrade: jupyter-core>=4.6.0 in c:\\users\\gdimauro\\appdata\\local\\packages\\pythonsoftwarefoundation.python.3.7_qbz5n2kfra8p0\\localcache\\local-packages\\python37\\site-packages (from jupyter-client->ipykernel>=5.1.1->Kqlmagic) (4.6.1)\nRequirement already satisfied, skipping upgrade: pywin32>=1.0; sys_platform == \"win32\" in c:\\users\\gdimauro\\appdata\\local\\packages\\pythonsoftwarefoundation.python.3.7_qbz5n2kfra8p0\\localcache\\local-packages\\python37\\site-packages (from jupyter-client->ipykernel>=5.1.1->Kqlmagic) (227)\nRequirement already satisfied, skipping upgrade: pyzmq>=13 in c:\\users\\gdimauro\\appdata\\local\\packages\\pythonsoftwarefoundation.python.3.7_qbz5n2kfra8p0\\localcache\\local-packages\\python37\\site-packages (from jupyter-client->ipykernel>=5.1.1->Kqlmagic) (18.1.1)\nRequirement already satisfied, skipping upgrade: wcwidth in c:\\users\\gdimauro\\appdata\\local\\packages\\pythonsoftwarefoundation.python.3.7_qbz5n2kfra8p0\\localcache\\local-packages\\python37\\site-packages (from prompt-toolkit<2.1.0,>=2.0.0->ipython>=7.1.1->Kqlmagic) (0.1.7)\nRequirement already satisfied, skipping upgrade: parso>=0.5.0 in c:\\users\\gdimauro\\appdata\\local\\packages\\pythonsoftwarefoundation.python.3.7_qbz5n2kfra8p0\\localcache\\local-packages\\python37\\site-packages (from jedi>=0.10->ipython>=7.1.1->Kqlmagic) (0.5.1)\nRequirement already satisfied, skipping upgrade: pycparser in c:\\users\\gdimauro\\appdata\\local\\packages\\pythonsoftwarefoundation.python.3.7_qbz5n2kfra8p0\\localcache\\local-packages\\python37\\site-packages (from cffi!=1.11.3,>=1.8->cryptography>=1.1.0->adal>=1.2.1->Kqlmagic) (2.19)\nNote: you may need to restart the kernel to use updated packages.\n"
    }
   ],
   "source": [
    "pip install Kqlmagic --no-cache-dir  --upgrade"
   ]
  },
  {
   "cell_type": "code",
   "execution_count": 66,
   "metadata": {},
   "outputs": [
    {
     "data": {
      "application/javascript": "try {IPython.notebook.kernel.execute(\"NOTEBOOK_URL = '\" + window.location + \"'\");} catch(err) {;}",
      "text/plain": "<IPython.core.display.Javascript object>"
     },
     "metadata": {},
     "output_type": "display_data"
    },
    {
     "data": {
      "text/html": "<html>\n            <head>\n            <style>\n            .kql-magic-banner {\n                display: flex; \n                background-color: #d9edf7;\n            }\n            .kql-magic-banner > div {\n                margin: 10px; \n                padding: 20px; \n                color: #3a87ad; \n                font-size: 13px;\n            }\n            </style>\n            </head>\n            <body>\n                <div class='kql-magic-banner'>\n                    <div><img src='data:image/png;base64,iVBORw0KGgoAAAANSUhEUgAAALsAAACcCAYAAAAnOdrkAAAQeklEQVR42u2di5MVxRXGe5cFFhEQQcGVx4KgLg8XLFCDCigqkvgCSVQqIgRNTP6R/AcmMRpjaWLQEEWRCGrEIKXIGxUMIvJUkKcisryWfB9zVm8w1Hbfnefe76vq6ru70zO9c3/Tc6bnnNM14347z0lSJahGp0AS7JIk2CVJsEuSYJckwS5Jgl2SBLskCXZJEuySJNglwS5Jgl2SBLskVQbsp0+fvgRVT8/Nv66qqtqp0y6Bm1pUdSi1HpsfR9kDdg5nBjs63A/Vb1DGeDZZjzZPotMb9XVXNOhVqKag3G3At6Z9KK+h3fNgpymrkf0ilInowI88/0luvwhFsFe2uqIMR7kD7PTy4OYIqt0EHiUz2Dt43oZaxG2r9V1XvDiyd0Tp7Ll9F5RO1k4PqJIk2CVJsEuCXZIEuyQJdkkS7JIk2CVJsEuSYJckwS5Jgl2SBLsk2CVJsEuSYJckwS5Jgl2SBLskCXZJEuySJNjbiSyJUA8XpZ1gFP7ZkfUnUI66KPHU1zpjFQ47gGG6htoymjYBoBMZwF1npT/KAKsvRunmorQl323uovwpe1E+R9ttqDehbEfZhb6fDDxuR49NT2G/3wr2fILeiOp6g8U33wgh4ii5Bu2XhkDThn72cVHCIGZVG41ymfWZo3oP9KGqlfZMIHSQ0Lso+dT7+N37/IymR1ppy2MywVVvj65+he1XYJ9LBXu+QCfkc1AmoVwY0JS5BJcZKCcT7iNzZI5FmYgyDmUojnlh6H7QpquZOkxFeA32exvqdShv4fObvHCxTfM5RnSC/gjKII9DMSPX+Wj3IfZ3ULDnA/RrUf0SZTq+lPMC225B9TZHxwT7180gu91AH45+dopr/9gXL6JLcJyrUV+H8jI+L8bvPz9r0442og/C38736Pdgu+N0KiobNe0MdJoBD6NMKwP09aj+iPIc2u5PqH8NqO60MhbH6ZzUucC+CeZUHPNK1JejnovfrdMDavsAfZTdkqf7jFRpgm5ZazmKz0D5iY2+qQjHasDxCX5f1E8V2eYW7P8L+v34Mi/IGegcvX+MMhtlcpwmSwDwvdCPGWZzV+Pnt10bk4QK9mxBfwBfYs/AtqtQ/QllbkKg05S6h6YV9n9TlueJJhP6w3zoTTaD87lgLxbojW0AfTmqP6C8iLaHEjJdOKI/iv3fGNM+Obd+quUBM/Quwe0NeF7Yi51/ymjBnjHofNibY6ZLKOjvGujz0PabhLo4AeWhtoCOfrJvfGH0mY3EnPI7ZibIefh7X/f9y6dLcayOHsB3R7tpbI/S3VXQW/SagoI+FNUslPtC56bTAN36dz/KrWW2/xLVGpT3UFaibDHQObKfdN8n8+eDOB8+ebwxaMepxsbWZqLw9wE2wh/B51rBnm/QOaI/aNNreQOdo+VdNGHKmVq0Ps5H+RfKx60smrXfRv4VaPcGQecFhs+c8RnWCvB9ZLMXA/SZodN3KZku1ESUe3GM/oH9I9QLOStE0ENXhsP2vBu8zjecqD9C/QDqSfi9nP2KBnsRQMdxhtjsy3VlmC0voDyN/q1o46zLF9jfX8zGP0BzJfQFm2DPFnS+qp6d8xGdok/O+Nact87q3yEbzR9Hsw1xdML8ejjK00uxGfX0JN/WCvb4QKc58HOWPIOOY9Fb8WYc57LAplzu8Nm4QD8L+mV8iYSPnGO/N+QiFOzpg05PvpkumsLrn1fQTfTLGRvYR3pY/hX9W5lUp+gegONw1oazVjcL9vyC/iDNF3xhg/MMuvmk04QZEtBmB6q/26xL0uIxON04sIw7j2BPCfQ5oV9OBiM6Rc/Ca3xe6lgfGSTCqcKFrQVYxDS6H8MhX8fHRtSPVOoMTY1Ab3N/+cqevuOXBzTj9OCr6OOmtM4rjrUFfV3kIl/6UYI9e9BpDtA77xdlgE5PPnovzk9xRKf4LEHf9N4BbeiXszKDU8xpzXdwrkZU4uhekyPQe6H6GcosfBFDAtsy/Oz3KAvQtinlrvN5oiGgr5z/Xo5+bkv7HDNaCcd/Cx/pgTlcsGcHOt/40RW2oQzQH0N5JYOMANVmvtQFNNuKsiHD081opdWCPVvQ+eB0VVFAN12EcoXzi85v0acouzI85Uy3sRrnjr47vQS7QPcV564H4/jVnn2mv8snLnLgykQ8V+gH7yw7UQR7SqDTB/2+AoNOXRxowhDyzSk/QJ9rdKc51SjYk1VHCwC+02z0UNDXuiiULmvQKQZPhASOfGmgZS1mEtuMc3k8i5jYSoGdxxvoouk6ugCMLmMfvP1uzBp0S61HX52QTAZ7sjRhSsRAEEY/HbK7k2BP6LZ/B0dEwFruiw1OS47kCI99nM7w3HUxmzfEfXYfStYmDO12ekJ+4aIMaII9oZPMKJ7b27iPK/FF0Wf8Y5dg5i5P2Hta7XMnOI7qgIsy7+ZBe/Nw4VXEA2obxZciG5i9FvDvyagP9A/vHuA2e8zMhqacnMPDVgR7nsVESACdD7j0MflbRt3oGGjCEPavrM6DmgR7cYC/iikhUBiUvLYAsNOM+SaNNNgBsH8l2ItlznwA4LcDogMpH7uDC0sydDJHo/p3F59gL87o3hugM20F3wjOy2Bkry0w7MwsRj/3Zt83wII9RvF1Ok58t0DgmRxoqpkzH6U8sncKhL0pR6e75eI76Qqcc72QsANWho5xiZRRgDZ0enKSmTM7UlxMq8qFZcJtNrDyNLIfFezpg97i68J58/FcggXQevttYNu+ls6NI/uCFGEJgbeD81uoK03YT9lFKJs9JdAZG8nAi1fMI4+xmUygPyAwYSmXl7kH7TalFO5G0ENWjyPoXXL03bdcfNWCPXnI+aqf6d4YSrewxdeFadzwp5ddFFwwNWB0r0a7yS5K/bYrhUDm0AfODq68ZSqT/O675Oxu0/5g5wwAR3Ib0Rf9Hx8Xxme+xPWAQiKXsG0/Pqy6aHZmUcL/xonAkb0mZ7CfudP4ZkQQ7G0D/TGc6MXngPa0mTMjmBEscI0k5lm8G+3oN/5pgv8KZ1ZClkjkQyCXeemEfh3PyXdfMemqsxrZOeL+7lyglwDP4GCmbh6BMiVgdKe//BQzZ55gzpSE/g+O6vtxjGOeeRQJFtd74rZ5gP3MxSfYkxvVd9uo/qZnk/fNnLk8JLUGtq0vmZ1ZkiTsVvvAXuolmQeflDOObII9OdHrb6uvf4jNzvAOMNIyWYW8nr/RZme2oF3s0UFM2YF90+PyiPOIVrIH6F45mpHp5sKirAR7GWoOhGorIHnJZmduCmhXyxUozJz5c0KRTQyAoDNVP8/tmQSqR06++94a2fMpprV7kWmhuR5QAPBDSmZnliXQL8aUhjignVl8F2V9Ds5pX9nsORSg/RbQvmbmzOzA1G032uzMZ3zoTcAs2xkIOy/ANxgal9X5xPFpwvTXyJ5f4D+x2RmaM+MC2nG6j3GvH6J+Jua4VY7qjNLnqnNdPbZnUqUGq/dkeDppq9eHLnsv2NPVUpSXuewM/WECgG+wuNWNLkruGdcF+DX2y30ynrOrx/bVtn5rXcawX+oCcskL9mxGd8K1wEb3BwObT7SH1W22slxc2uyihEP1ntufyY7gonVOsxLzyQ8Q7PkHnsBy7r2BvuwB7Xpa3Crn3uOMW+W0Jt2Lx/sEQWCbgdj2epQlSUyJetjrtNXpNNdPsBdDSzi644urD8mLTrdhmjNxxq0yuwH2t8JGd9/lcOjSMNplkx2MCydcV4mLiRU1u8ABM2doDvw0sPkke1iNM251nd0xfGGn3X4L+rAafdiR4qheZ///MFeBKnJ2gTVmztAzcmRAu97mSsC593/EaLdzRYtxPmmgzX+H0NEd4pkUTxuXmJlQSZ6O7QJ2E0P5RtgqcN0DgB9j5sx/4ohbtfcAXOaGSy9O9mzTYLGzDDZZnsKoztH8DrsbOsFevNF9d4ln5J2BzW+12Zm44lZpyizC/hoDpkVvQdmGNnu5wFeCoNNNYRovxEpe+Lc9LCLFh0O6EgxlHsiACyXWuFVzDOOdhi+8pnu26cZET/jIh9ynkkjlh/12N9AfCF0hXLDnb3RvtjjWlkCPrgHNOQV3d4xxq/R5WWCr0V3p2X8uxstVvI+jfg4/fxEj6PSfv9dFCycPcxWudrE8IL7InSVxq5MD2rXErW6II27VIqw4ujeGXHhmvz+Kj91Rz8XPG2MAfYCN6DPLzIMv2HOs91DmmzkzOADQ/iXmzOIYLrwd2B9neRhscldAu6Fo9yt8rEPNZd6XlXPx2SLEfNlG94hplbx8e7uF3ZYsX2TmzMOBy6dwSo6zM5/GFLdKd+I+2F9v7C/EaY3PEQ+5aLnJhTbDQxProAfkdOqiK8INLsqBPz40u5pgLxbwW0o8IycEtOtkcat82fRkW+NWzZyhSzJdFM4LWWXELtIJaDfcZmtW4jNnevi2lS7FjF9lcqNq+/74AErHLq5NdQ3K1dhHndBu57CXjKrzLdCjXwBk9SUvm5bEcOEdMXOmC+pfhy5mbG4Qt9KPxkVBIvSsZMwrM+8yrJF5aBjix+Up6TLcVyN5hcFukP3TRYEeswLnlW+w2ZlY4lbNreEFA56m1dAy9sEc8PXO36vS17ZnIAtXy6sX7MUG/mN8mS+6yAfk2hCwzopbPRlDX/ji61mOxpxiDMlhmZRsec3X7WGYd4RawV5sLTVzhp6RfQJnRVoCPZbFdPExB87T+HiQD6D4eUKGoNOP/gmUVbyLuXxlFhbsZQJ2CF/sqy5yJZgR2HyCje5b4nrJg/0wodJztL05p++iV/e9UoScD7ac3eFd5hV7wD3hKkjteWQnYOtpzligx+iAdqVxq8/GFbdKlwIXvWGlW+8nZjKNCgwgLwf0bag4O8Tnh6VMv2dB13pAbWd6yx5W60NSYPP1uqXh4HqrK2K+CNdh38xKsJojPD4zA8IVcS+tjv3ut77zDvca9r9ZszHli6nf+MbQd5aBMxypLlpl5gNdCQahvs15BEabmOqC89VclW9d3MlI2S8XBY/zYZHpAMfhM6OI+GLo0nLXOcI+aINzJP/InjlouqxNMOdlOaL5xNW+P0N/B3lsz7SJnH49niXsvB3P5cn03J5urKmPLviiV+GkPu6iIOcLAi9mjsCnE+wbB4Dt6N+/XeRiwGeMRvM/b8ntwunHH6SXtozIXCqG5tEh+z74AopBIR/QVDLTKW/mJT1E37UffcIqmXVthc+b5MRgx8EPo9PPO//8hU0JpaHz6es7FisaaiocTWPtUhxjn412y83/vM5gp1suXxr1NDub4FfZKHfYID9gF+VWXjgxZ09I6v/lm2Eu2uwTNXWKATKZ2+wGQiFWSrZb+bEC9JN+7SwMPawywDkX3rkEjmb7X5rsgizczIrddVK781TCA2rRZ5RoQh2xIgl2SRLskiTYJcEuSYJdkgS7JAl2SRLskiTYJUmwS5JglyTBLkmCXRLskiTYJUmwS5JglyTBLkmCXZIEuyQJdkkS7JIk2KUfiEmWmFZuo2cKOi5ewERMxwS7VCjZgmvMA8ncmz4pAbndeqYCF+xSEYHn+lFcA9aHg1Nxpe4W7FKW0FfE6huCXdIDqiQJdkkS7JIk2CVJsEuSYJckwS5Jgl2SBLskCXZJsEuSYJckwS5JxdB/ASH5FI/5dHZAAAAAAElFTkSuQmCC'></div>\n                    <div>\n                        <p>Kql Query Language, aka kql, is the query language for advanced analytics on Azure Monitor resources. The current supported data sources are \n                        Azure Data Explorer (Kusto), Log Analytics and Application Insights. To get more information execute '%kql --help \"kql\"'</p>\n                        <p>   &bull; kql reference: Click on 'Help' tab > and Select 'kql reference' or execute '%kql --help \"kql\"'<br>\n                          &bull; Kqlmagic configuration: execute '%config Kqlmagic'<br>\n                          &bull; Kqlmagic usage: execute '%kql --usage'<br>\n                    </div>\n                </div>\n            </body>\n            </html>",
      "text/plain": "<IPython.core.display.HTML object>"
     },
     "metadata": {},
     "output_type": "display_data"
    },
    {
     "data": {
      "text/html": "<html>\n        <head>\n        \n        </head>\n        <body>\n        <div><p style='padding: 10px; color: #3a87ad; background-color: #d9edf7; border-color: #bce9f1'>Kqlmagic&nbsp;package&nbsp;is&nbsp;updated&nbsp;frequently.&nbsp;Run&nbsp;&apos;!pip&nbsp;install&nbsp;Kqlmagic&nbsp;--no-cache-dir&nbsp;--upgrade&apos;&nbsp;to&nbsp;use&nbsp;the&nbsp;latest&nbsp;version.<br>Kqlmagic&nbsp;version:&nbsp;0.1.108,&nbsp;source:&nbsp;https://github.com/Microsoft/jupyter-Kqlmagic</p></div>\n        </body>\n        </html>",
      "text/plain": "<IPython.core.display.HTML object>"
     },
     "metadata": {},
     "output_type": "display_data"
    },
    {
     "data": {
      "text/html": "<html>\n        <head>\n        \n        </head>\n        <body>\n        <div><p style='padding: 10px; color: #3a87ad; background-color: #d9edf7; border-color: #bce9f1'>opened&nbsp;popup&nbsp;window:&nbsp;what_new_history,&nbsp;see&nbsp;your&nbsp;browser</p></div>\n        </body>\n        </html>",
      "text/plain": "<IPython.core.display.HTML object>"
     },
     "metadata": {},
     "output_type": "display_data"
    }
   ],
   "source": [
    "%reload_ext Kqlmagic"
   ]
  },
  {
   "cell_type": "code",
   "execution_count": 67,
   "metadata": {},
   "outputs": [
    {
     "data": {
      "application/javascript": "try {IPython.notebook.kernel.execute(\"NOTEBOOK_URL = '\" + window.location + \"'\");} catch(err) {;}",
      "text/plain": "<IPython.core.display.Javascript object>"
     },
     "metadata": {},
     "output_type": "display_data"
    }
   ],
   "source": [
    "%kql azuredataexplorer://tenant='1a59e398-83d8-4052-aec9-74a7d6461c5e';clientid='24c6b350-9b47-4e49-b794-7861cf0ce116';clientsecret='=BYPyhmHf0efu7[-zuoOLGtsT=xcO6v3';cluster='trillsample.westeurope';database='trillsample';alias='test'"
   ]
  },
  {
   "cell_type": "code",
   "execution_count": 68,
   "metadata": {},
   "outputs": [
    {
     "data": {
      "application/javascript": "try {IPython.notebook.kernel.execute(\"NOTEBOOK_URL = '\" + window.location + \"'\");} catch(err) {;}",
      "text/plain": "<IPython.core.display.Javascript object>"
     },
     "metadata": {},
     "output_type": "display_data"
    },
    {
     "data": {
      "text/html": "<html>\n        <head>\n        \n        </head>\n        <body>\n        <div><p style='padding: 10px; color: #3a87ad; background-color: #d9edf7; border-color: #bce9f1'>&nbsp;*&nbsp;test@trillsample_westeurope</p></div>\n        </body>\n        </html>",
      "text/plain": "<IPython.core.display.HTML object>"
     },
     "metadata": {},
     "output_type": "display_data"
    },
    {
     "data": {
      "text/html": "<html>\n        <head>\n        \n        </head>\n        <body>\n        <table>\n    <tr>\n        <th>Count</th>\n    </tr>\n    <tr>\n        <td>50772950</td>\n    </tr>\n</table>\n        </body>\n        </html>",
      "text/plain": "<IPython.core.display.HTML object>"
     },
     "metadata": {},
     "output_type": "display_data"
    },
    {
     "data": {
      "text/html": "<html>\n        <head>\n        \n        </head>\n        <body>\n        <div><p style='padding: 10px; color: #3a87ad; background-color: #d9edf7; border-color: #bce9f1'>Done&nbsp;(00:00.253):&nbsp;1&nbsp;records</p></div>\n        </body>\n        </html>",
      "text/plain": "<IPython.core.display.HTML object>"
     },
     "metadata": {},
     "output_type": "display_data"
    },
    {
     "data": {
      "text/html": "",
      "text/plain": "[{'Count': 50772950}]"
     },
     "execution_count": 68,
     "metadata": {},
     "output_type": "execute_result"
    }
   ],
   "source": [
    "%%kql\n",
    "MeasuresT1 | count"
   ]
  },
  {
   "cell_type": "code",
   "execution_count": 69,
   "metadata": {},
   "outputs": [
    {
     "data": {
      "application/javascript": "try {IPython.notebook.kernel.execute(\"NOTEBOOK_URL = '\" + window.location + \"'\");} catch(err) {;}",
      "text/plain": "<IPython.core.display.Javascript object>"
     },
     "metadata": {},
     "output_type": "display_data"
    },
    {
     "data": {
      "text/html": "<html>\n        <head>\n        \n        </head>\n        <body>\n        <div><p style='padding: 10px; color: #3a87ad; background-color: #d9edf7; border-color: #bce9f1'>&nbsp;*&nbsp;test@trillsample_westeurope</p></div>\n        </body>\n        </html>",
      "text/plain": "<IPython.core.display.HTML object>"
     },
     "metadata": {},
     "output_type": "display_data"
    },
    {
     "data": {
      "text/html": "<html>\n        <head>\n        \n        </head>\n        <body>\n        <table>\n    <tr>\n        <th>event</th>\n        <th>min_val</th>\n        <th>max_val</th>\n        <th>avg_val</th>\n    </tr>\n    <tr>\n        <td>CARICO_PEZZI</td>\n        <td>23</td>\n        <td>23.9</td>\n        <td>23.45003156798919235580393277113373</td>\n    </tr>\n    <tr>\n        <td>FINE_CICLO</td>\n        <td>23</td>\n        <td>23.9</td>\n        <td>23.44995440682130203750635230029788</td>\n    </tr>\n</table>\n        </body>\n        </html>",
      "text/plain": "<IPython.core.display.HTML object>"
     },
     "metadata": {},
     "output_type": "display_data"
    },
    {
     "data": {
      "text/html": "<html>\n        <head>\n        \n        </head>\n        <body>\n        <div><p style='padding: 10px; color: #3a87ad; background-color: #d9edf7; border-color: #bce9f1'>Done&nbsp;(00:07.637):&nbsp;2&nbsp;records</p></div>\n        </body>\n        </html>",
      "text/plain": "<IPython.core.display.HTML object>"
     },
     "metadata": {},
     "output_type": "display_data"
    },
    {
     "data": {
      "text/html": "",
      "text/plain": "[{'event': 'CARICO_PEZZI', 'min_val': '23', 'max_val': '23.9', 'avg_val': '23.45003156798919235580393277113373'},\n {'event': 'FINE_CICLO', 'min_val': '23', 'max_val': '23.9', 'avg_val': '23.44995440682130203750635230029788'}]"
     },
     "execution_count": 69,
     "metadata": {},
     "output_type": "execute_result"
    }
   ],
   "source": [
    "%%kql\n",
    "\n",
    "MeasuresT3\n",
    "| sort by URI\n",
    "| where timeStamp between (now(-2d) .. now())\n",
    "| summarize min(val), max(val), avg(val) by event"
   ]
  },
  {
   "cell_type": "code",
   "execution_count": 12,
   "metadata": {},
   "outputs": [
    {
     "data": {
      "application/javascript": "try {IPython.notebook.kernel.execute(\"NOTEBOOK_URL = '\" + window.location + \"'\");} catch(err) {;}",
      "text/plain": "<IPython.core.display.Javascript object>"
     },
     "metadata": {},
     "output_type": "display_data"
    },
    {
     "data": {
      "text/html": "<html>\n        <head>\n        \n        </head>\n        <body>\n        <div><p style='padding: 10px; color: #3a87ad; background-color: #d9edf7; border-color: #bce9f1'>&nbsp;*&nbsp;test@trillsample_westeurope</p></div>\n        </body>\n        </html>",
      "text/plain": "<IPython.core.display.HTML object>"
     },
     "metadata": {},
     "output_type": "display_data"
    },
    {
     "data": {
      "text/html": "<html>\n        <head>\n        \n        </head>\n        <body>\n        <table>\n    <tr>\n        <th>URI</th>\n        <th>timeStamp</th>\n        <th>event</th>\n        <th>val</th>\n    </tr>\n    <tr>\n        <td>9955969</td>\n        <td>2019-12-14 22:35:54.432942+00:00</td>\n        <td>FINE_CICLO</td>\n        <td>23.5</td>\n    </tr>\n    <tr>\n        <td>9955970</td>\n        <td>2019-12-14 22:35:54.433155+00:00</td>\n        <td>CARICO_PEZZI</td>\n        <td>23.3</td>\n    </tr>\n    <tr>\n        <td>9955971</td>\n        <td>2019-12-14 22:35:54.433284+00:00</td>\n        <td>FINE_CICLO</td>\n        <td>23.7</td>\n    </tr>\n    <tr>\n        <td>9955972</td>\n        <td>2019-12-14 22:35:54.433393+00:00</td>\n        <td>CARICO_PEZZI</td>\n        <td>23.6</td>\n    </tr>\n    <tr>\n        <td>9955973</td>\n        <td>2019-12-14 22:35:54.433489+00:00</td>\n        <td>FINE_CICLO</td>\n        <td>23.6</td>\n    </tr>\n    <tr>\n        <td>9955974</td>\n        <td>2019-12-14 22:35:54.433607+00:00</td>\n        <td>CARICO_PEZZI</td>\n        <td>23.1</td>\n    </tr>\n    <tr>\n        <td>9955975</td>\n        <td>2019-12-14 22:35:54.433800+00:00</td>\n        <td>FINE_CICLO</td>\n        <td>23.9</td>\n    </tr>\n    <tr>\n        <td>9955976</td>\n        <td>2019-12-14 22:35:54.433964+00:00</td>\n        <td>CARICO_PEZZI</td>\n        <td>23.1</td>\n    </tr>\n    <tr>\n        <td>9955977</td>\n        <td>2019-12-14 22:35:54.434164+00:00</td>\n        <td>FINE_CICLO</td>\n        <td>23.2</td>\n    </tr>\n    <tr>\n        <td>9955978</td>\n        <td>2019-12-14 22:35:54.434281+00:00</td>\n        <td>CARICO_PEZZI</td>\n        <td>23.3</td>\n    </tr>\n</table>\n        </body>\n        </html>",
      "text/plain": "<IPython.core.display.HTML object>"
     },
     "metadata": {},
     "output_type": "display_data"
    },
    {
     "data": {
      "text/html": "<html>\n        <head>\n        \n        </head>\n        <body>\n        <div><p style='padding: 10px; color: #3a87ad; background-color: #d9edf7; border-color: #bce9f1'>Done&nbsp;(00:00.326):&nbsp;10&nbsp;records</p></div>\n        </body>\n        </html>",
      "text/plain": "<IPython.core.display.HTML object>"
     },
     "metadata": {},
     "output_type": "display_data"
    },
    {
     "data": {
      "text/html": "",
      "text/plain": "[{'URI': '9955969', 'timeStamp': datetime.datetime(2019, 12, 14, 22, 35, 54, 432942, tzinfo=tzutc()), 'event': 'FINE_CICLO', 'val': '23.5'},\n {'URI': '9955970', 'timeStamp': datetime.datetime(2019, 12, 14, 22, 35, 54, 433155, tzinfo=tzutc()), 'event': 'CARICO_PEZZI', 'val': '23.3'},\n {'URI': '9955971', 'timeStamp': datetime.datetime(2019, 12, 14, 22, 35, 54, 433284, tzinfo=tzutc()), 'event': 'FINE_CICLO', 'val': '23.7'},\n {'URI': '9955972', 'timeStamp': datetime.datetime(2019, 12, 14, 22, 35, 54, 433393, tzinfo=tzutc()), 'event': 'CARICO_PEZZI', 'val': '23.6'},\n {'URI': '9955973', 'timeStamp': datetime.datetime(2019, 12, 14, 22, 35, 54, 433489, tzinfo=tzutc()), 'event': 'FINE_CICLO', 'val': '23.6'},\n {'URI': '9955974', 'timeStamp': datetime.datetime(2019, 12, 14, 22, 35, 54, 433607, tzinfo=tzutc()), 'event': 'CARICO_PEZZI', 'val': '23.1'},\n {'URI': '9955975', 'timeStamp': datetime.datetime(2019, 12, 14, 22, 35, 54, 433800, tzinfo=tzutc()), 'event': 'FINE_CICLO', 'val': '23.9'},\n {'URI': '9955976', 'timeStamp': datetime.datetime(2019, 12, 14, 22, 35, 54, 433964, tzinfo=tzutc()), 'event': 'CARICO_PEZZI', 'val': '23.1'},\n {'URI': '9955977', 'timeStamp': datetime.datetime(2019, 12, 14, 22, 35, 54, 434164, tzinfo=tzutc()), 'event': 'FINE_CICLO', 'val': '23.2'},\n {'URI': '9955978', 'timeStamp': datetime.datetime(2019, 12, 14, 22, 35, 54, 434281, tzinfo=tzutc()), 'event': 'CARICO_PEZZI', 'val': '23.3'}]"
     },
     "execution_count": 12,
     "metadata": {},
     "output_type": "execute_result"
    }
   ],
   "source": [
    "%%kql\n",
    "MeasuresT3\n",
    "| take 10\n"
   ]
  },
  {
   "cell_type": "code",
   "execution_count": 70,
   "metadata": {},
   "outputs": [
    {
     "data": {
      "application/javascript": "try {IPython.notebook.kernel.execute(\"NOTEBOOK_URL = '\" + window.location + \"'\");} catch(err) {;}",
      "text/plain": "<IPython.core.display.Javascript object>"
     },
     "metadata": {},
     "output_type": "display_data"
    },
    {
     "data": {
      "text/html": "<html>\n        <head>\n        \n        </head>\n        <body>\n        <div><p style='padding: 10px; color: #3a87ad; background-color: #d9edf7; border-color: #bce9f1'>&nbsp;*&nbsp;test@trillsample_westeurope</p></div>\n        </body>\n        </html>",
      "text/plain": "<IPython.core.display.HTML object>"
     },
     "metadata": {},
     "output_type": "display_data"
    },
    {
     "data": {
      "text/html": "        <script type=\"text/javascript\">\n        window.PlotlyConfig = {MathJaxConfig: 'local'};\n        if (window.MathJax) {MathJax.Hub.Config({SVG: {font: \"STIX-Web\"}});}\n        if (typeof require !== 'undefined') {\n        require.undef(\"plotly\");\n        requirejs.config({\n            paths: {\n                'plotly': ['https://cdn.plot.ly/plotly-latest.min']\n            }\n        });\n        require(['plotly'], function(Plotly) {\n            window._Plotly = Plotly;\n        });\n        }\n        </script>\n        "
     },
     "metadata": {},
     "output_type": "display_data"
    },
    {
     "data": {
      "application/vnd.plotly.v1+json": {
       "config": {
        "linkText": "Export to plot.ly",
        "plotlyServerURL": "https://plot.ly",
        "showLink": false
       },
       "data": [
        {
         "line": {
          "color": "rgb(31, 118, 179)",
          "width": 1
         },
         "name": "y",
         "opacity": 0.8,
         "type": "scatter",
         "uid": "3cfe9359-55e4-4169-ad86-8017dcd22363",
         "x": [
          0,
          0.01,
          0.02,
          0.03,
          0.04,
          0.05,
          0.06,
          0.07,
          0.08,
          0.09,
          0.1,
          0.11000000000000001,
          0.12,
          0.13,
          0.14,
          0.15000000000000002,
          0.16,
          0.17,
          0.18000000000000002,
          0.19000000000000003,
          0.2,
          0.21000000000000002,
          0.22000000000000003,
          0.23000000000000004,
          0.24000000000000002,
          0.25,
          0.26,
          0.27,
          0.28,
          0.29,
          0.3,
          0.31,
          0.32,
          0.32999999999999996,
          0.33999999999999997,
          0.35,
          0.36,
          0.36999999999999994,
          0.37999999999999995,
          0.38999999999999996,
          0.39999999999999997,
          0.4099999999999999,
          0.41999999999999993,
          0.42999999999999994,
          0.43999999999999995,
          0.4499999999999999,
          0.4599999999999999,
          0.4699999999999999,
          0.4799999999999999,
          0.4899999999999999,
          0.4999999999999999,
          0.5099999999999999,
          0.5199999999999999,
          0.5299999999999999,
          0.5399999999999999,
          0.5499999999999999,
          0.5599999999999999,
          0.57,
          0.58,
          0.59,
          0.6,
          0.61,
          0.62,
          0.63,
          0.64,
          0.65,
          0.66,
          0.67,
          0.68,
          0.6900000000000001,
          0.7000000000000001,
          0.7100000000000001,
          0.7200000000000001,
          0.7300000000000001,
          0.7400000000000001,
          0.7500000000000001,
          0.7600000000000001,
          0.7700000000000001,
          0.7800000000000001,
          0.7900000000000001,
          0.8000000000000002,
          0.8100000000000002,
          0.8200000000000002,
          0.8300000000000002,
          0.8400000000000002,
          0.8500000000000002,
          0.8600000000000002,
          0.8700000000000002,
          0.8800000000000002,
          0.8900000000000002,
          0.9000000000000002,
          0.9100000000000003,
          0.9200000000000003,
          0.9300000000000003,
          0.9400000000000003,
          0.9500000000000003,
          0.9600000000000003,
          0.9700000000000003,
          0.9800000000000003,
          0.9900000000000003,
          1.0000000000000002,
          1.0100000000000002,
          1.0200000000000002,
          1.0300000000000002,
          1.0400000000000003,
          1.0500000000000003,
          1.0600000000000003,
          1.0700000000000003,
          1.0800000000000003,
          1.0900000000000003,
          1.1000000000000003,
          1.1100000000000003,
          1.1200000000000003,
          1.1300000000000003,
          1.1400000000000003,
          1.1500000000000004,
          1.1600000000000004,
          1.1700000000000004,
          1.1800000000000004,
          1.1900000000000004,
          1.2000000000000004,
          1.2100000000000004,
          1.2200000000000004,
          1.2300000000000004,
          1.2400000000000004,
          1.2500000000000004,
          1.2600000000000005,
          1.2700000000000005,
          1.2800000000000005,
          1.2900000000000005,
          1.3000000000000005,
          1.3100000000000005,
          1.3200000000000005,
          1.3300000000000005,
          1.3400000000000005,
          1.3500000000000005,
          1.3600000000000005,
          1.3700000000000006,
          1.3800000000000006,
          1.3900000000000006,
          1.4000000000000006,
          1.4100000000000006,
          1.4200000000000006,
          1.4300000000000006,
          1.4400000000000006,
          1.4500000000000006,
          1.4600000000000006,
          1.4700000000000006,
          1.4800000000000006,
          1.4900000000000007,
          1.5000000000000007,
          1.5100000000000007,
          1.5200000000000007,
          1.5300000000000007,
          1.5400000000000007,
          1.5500000000000007,
          1.5600000000000007,
          1.5700000000000007,
          1.5800000000000007,
          1.5900000000000007,
          1.6000000000000008,
          1.6100000000000008,
          1.6200000000000008,
          1.6300000000000008,
          1.6400000000000008,
          1.6500000000000008,
          1.6600000000000008,
          1.6700000000000008,
          1.6800000000000008,
          1.6900000000000008,
          1.7000000000000008,
          1.7100000000000009,
          1.7200000000000009,
          1.7300000000000009,
          1.7400000000000009,
          1.7500000000000009,
          1.760000000000001,
          1.770000000000001,
          1.780000000000001,
          1.790000000000001,
          1.800000000000001,
          1.810000000000001,
          1.820000000000001,
          1.830000000000001,
          1.840000000000001,
          1.850000000000001,
          1.860000000000001,
          1.870000000000001,
          1.880000000000001,
          1.890000000000001,
          1.900000000000001,
          1.910000000000001,
          1.920000000000001,
          1.930000000000001,
          1.940000000000001,
          1.950000000000001,
          1.960000000000001,
          1.970000000000001,
          1.980000000000001,
          1.990000000000001,
          2.000000000000001,
          2.010000000000001,
          2.020000000000001,
          2.030000000000001,
          2.040000000000001,
          2.050000000000001,
          2.060000000000001,
          2.070000000000001,
          2.080000000000001,
          2.090000000000001,
          2.100000000000001,
          2.110000000000001,
          2.120000000000001,
          2.1300000000000012,
          2.140000000000001,
          2.1500000000000012,
          2.160000000000001,
          2.1700000000000013,
          2.180000000000001,
          2.1900000000000013,
          2.200000000000001,
          2.2100000000000013,
          2.220000000000001,
          2.2300000000000013,
          2.240000000000001,
          2.2500000000000013,
          2.260000000000001,
          2.2700000000000014,
          2.280000000000001,
          2.2900000000000014,
          2.300000000000001,
          2.3100000000000014,
          2.320000000000001,
          2.3300000000000014,
          2.340000000000001,
          2.3500000000000014,
          2.360000000000001,
          2.3700000000000014,
          2.3800000000000012,
          2.3900000000000015,
          2.4000000000000012,
          2.4100000000000015,
          2.4200000000000013,
          2.4300000000000015,
          2.4400000000000013,
          2.4500000000000015,
          2.4600000000000013,
          2.4700000000000015,
          2.4800000000000013,
          2.4900000000000015,
          2.5000000000000013,
          2.5100000000000016,
          2.5200000000000014,
          2.5300000000000016,
          2.5400000000000014,
          2.5500000000000016,
          2.5600000000000014,
          2.5700000000000016,
          2.5800000000000014,
          2.5900000000000016,
          2.6000000000000014,
          2.6100000000000017,
          2.6200000000000014,
          2.6300000000000017,
          2.6400000000000015,
          2.6500000000000017,
          2.6600000000000015,
          2.6700000000000017,
          2.6800000000000015,
          2.6900000000000017,
          2.7000000000000015,
          2.7100000000000017,
          2.7200000000000015,
          2.7300000000000018,
          2.7400000000000015,
          2.7500000000000018,
          2.7600000000000016,
          2.770000000000002,
          2.7800000000000016,
          2.790000000000002,
          2.8000000000000016,
          2.810000000000002,
          2.8200000000000016,
          2.830000000000002,
          2.8400000000000016,
          2.850000000000002,
          2.8600000000000017,
          2.870000000000002,
          2.8800000000000017,
          2.890000000000002,
          2.9000000000000017,
          2.910000000000002,
          2.9200000000000017,
          2.930000000000002,
          2.9400000000000017,
          2.950000000000002,
          2.9600000000000017,
          2.970000000000002,
          2.9800000000000018,
          2.990000000000002,
          3.0000000000000018,
          3.010000000000002,
          3.020000000000002,
          3.030000000000002,
          3.040000000000002,
          3.050000000000002,
          3.060000000000002,
          3.070000000000002,
          3.080000000000002,
          3.090000000000002,
          3.100000000000002,
          3.110000000000002,
          3.120000000000002,
          3.130000000000002,
          3.140000000000002,
          3.150000000000002,
          3.160000000000002,
          3.170000000000002,
          3.180000000000002,
          3.190000000000002,
          3.200000000000002,
          3.210000000000002,
          3.220000000000002,
          3.230000000000002,
          3.240000000000002,
          3.250000000000002,
          3.260000000000002,
          3.2700000000000022,
          3.280000000000002,
          3.2900000000000023,
          3.300000000000002,
          3.3100000000000023,
          3.320000000000002,
          3.3300000000000023,
          3.340000000000002,
          3.3500000000000023,
          3.360000000000002,
          3.3700000000000023,
          3.380000000000002,
          3.3900000000000023,
          3.400000000000002,
          3.4100000000000024,
          3.420000000000002,
          3.4300000000000024,
          3.440000000000002,
          3.4500000000000024,
          3.460000000000002,
          3.4700000000000024,
          3.480000000000002,
          3.4900000000000024,
          3.500000000000002,
          3.5100000000000025,
          3.5200000000000022,
          3.5300000000000025,
          3.5400000000000023,
          3.5500000000000025,
          3.5600000000000023,
          3.5700000000000025,
          3.5800000000000023,
          3.5900000000000025,
          3.6000000000000023,
          3.6100000000000025,
          3.6200000000000023,
          3.6300000000000026,
          3.6400000000000023,
          3.6500000000000026,
          3.6600000000000024,
          3.6700000000000026,
          3.6800000000000024,
          3.6900000000000026,
          3.7000000000000024,
          3.7100000000000026,
          3.7200000000000024,
          3.7300000000000026,
          3.7400000000000024,
          3.7500000000000027,
          3.7600000000000025,
          3.7700000000000027,
          3.7800000000000025,
          3.7900000000000027,
          3.8000000000000025,
          3.8100000000000027,
          3.8200000000000025,
          3.8300000000000027,
          3.8400000000000025,
          3.8500000000000028,
          3.8600000000000025,
          3.8700000000000028,
          3.8800000000000026,
          3.890000000000003,
          3.9000000000000026,
          3.910000000000003,
          3.9200000000000026,
          3.930000000000003,
          3.9400000000000026,
          3.950000000000003,
          3.9600000000000026,
          3.970000000000003,
          3.9800000000000026,
          3.990000000000003,
          4.000000000000003,
          4.0100000000000025,
          4.020000000000002,
          4.030000000000003,
          4.040000000000003,
          4.0500000000000025,
          4.060000000000002,
          4.070000000000003,
          4.080000000000003,
          4.0900000000000025,
          4.100000000000002,
          4.110000000000003,
          4.120000000000003,
          4.130000000000003,
          4.140000000000002,
          4.150000000000003,
          4.160000000000003,
          4.170000000000003,
          4.180000000000002,
          4.190000000000003,
          4.200000000000003,
          4.210000000000003,
          4.220000000000002,
          4.230000000000003,
          4.240000000000003,
          4.250000000000003,
          4.2600000000000025,
          4.270000000000003,
          4.280000000000003,
          4.290000000000003,
          4.3000000000000025,
          4.310000000000003,
          4.320000000000003,
          4.330000000000003,
          4.3400000000000025,
          4.350000000000003,
          4.360000000000003,
          4.370000000000003,
          4.380000000000003,
          4.390000000000003,
          4.400000000000003,
          4.410000000000003,
          4.420000000000003,
          4.430000000000003,
          4.440000000000003,
          4.450000000000003,
          4.460000000000003,
          4.470000000000003,
          4.480000000000003,
          4.490000000000003,
          4.500000000000003,
          4.510000000000003,
          4.520000000000003,
          4.530000000000003,
          4.540000000000003,
          4.550000000000003,
          4.560000000000003,
          4.570000000000003,
          4.580000000000003,
          4.590000000000003,
          4.600000000000003,
          4.610000000000003,
          4.620000000000003,
          4.6300000000000034,
          4.640000000000003,
          4.650000000000003,
          4.660000000000003,
          4.6700000000000035,
          4.680000000000003,
          4.690000000000003,
          4.700000000000003,
          4.7100000000000035,
          4.720000000000003,
          4.730000000000003,
          4.740000000000003,
          4.7500000000000036,
          4.760000000000003,
          4.770000000000003,
          4.780000000000003,
          4.790000000000004,
          4.800000000000003,
          4.810000000000003,
          4.820000000000003,
          4.830000000000004,
          4.840000000000003,
          4.850000000000003,
          4.860000000000003,
          4.870000000000004,
          4.8800000000000034,
          4.890000000000003,
          4.900000000000003,
          4.910000000000004,
          4.9200000000000035,
          4.930000000000003,
          4.940000000000003,
          4.950000000000004,
          4.9600000000000035,
          4.970000000000003,
          4.980000000000003,
          4.990000000000004,
          5.0000000000000036,
          5.010000000000003,
          5.020000000000003,
          5.030000000000004,
          5.040000000000004,
          5.050000000000003,
          5.060000000000003,
          5.070000000000004,
          5.080000000000004,
          5.090000000000003,
          5.100000000000003,
          5.110000000000004,
          5.120000000000004,
          5.1300000000000034,
          5.140000000000003,
          5.150000000000004,
          5.160000000000004,
          5.1700000000000035,
          5.180000000000003,
          5.190000000000004,
          5.200000000000004,
          5.2100000000000035,
          5.220000000000003,
          5.230000000000004,
          5.240000000000004,
          5.2500000000000036,
          5.260000000000003,
          5.270000000000004,
          5.280000000000004,
          5.290000000000004,
          5.300000000000003,
          5.310000000000004,
          5.320000000000004,
          5.330000000000004,
          5.340000000000003,
          5.350000000000004,
          5.360000000000004,
          5.370000000000004,
          5.3800000000000034,
          5.390000000000004,
          5.400000000000004,
          5.410000000000004,
          5.4200000000000035,
          5.430000000000004,
          5.440000000000004,
          5.450000000000004,
          5.4600000000000035,
          5.470000000000004,
          5.480000000000004,
          5.490000000000004,
          5.5000000000000036,
          5.510000000000004,
          5.520000000000004,
          5.530000000000004,
          5.540000000000004,
          5.550000000000004,
          5.560000000000004,
          5.570000000000004,
          5.580000000000004,
          5.590000000000004,
          5.600000000000004,
          5.610000000000004,
          5.620000000000004,
          5.630000000000004,
          5.640000000000004,
          5.650000000000004,
          5.660000000000004,
          5.670000000000004,
          5.680000000000004,
          5.690000000000004,
          5.700000000000004,
          5.710000000000004,
          5.720000000000004,
          5.730000000000004,
          5.740000000000004,
          5.750000000000004,
          5.760000000000004,
          5.770000000000004,
          5.780000000000004,
          5.7900000000000045,
          5.800000000000004,
          5.810000000000004,
          5.820000000000004,
          5.8300000000000045,
          5.840000000000004,
          5.850000000000004,
          5.860000000000004,
          5.8700000000000045,
          5.880000000000004,
          5.890000000000004,
          5.900000000000004,
          5.910000000000005,
          5.920000000000004,
          5.930000000000004,
          5.940000000000004,
          5.950000000000005,
          5.960000000000004,
          5.970000000000004,
          5.980000000000004,
          5.990000000000005,
          6.000000000000004,
          6.010000000000004,
          6.020000000000004,
          6.030000000000005,
          6.0400000000000045,
          6.050000000000004,
          6.060000000000004,
          6.070000000000005,
          6.0800000000000045,
          6.090000000000004,
          6.100000000000004,
          6.110000000000005,
          6.1200000000000045,
          6.130000000000004,
          6.140000000000004,
          6.150000000000005,
          6.160000000000005,
          6.170000000000004,
          6.180000000000004,
          6.190000000000005,
          6.200000000000005,
          6.210000000000004,
          6.220000000000004,
          6.230000000000005,
          6.240000000000005,
          6.250000000000004,
          6.260000000000004,
          6.270000000000005,
          6.280000000000005
         ],
         "y": [
          0,
          0.009999833334166664,
          0.01999866669333308,
          0.02999550020249566,
          0.03998933418663416,
          0.04997916927067833,
          0.059964006479444595,
          0.06994284733753277,
          0.0799146939691727,
          0.08987854919801104,
          0.09983341664682815,
          0.10977830083717482,
          0.11971220728891936,
          0.12963414261969486,
          0.1395431146442365,
          0.14943813247359924,
          0.15931820661424598,
          0.16918234906699603,
          0.1790295734258242,
          0.1888588949765006,
          0.19866933079506122,
          0.20845989984609958,
          0.21822962308086935,
          0.22797752353518844,
          0.2377026264271346,
          0.24740395925452294,
          0.2570805518921551,
          0.26673143668883115,
          0.27635564856411376,
          0.28595222510483553,
          0.29552020666133955,
          0.3050586364434435,
          0.31456656061611776,
          0.3240430283948683,
          0.33348709214081435,
          0.34289780745545134,
          0.35227423327508994,
          0.36161543196496193,
          0.3709204694129826,
          0.38018841512316137,
          0.38941834230865047,
          0.39860932798442283,
          0.40776045305957015,
          0.4168708024292107,
          0.42593946506599956,
          0.4349655341112301,
          0.4439481069655197,
          0.4528862853790682,
          0.46177917554148284,
          0.4706258881711579,
          0.4794255386042029,
          0.4881772468829074,
          0.49688013784373664,
          0.5055333412048468,
          0.5141359916531131,
          0.5226872289306591,
          0.5311861979208834,
          0.5396320487339692,
          0.5480239367918736,
          0.5563610229127838,
          0.5646424733950354,
          0.5728674601004813,
          0.5810351605373051,
          0.5891447579422695,
          0.5971954413623921,
          0.6051864057360395,
          0.6131168519734338,
          0.6209859870365597,
          0.6287930240184686,
          0.636537182221968,
          0.6442176872376911,
          0.6518337710215367,
          0.6593846719714732,
          0.6668696350036979,
          0.6742879116281452,
          0.6816387600233342,
          0.6889214451105514,
          0.6961352386273568,
          0.7032794192004103,
          0.7103532724176079,
          0.7173560908995229,
          0.7242871743701427,
          0.731145829726896,
          0.7379313711099629,
          0.7446431199708594,
          0.7512804051402928,
          0.7578425628952771,
          0.7643289370255052,
          0.7707388788989694,
          0.7770717475268241,
          0.7833269096274835,
          0.7895037396899506,
          0.7956016200363661,
          0.8016199408837773,
          0.8075581004051144,
          0.813415504789374,
          0.8191915683009985,
          0.8248857133384503,
          0.8304973704919706,
          0.8360259786005206,
          0.8414709848078966,
          0.8468318446180153,
          0.8521080219493631,
          0.8572989891886035,
          0.8624042272433385,
          0.8674232255940171,
          0.8723554823449864,
          0.8772005042746818,
          0.8819578068849476,
          0.8866269144494874,
          0.8912073600614355,
          0.8956986856800477,
          0.9001004421765051,
          0.9044121893788261,
          0.9086334961158834,
          0.9127639402605212,
          0.9168031087717671,
          0.9207505977361358,
          0.9246060124080205,
          0.9283689672491668,
          0.9320390859672265,
          0.9356160015533861,
          0.9390993563190677,
          0.9424888019316977,
          0.9457839994495392,
          0.9489846193555863,
          0.9520903415905159,
          0.9551008555846924,
          0.9580158602892251,
          0.9608350642060728,
          0.9635581854171931,
          0.9661849516127342,
          0.9687151001182653,
          0.9711483779210447,
          0.9734845416953195,
          0.9757233578266592,
          0.9778646024353163,
          0.9799080613986143,
          0.9818535303723598,
          0.9837008148112767,
          0.9854497299884603,
          0.9871001010138505,
          0.9886517628517199,
          0.9901045603371779,
          0.9914583481916865,
          0.9927129910375886,
          0.9938683634116449,
          0.9949243497775809,
          0.9958808445376401,
          0.9967377520431434,
          0.9974949866040544,
          0.9981524724975481,
          0.998710143975583,
          0.999167945271476,
          0.9995258306054791,
          0.999783764189357,
          0.9999417202299663,
          0.9999996829318346,
          0.9999576464987401,
          0.9998156151342908,
          0.9995736030415051,
          0.9992316344213905,
          0.998789743470524,
          0.9982479743776325,
          0.9976063813191736,
          0.9968650284539188,
          0.9960239899165366,
          0.9950833498101801,
          0.9940432021980758,
          0.9929036510941184,
          0.9916648104524685,
          0.9903268041561579,
          0.9888897660047014,
          0.9873538397007163,
          0.9857191788355534,
          0.9839859468739367,
          0.9821543171376182,
          0.9802244727880453,
          0.9781966068080444,
          0.976070921982524,
          0.9738476308781949,
          0.9715269558223151,
          0.9691091288804562,
          0.9665943918332973,
          0.9639829961524479,
          0.9612752029752997,
          0.9584712830789139,
          0.9555715168529436,
          0.952576194271595,
          0.9494856148646301,
          0.9463000876874141,
          0.9430199312900102,
          0.9396454736853246,
          0.9361770523163057,
          0.9326150140222002,
          0.9289597150038689,
          0.9252115207881678,
          0.921370806191395,
          0.9174379552818094,
          0.9134133613412247,
          0.9092974268256814,
          0.9050905633252004,
          0.9007931915226269,
          0.8964057411515594,
          0.8919286509533793,
          0.8873623686333749,
          0.8827073508159736,
          0.8779640629990775,
          0.873132979507516,
          0.868214583445612,
          0.8632093666488733,
          0.8581178296348082,
          0.8529404815528757,
          0.8476778401335691,
          0.8423304316366452,
          0.836898790798497,
          0.8313834607786826,
          0.8257849931056074,
          0.8201039476213736,
          0.8143408924257952,
          0.8084964038195895,
          0.8025710662467465,
          0.796565472236086,
          0.790480222342004,
          0.7843159250844194,
          0.7780731968879204,
          0.7717526620201252,
          0.7653549525292527,
          0.7588807081809211,
          0.7523305763941698,
          0.7457052121767194,
          0.73900527805947,
          0.7322314440302505,
          0.7253843874668187,
          0.7184647930691253,
          0.7114733527908434,
          0.7044107657701753,
          0.6972777382599368,
          0.6900749835569354,
          0.6828032219306387,
          0.67546318055115,
          0.66805559341649,
          0.6605812012791997,
          0.6530407515722638,
          0.6454349983343697,
          0.6377647021345025,
          0.6300306299958912,
          0.6222335553193036,
          0.6143742578057106,
          0.6064535233783137,
          0.5984721441039554,
          0.5904309181139116,
          0.5823306495240808,
          0.5741721483545712,
          0.5659562304487017,
          0.5576837173914155,
          0.5493554364271255,
          0.5409722203769871,
          0.53253490755562,
          0.5240443416872747,
          0.515501371821463,
          0.506906852248052,
          0.4982616424118374,
          0.48956660682659797,
          0.4808226149886471,
          0.4720305412898811,
          0.46319126493034396,
          0.45430566983030485,
          0.4453746445418699,
          0.43639908216012474,
          0.42737988023382856,
          0.41831794067565736,
          0.40921416967201607,
          0.4000694775924179,
          0.39088477889845097,
          0.38166099205233006,
          0.3723990394250541,
          0.36309984720416666,
          0.3537643453011414,
          0.3443934672583883,
          0.3349881501559034,
          0.32554933451755835,
          0.31607796421705214,
          0.3065749863835212,
          0.2970413513068307,
          0.2874780123425427,
          0.27788592581658506,
          0.2682660509296162,
          0.2586193496611091,
          0.24894678667315084,
          0.23924932921398068,
          0.22952794702126247,
          0.21978361222511522,
          0.2100172992508974,
          0.20022998472176878,
          0.19042264736102532,
          0.18059626789423117,
          0.17075182895114357,
          0.160890314967454,
          0.1510127120863421,
          0.14112000805986546,
          0.13121319215018204,
          0.12129325503062799,
          0.11136118868664781,
          0.1014179863166001,
          0.09146464223243499,
          0.08150215176026736,
          0.07153151114084148,
          0.06155371742991137,
          0.05156976839853242,
          0.041580662433288715,
          0.031587398436451676,
          0.021590975726094183,
          0.011592393936156055,
          0.0015926529164850519,
          -0.008407247367150837,
          -0.018406306933055585,
          -0.028403525883606007,
          -0.038397904505237154,
          -0.04838844336841636,
          -0.05837414342758186,
          -0.06835400612105,
          -0.07832703347086707,
          -0.0882922281826098,
          -0.09824859374511045,
          -0.10819513453011058,
          -0.11813085589181957,
          -0.12805476426638188,
          -0.13796586727122906,
          -0.1478631738043207,
          -0.1577456941432504,
          -0.16761244004422052,
          -0.17746242484086233,
          -0.18729466354290536,
          -0.19710817293467203,
          -0.20690197167340194,
          -0.21667508038738179,
          -0.2264265217738853,
          -0.23615532069689915,
          -0.24586050428463918,
          -0.2555411020268334,
          -0.26519614587177553,
          -0.27482467032312613,
          -0.28442571253646465,
          -0.29399831241556973,
          -0.30354151270843144,
          -0.3130543591029723,
          -0.3225359003224811,
          -0.3319851882207362,
          -0.34140127787682306,
          -0.35078322768962195,
          -0.36013009947197067,
          -0.36944095854447917,
          -0.3787148738290001,
          -0.38795091794173236,
          -0.39714816728596225,
          -0.4063057021444188,
          -0.4154226067712483,
          -0.4244979694835846,
          -0.4335308827527201,
          -0.44252044329485446,
          -0.45146575216142554,
          -0.46036591482900024,
          -0.46922004128872946,
          -0.4780272461353448,
          -0.4867866486557017,
          -0.49549737291684687,
          -0.5041585478536138,
          -0.5127693073557257,
          -0.5213287903544088,
          -0.5298361409084953,
          -0.5382905082900199,
          -0.5466910470692891,
          -0.555036917199426,
          -0.5633272841003719,
          -0.571561318742346,
          -0.5797381977287449,
          -0.587857103378485,
          -0.595917223807766,
          -0.6039177530112627,
          -0.611857890942721,
          -0.6197368435949653,
          -0.6275538230792954,
          -0.6353080477042777,
          -0.6429987420539108,
          -0.6506251370651694,
          -0.6581864701049069,
          -0.6656819850461212,
          -0.6731109323435636,
          -0.6804725691086959,
          -0.6877661591839757,
          -0.6949909732164739,
          -0.7021462887308073,
          -0.709231390201388,
          -0.7162455691239724,
          -0.723188124086514,
          -0.7300583608393014,
          -0.7368555923643851,
          -0.7435791389442764,
          -0.7502283282299207,
          -0.75680249530793,
          -0.7633009827670751,
          -0.7697231407640256,
          -0.776068327088334,
          -0.7823359072266545,
          -0.7885252544261966,
          -0.7946357497573985,
          -0.8006667821758192,
          -0.8066177485832421,
          -0.8124880538879858,
          -0.8182771110644118,
          -0.8239843412116272,
          -0.8296091736113723,
          -0.8351510457850949,
          -0.840609403550196,
          -0.845983701075448,
          -0.8512734009355759,
          -0.8564779741650025,
          -0.8615969003107419,
          -0.8666296674844456,
          -0.8715757724135894,
          -0.8764347204918026,
          -0.8812060258283265,
          -0.8858892112966039,
          -0.8904838085819897,
          -0.8949893582285847,
          -0.8994054096851788,
          -0.9037315213503069,
          -0.9079672606164065,
          -0.9121122039130815,
          -0.916165936749456,
          -0.920128053755625,
          -0.923998158723189,
          -0.9277758646448765,
          -0.9314607937532435,
          -0.9350525775584503,
          -0.9385508568851088,
          -0.9419552819082019,
          -0.9452655121880642,
          -0.9484812167044268,
          -0.9516020738895169,
          -0.9546277716602172,
          -0.9575580074492719,
          -0.9603924882355444,
          -0.9631309305733173,
          -0.9657730606206395,
          -0.9683186141667078,
          -0.9707673366582891,
          -0.9731189832251744,
          -0.975373318704667,
          -0.9775301176650976,
          -0.9795891644283675,
          -0.981550253091516,
          -0.9834131875473112,
          -0.9851777815038599,
          -0.9868438585032371,
          -0.988411251939131,
          -0.9898798050735043,
          -0.9912493710522673,
          -0.9925198129199636,
          -0.9936910036334649,
          -0.9947628260746758,
          -0.9957351730622456,
          -0.9966079473622858,
          -0.9973810616980935,
          -0.9980544387588796,
          -0.998628011207499,
          -0.9991017216871849,
          -0.9994755228272841,
          -0.9997493772479941,
          -0.9999232575641009,
          -0.999997146387718,
          -0.9999710363300245,
          -0.9998449300020044,
          -0.9996188400141853,
          -0.9992927889753778,
          -0.998866809490414,
          -0.9983409441568873,
          -0.9977152455608931,
          -0.9969897762717693,
          -0.9961646088358403,
          -0.9952398257691623,
          -0.9942155195492711,
          -0.9930917926059349,
          -0.9918687573109122,
          -0.9905465359667127,
          -0.9891252607943694,
          -0.9876050739202148,
          -0.9859861273616697,
          -0.9842685830120409,
          -0.9824526126243319,
          -0.9805383977940682,
          -0.9785261299411377,
          -0.9764160102906491,
          -0.9742082498528085,
          -0.9719030694018199,
          -0.9695006994538079,
          -0.9670013802437651,
          -0.9644053617015298,
          -0.9617129034267925,
          -0.9589242746631375,
          -0.9560397542711171,
          -0.9530596307003667,
          -0.9499842019607597,
          -0.9468137755926077,
          -0.9435486686359055,
          -0.9401892075986275,
          -0.9367357284240777,
          -0.9331885764572964,
          -0.9295481064105238,
          -0.9258146823277311,
          -0.9219886775482149,
          -0.9180704746692656,
          -0.9140604655079055,
          -0.9099590510617092,
          -0.905766641468703,
          -0.9014836559663533,
          -0.8971105228496409,
          -0.8926476794282331,
          -0.8880955719827527,
          -0.8834546557201515,
          -0.8787253947281881,
          -0.8739082619290207,
          -0.8690037390319143,
          -0.8640123164850726,
          -0.8589344934265902,
          -0.8537707776345416,
          -0.8485216854762022,
          -0.8431877418564148,
          -0.8377694801650959,
          -0.8322674422238993,
          -0.8266821782320337,
          -0.821014246711245,
          -0.8152642144499614,
          -0.8094326564466174,
          -0.8035201558521532,
          -0.7975273039117021,
          -0.7914546999054638,
          -0.7853029510887783,
          -0.7790726726314003,
          -0.7727644875559849,
          -0.7663790266757821,
          -0.7599169285315588,
          -0.7533788393277436,
          -0.74676541286781,
          -0.7400773104888919,
          -0.7333152009956541,
          -0.72647976059341,
          -0.719571672820505,
          -0.7125916284799589,
          -0.7055403255703894,
          -0.6984184692162104,
          -0.6912267715971239,
          -0.683965951876898,
          -0.6766367361314543,
          -0.6692398572762587,
          -0.6617760549930343,
          -0.6542460756557886,
          -0.6466506722561808,
          -0.6389906043282203,
          -0.6312666378723182,
          -0.6234795452786825,
          -0.6156301052500835,
          -0.6077191027239823,
          -0.5997473287940402,
          -0.5917155806310065,
          -0.5836246614030044,
          -0.5754753801952135,
          -0.567268551928965,
          -0.5590049972802459,
          -0.5506855425976347,
          -0.542311019819666,
          -0.5338822663916405,
          -0.5254001251818762,
          -0.5168654443974258,
          -0.5082790774992545,
          -0.4996418831168986,
          -0.49095472496259784,
          -0.48221847174492843,
          -0.4734339970819311,
          -0.4646021794137534,
          -0.45572390191480155,
          -0.44680005240542686,
          -0.4378315232631429,
          -0.4288192113333919,
          -0.4197640178398556,
          -0.41066684829433764,
          -0.40152861240621057,
          -0.39235022399144975,
          -0.3831326008812473,
          -0.37387666483023274,
          -0.3645833414242972,
          -0.35525355998803854,
          -0.34588825349182467,
          -0.3364883584585009,
          -0.3270548148697365,
          -0.3175885660720306,
          -0.3080905586823739,
          -0.2985617424935902,
          -0.2890030703793569,
          -0.2794154981989216,
          -0.2697999847015119,
          -0.2601574914304646,
          -0.2504889826270706,
          -0.24079542513415486,
          -0.2310777882993879,
          -0.2213370438783552,
          -0.2115741659373807,
          -0.20179013075612454,
          -0.19198591672995066,
          -0.18216250427209152,
          -0.17232087571560586,
          -0.1624620152151498,
          -0.15258690864855676,
          -0.1426965435182542,
          -0.13279190885251232,
          -0.12287399510654563,
          -0.11294379406346296,
          -0.10300229873509344,
          -0.09305050326268448,
          -0.08308940281749197,
          -0.07311999350125865,
          -0.06314327224660835,
          -0.05316023671735169,
          -0.043171885208724246,
          -0.033179216547552376,
          -0.02318322999237501,
          -0.01318492513351681,
          -0.0031853017931335495
         ]
        }
       ],
       "layout": {
        "showlegend": true,
        "template": {
         "data": {
          "bar": [
           {
            "error_x": {
             "color": "#2a3f5f"
            },
            "error_y": {
             "color": "#2a3f5f"
            },
            "marker": {
             "line": {
              "color": "#E5ECF6",
              "width": 0.5
             }
            },
            "type": "bar"
           }
          ],
          "barpolar": [
           {
            "marker": {
             "line": {
              "color": "#E5ECF6",
              "width": 0.5
             }
            },
            "type": "barpolar"
           }
          ],
          "carpet": [
           {
            "aaxis": {
             "endlinecolor": "#2a3f5f",
             "gridcolor": "white",
             "linecolor": "white",
             "minorgridcolor": "white",
             "startlinecolor": "#2a3f5f"
            },
            "baxis": {
             "endlinecolor": "#2a3f5f",
             "gridcolor": "white",
             "linecolor": "white",
             "minorgridcolor": "white",
             "startlinecolor": "#2a3f5f"
            },
            "type": "carpet"
           }
          ],
          "choropleth": [
           {
            "colorbar": {
             "outlinewidth": 0,
             "ticks": ""
            },
            "type": "choropleth"
           }
          ],
          "contour": [
           {
            "colorbar": {
             "outlinewidth": 0,
             "ticks": ""
            },
            "colorscale": [
             [
              0,
              "#0d0887"
             ],
             [
              0.1111111111111111,
              "#46039f"
             ],
             [
              0.2222222222222222,
              "#7201a8"
             ],
             [
              0.3333333333333333,
              "#9c179e"
             ],
             [
              0.4444444444444444,
              "#bd3786"
             ],
             [
              0.5555555555555556,
              "#d8576b"
             ],
             [
              0.6666666666666666,
              "#ed7953"
             ],
             [
              0.7777777777777778,
              "#fb9f3a"
             ],
             [
              0.8888888888888888,
              "#fdca26"
             ],
             [
              1,
              "#f0f921"
             ]
            ],
            "type": "contour"
           }
          ],
          "contourcarpet": [
           {
            "colorbar": {
             "outlinewidth": 0,
             "ticks": ""
            },
            "type": "contourcarpet"
           }
          ],
          "heatmap": [
           {
            "colorbar": {
             "outlinewidth": 0,
             "ticks": ""
            },
            "colorscale": [
             [
              0,
              "#0d0887"
             ],
             [
              0.1111111111111111,
              "#46039f"
             ],
             [
              0.2222222222222222,
              "#7201a8"
             ],
             [
              0.3333333333333333,
              "#9c179e"
             ],
             [
              0.4444444444444444,
              "#bd3786"
             ],
             [
              0.5555555555555556,
              "#d8576b"
             ],
             [
              0.6666666666666666,
              "#ed7953"
             ],
             [
              0.7777777777777778,
              "#fb9f3a"
             ],
             [
              0.8888888888888888,
              "#fdca26"
             ],
             [
              1,
              "#f0f921"
             ]
            ],
            "type": "heatmap"
           }
          ],
          "heatmapgl": [
           {
            "colorbar": {
             "outlinewidth": 0,
             "ticks": ""
            },
            "colorscale": [
             [
              0,
              "#0d0887"
             ],
             [
              0.1111111111111111,
              "#46039f"
             ],
             [
              0.2222222222222222,
              "#7201a8"
             ],
             [
              0.3333333333333333,
              "#9c179e"
             ],
             [
              0.4444444444444444,
              "#bd3786"
             ],
             [
              0.5555555555555556,
              "#d8576b"
             ],
             [
              0.6666666666666666,
              "#ed7953"
             ],
             [
              0.7777777777777778,
              "#fb9f3a"
             ],
             [
              0.8888888888888888,
              "#fdca26"
             ],
             [
              1,
              "#f0f921"
             ]
            ],
            "type": "heatmapgl"
           }
          ],
          "histogram": [
           {
            "marker": {
             "colorbar": {
              "outlinewidth": 0,
              "ticks": ""
             }
            },
            "type": "histogram"
           }
          ],
          "histogram2d": [
           {
            "colorbar": {
             "outlinewidth": 0,
             "ticks": ""
            },
            "colorscale": [
             [
              0,
              "#0d0887"
             ],
             [
              0.1111111111111111,
              "#46039f"
             ],
             [
              0.2222222222222222,
              "#7201a8"
             ],
             [
              0.3333333333333333,
              "#9c179e"
             ],
             [
              0.4444444444444444,
              "#bd3786"
             ],
             [
              0.5555555555555556,
              "#d8576b"
             ],
             [
              0.6666666666666666,
              "#ed7953"
             ],
             [
              0.7777777777777778,
              "#fb9f3a"
             ],
             [
              0.8888888888888888,
              "#fdca26"
             ],
             [
              1,
              "#f0f921"
             ]
            ],
            "type": "histogram2d"
           }
          ],
          "histogram2dcontour": [
           {
            "colorbar": {
             "outlinewidth": 0,
             "ticks": ""
            },
            "colorscale": [
             [
              0,
              "#0d0887"
             ],
             [
              0.1111111111111111,
              "#46039f"
             ],
             [
              0.2222222222222222,
              "#7201a8"
             ],
             [
              0.3333333333333333,
              "#9c179e"
             ],
             [
              0.4444444444444444,
              "#bd3786"
             ],
             [
              0.5555555555555556,
              "#d8576b"
             ],
             [
              0.6666666666666666,
              "#ed7953"
             ],
             [
              0.7777777777777778,
              "#fb9f3a"
             ],
             [
              0.8888888888888888,
              "#fdca26"
             ],
             [
              1,
              "#f0f921"
             ]
            ],
            "type": "histogram2dcontour"
           }
          ],
          "mesh3d": [
           {
            "colorbar": {
             "outlinewidth": 0,
             "ticks": ""
            },
            "type": "mesh3d"
           }
          ],
          "parcoords": [
           {
            "line": {
             "colorbar": {
              "outlinewidth": 0,
              "ticks": ""
             }
            },
            "type": "parcoords"
           }
          ],
          "pie": [
           {
            "automargin": true,
            "type": "pie"
           }
          ],
          "scatter": [
           {
            "marker": {
             "colorbar": {
              "outlinewidth": 0,
              "ticks": ""
             }
            },
            "type": "scatter"
           }
          ],
          "scatter3d": [
           {
            "line": {
             "colorbar": {
              "outlinewidth": 0,
              "ticks": ""
             }
            },
            "marker": {
             "colorbar": {
              "outlinewidth": 0,
              "ticks": ""
             }
            },
            "type": "scatter3d"
           }
          ],
          "scattercarpet": [
           {
            "marker": {
             "colorbar": {
              "outlinewidth": 0,
              "ticks": ""
             }
            },
            "type": "scattercarpet"
           }
          ],
          "scattergeo": [
           {
            "marker": {
             "colorbar": {
              "outlinewidth": 0,
              "ticks": ""
             }
            },
            "type": "scattergeo"
           }
          ],
          "scattergl": [
           {
            "marker": {
             "colorbar": {
              "outlinewidth": 0,
              "ticks": ""
             }
            },
            "type": "scattergl"
           }
          ],
          "scattermapbox": [
           {
            "marker": {
             "colorbar": {
              "outlinewidth": 0,
              "ticks": ""
             }
            },
            "type": "scattermapbox"
           }
          ],
          "scatterpolar": [
           {
            "marker": {
             "colorbar": {
              "outlinewidth": 0,
              "ticks": ""
             }
            },
            "type": "scatterpolar"
           }
          ],
          "scatterpolargl": [
           {
            "marker": {
             "colorbar": {
              "outlinewidth": 0,
              "ticks": ""
             }
            },
            "type": "scatterpolargl"
           }
          ],
          "scatterternary": [
           {
            "marker": {
             "colorbar": {
              "outlinewidth": 0,
              "ticks": ""
             }
            },
            "type": "scatterternary"
           }
          ],
          "surface": [
           {
            "colorbar": {
             "outlinewidth": 0,
             "ticks": ""
            },
            "colorscale": [
             [
              0,
              "#0d0887"
             ],
             [
              0.1111111111111111,
              "#46039f"
             ],
             [
              0.2222222222222222,
              "#7201a8"
             ],
             [
              0.3333333333333333,
              "#9c179e"
             ],
             [
              0.4444444444444444,
              "#bd3786"
             ],
             [
              0.5555555555555556,
              "#d8576b"
             ],
             [
              0.6666666666666666,
              "#ed7953"
             ],
             [
              0.7777777777777778,
              "#fb9f3a"
             ],
             [
              0.8888888888888888,
              "#fdca26"
             ],
             [
              1,
              "#f0f921"
             ]
            ],
            "type": "surface"
           }
          ],
          "table": [
           {
            "cells": {
             "fill": {
              "color": "#EBF0F8"
             },
             "line": {
              "color": "white"
             }
            },
            "header": {
             "fill": {
              "color": "#C8D4E3"
             },
             "line": {
              "color": "white"
             }
            },
            "type": "table"
           }
          ]
         },
         "layout": {
          "annotationdefaults": {
           "arrowcolor": "#2a3f5f",
           "arrowhead": 0,
           "arrowwidth": 1
          },
          "coloraxis": {
           "colorbar": {
            "outlinewidth": 0,
            "ticks": ""
           }
          },
          "colorscale": {
           "diverging": [
            [
             0,
             "#8e0152"
            ],
            [
             0.1,
             "#c51b7d"
            ],
            [
             0.2,
             "#de77ae"
            ],
            [
             0.3,
             "#f1b6da"
            ],
            [
             0.4,
             "#fde0ef"
            ],
            [
             0.5,
             "#f7f7f7"
            ],
            [
             0.6,
             "#e6f5d0"
            ],
            [
             0.7,
             "#b8e186"
            ],
            [
             0.8,
             "#7fbc41"
            ],
            [
             0.9,
             "#4d9221"
            ],
            [
             1,
             "#276419"
            ]
           ],
           "sequential": [
            [
             0,
             "#0d0887"
            ],
            [
             0.1111111111111111,
             "#46039f"
            ],
            [
             0.2222222222222222,
             "#7201a8"
            ],
            [
             0.3333333333333333,
             "#9c179e"
            ],
            [
             0.4444444444444444,
             "#bd3786"
            ],
            [
             0.5555555555555556,
             "#d8576b"
            ],
            [
             0.6666666666666666,
             "#ed7953"
            ],
            [
             0.7777777777777778,
             "#fb9f3a"
            ],
            [
             0.8888888888888888,
             "#fdca26"
            ],
            [
             1,
             "#f0f921"
            ]
           ],
           "sequentialminus": [
            [
             0,
             "#0d0887"
            ],
            [
             0.1111111111111111,
             "#46039f"
            ],
            [
             0.2222222222222222,
             "#7201a8"
            ],
            [
             0.3333333333333333,
             "#9c179e"
            ],
            [
             0.4444444444444444,
             "#bd3786"
            ],
            [
             0.5555555555555556,
             "#d8576b"
            ],
            [
             0.6666666666666666,
             "#ed7953"
            ],
            [
             0.7777777777777778,
             "#fb9f3a"
            ],
            [
             0.8888888888888888,
             "#fdca26"
            ],
            [
             1,
             "#f0f921"
            ]
           ]
          },
          "colorway": [
           "#636efa",
           "#EF553B",
           "#00cc96",
           "#ab63fa",
           "#FFA15A",
           "#19d3f3",
           "#FF6692",
           "#B6E880",
           "#FF97FF",
           "#FECB52"
          ],
          "font": {
           "color": "#2a3f5f"
          },
          "geo": {
           "bgcolor": "white",
           "lakecolor": "white",
           "landcolor": "#E5ECF6",
           "showlakes": true,
           "showland": true,
           "subunitcolor": "white"
          },
          "hoverlabel": {
           "align": "left"
          },
          "hovermode": "closest",
          "mapbox": {
           "style": "light"
          },
          "paper_bgcolor": "white",
          "plot_bgcolor": "#E5ECF6",
          "polar": {
           "angularaxis": {
            "gridcolor": "white",
            "linecolor": "white",
            "ticks": ""
           },
           "bgcolor": "#E5ECF6",
           "radialaxis": {
            "gridcolor": "white",
            "linecolor": "white",
            "ticks": ""
           }
          },
          "scene": {
           "xaxis": {
            "backgroundcolor": "#E5ECF6",
            "gridcolor": "white",
            "gridwidth": 2,
            "linecolor": "white",
            "showbackground": true,
            "ticks": "",
            "zerolinecolor": "white"
           },
           "yaxis": {
            "backgroundcolor": "#E5ECF6",
            "gridcolor": "white",
            "gridwidth": 2,
            "linecolor": "white",
            "showbackground": true,
            "ticks": "",
            "zerolinecolor": "white"
           },
           "zaxis": {
            "backgroundcolor": "#E5ECF6",
            "gridcolor": "white",
            "gridwidth": 2,
            "linecolor": "white",
            "showbackground": true,
            "ticks": "",
            "zerolinecolor": "white"
           }
          },
          "shapedefaults": {
           "line": {
            "color": "#2a3f5f"
           }
          },
          "ternary": {
           "aaxis": {
            "gridcolor": "white",
            "linecolor": "white",
            "ticks": ""
           },
           "baxis": {
            "gridcolor": "white",
            "linecolor": "white",
            "ticks": ""
           },
           "bgcolor": "#E5ECF6",
           "caxis": {
            "gridcolor": "white",
            "linecolor": "white",
            "ticks": ""
           }
          },
          "title": {
           "x": 0.05
          },
          "xaxis": {
           "automargin": true,
           "gridcolor": "white",
           "linecolor": "white",
           "ticks": "",
           "title": {
            "standoff": 15
           },
           "zerolinecolor": "white",
           "zerolinewidth": 2
          },
          "yaxis": {
           "automargin": true,
           "gridcolor": "white",
           "linecolor": "white",
           "ticks": "",
           "title": {
            "standoff": 15
           },
           "zerolinecolor": "white",
           "zerolinewidth": 2
          }
         }
        },
        "title": {
         "text": "linechart"
        },
        "xaxis": {
         "autorange": true,
         "title": {
          "text": "x"
         },
         "type": "linear"
        },
        "yaxis": {
         "title": {
          "text": "y"
         },
         "type": "linear"
        }
       }
      },
      "text/html": "<div>\n        \n        \n            <div id=\"1a7af367-ae0d-425e-97ae-ba9bf4eb6e97\" class=\"plotly-graph-div\" style=\"height:525px; width:100%;\"></div>\n            <script type=\"text/javascript\">\n                require([\"plotly\"], function(Plotly) {\n                    window.PLOTLYENV=window.PLOTLYENV || {};\n                    \n                if (document.getElementById(\"1a7af367-ae0d-425e-97ae-ba9bf4eb6e97\")) {\n                    Plotly.newPlot(\n                        '1a7af367-ae0d-425e-97ae-ba9bf4eb6e97',\n                        [{\"line\": {\"color\": \"rgb(31, 118, 179)\", \"width\": 1}, \"name\": \"y\", \"opacity\": 0.8, \"type\": \"scatter\", \"uid\": \"3cfe9359-55e4-4169-ad86-8017dcd22363\", \"x\": [0.0, 0.01, 0.02, 0.03, 0.04, 0.05, 0.06, 0.07, 0.08, 0.09, 0.1, 0.11000000000000001, 0.12, 0.13, 0.14, 0.15000000000000002, 0.16, 0.17, 0.18000000000000002, 0.19000000000000003, 0.2, 0.21000000000000002, 0.22000000000000003, 0.23000000000000004, 0.24000000000000002, 0.25, 0.26, 0.27, 0.28, 0.29, 0.3, 0.31, 0.32, 0.32999999999999996, 0.33999999999999997, 0.35, 0.36, 0.36999999999999994, 0.37999999999999995, 0.38999999999999996, 0.39999999999999997, 0.4099999999999999, 0.41999999999999993, 0.42999999999999994, 0.43999999999999995, 0.4499999999999999, 0.4599999999999999, 0.4699999999999999, 0.4799999999999999, 0.4899999999999999, 0.4999999999999999, 0.5099999999999999, 0.5199999999999999, 0.5299999999999999, 0.5399999999999999, 0.5499999999999999, 0.5599999999999999, 0.57, 0.58, 0.59, 0.6, 0.61, 0.62, 0.63, 0.64, 0.65, 0.66, 0.67, 0.68, 0.6900000000000001, 0.7000000000000001, 0.7100000000000001, 0.7200000000000001, 0.7300000000000001, 0.7400000000000001, 0.7500000000000001, 0.7600000000000001, 0.7700000000000001, 0.7800000000000001, 0.7900000000000001, 0.8000000000000002, 0.8100000000000002, 0.8200000000000002, 0.8300000000000002, 0.8400000000000002, 0.8500000000000002, 0.8600000000000002, 0.8700000000000002, 0.8800000000000002, 0.8900000000000002, 0.9000000000000002, 0.9100000000000003, 0.9200000000000003, 0.9300000000000003, 0.9400000000000003, 0.9500000000000003, 0.9600000000000003, 0.9700000000000003, 0.9800000000000003, 0.9900000000000003, 1.0000000000000002, 1.0100000000000002, 1.0200000000000002, 1.0300000000000002, 1.0400000000000003, 1.0500000000000003, 1.0600000000000003, 1.0700000000000003, 1.0800000000000003, 1.0900000000000003, 1.1000000000000003, 1.1100000000000003, 1.1200000000000003, 1.1300000000000003, 1.1400000000000003, 1.1500000000000004, 1.1600000000000004, 1.1700000000000004, 1.1800000000000004, 1.1900000000000004, 1.2000000000000004, 1.2100000000000004, 1.2200000000000004, 1.2300000000000004, 1.2400000000000004, 1.2500000000000004, 1.2600000000000005, 1.2700000000000005, 1.2800000000000005, 1.2900000000000005, 1.3000000000000005, 1.3100000000000005, 1.3200000000000005, 1.3300000000000005, 1.3400000000000005, 1.3500000000000005, 1.3600000000000005, 1.3700000000000006, 1.3800000000000006, 1.3900000000000006, 1.4000000000000006, 1.4100000000000006, 1.4200000000000006, 1.4300000000000006, 1.4400000000000006, 1.4500000000000006, 1.4600000000000006, 1.4700000000000006, 1.4800000000000006, 1.4900000000000007, 1.5000000000000007, 1.5100000000000007, 1.5200000000000007, 1.5300000000000007, 1.5400000000000007, 1.5500000000000007, 1.5600000000000007, 1.5700000000000007, 1.5800000000000007, 1.5900000000000007, 1.6000000000000008, 1.6100000000000008, 1.6200000000000008, 1.6300000000000008, 1.6400000000000008, 1.6500000000000008, 1.6600000000000008, 1.6700000000000008, 1.6800000000000008, 1.6900000000000008, 1.7000000000000008, 1.7100000000000009, 1.7200000000000009, 1.7300000000000009, 1.7400000000000009, 1.7500000000000009, 1.760000000000001, 1.770000000000001, 1.780000000000001, 1.790000000000001, 1.800000000000001, 1.810000000000001, 1.820000000000001, 1.830000000000001, 1.840000000000001, 1.850000000000001, 1.860000000000001, 1.870000000000001, 1.880000000000001, 1.890000000000001, 1.900000000000001, 1.910000000000001, 1.920000000000001, 1.930000000000001, 1.940000000000001, 1.950000000000001, 1.960000000000001, 1.970000000000001, 1.980000000000001, 1.990000000000001, 2.000000000000001, 2.010000000000001, 2.020000000000001, 2.030000000000001, 2.040000000000001, 2.050000000000001, 2.060000000000001, 2.070000000000001, 2.080000000000001, 2.090000000000001, 2.100000000000001, 2.110000000000001, 2.120000000000001, 2.1300000000000012, 2.140000000000001, 2.1500000000000012, 2.160000000000001, 2.1700000000000013, 2.180000000000001, 2.1900000000000013, 2.200000000000001, 2.2100000000000013, 2.220000000000001, 2.2300000000000013, 2.240000000000001, 2.2500000000000013, 2.260000000000001, 2.2700000000000014, 2.280000000000001, 2.2900000000000014, 2.300000000000001, 2.3100000000000014, 2.320000000000001, 2.3300000000000014, 2.340000000000001, 2.3500000000000014, 2.360000000000001, 2.3700000000000014, 2.3800000000000012, 2.3900000000000015, 2.4000000000000012, 2.4100000000000015, 2.4200000000000013, 2.4300000000000015, 2.4400000000000013, 2.4500000000000015, 2.4600000000000013, 2.4700000000000015, 2.4800000000000013, 2.4900000000000015, 2.5000000000000013, 2.5100000000000016, 2.5200000000000014, 2.5300000000000016, 2.5400000000000014, 2.5500000000000016, 2.5600000000000014, 2.5700000000000016, 2.5800000000000014, 2.5900000000000016, 2.6000000000000014, 2.6100000000000017, 2.6200000000000014, 2.6300000000000017, 2.6400000000000015, 2.6500000000000017, 2.6600000000000015, 2.6700000000000017, 2.6800000000000015, 2.6900000000000017, 2.7000000000000015, 2.7100000000000017, 2.7200000000000015, 2.7300000000000018, 2.7400000000000015, 2.7500000000000018, 2.7600000000000016, 2.770000000000002, 2.7800000000000016, 2.790000000000002, 2.8000000000000016, 2.810000000000002, 2.8200000000000016, 2.830000000000002, 2.8400000000000016, 2.850000000000002, 2.8600000000000017, 2.870000000000002, 2.8800000000000017, 2.890000000000002, 2.9000000000000017, 2.910000000000002, 2.9200000000000017, 2.930000000000002, 2.9400000000000017, 2.950000000000002, 2.9600000000000017, 2.970000000000002, 2.9800000000000018, 2.990000000000002, 3.0000000000000018, 3.010000000000002, 3.020000000000002, 3.030000000000002, 3.040000000000002, 3.050000000000002, 3.060000000000002, 3.070000000000002, 3.080000000000002, 3.090000000000002, 3.100000000000002, 3.110000000000002, 3.120000000000002, 3.130000000000002, 3.140000000000002, 3.150000000000002, 3.160000000000002, 3.170000000000002, 3.180000000000002, 3.190000000000002, 3.200000000000002, 3.210000000000002, 3.220000000000002, 3.230000000000002, 3.240000000000002, 3.250000000000002, 3.260000000000002, 3.2700000000000022, 3.280000000000002, 3.2900000000000023, 3.300000000000002, 3.3100000000000023, 3.320000000000002, 3.3300000000000023, 3.340000000000002, 3.3500000000000023, 3.360000000000002, 3.3700000000000023, 3.380000000000002, 3.3900000000000023, 3.400000000000002, 3.4100000000000024, 3.420000000000002, 3.4300000000000024, 3.440000000000002, 3.4500000000000024, 3.460000000000002, 3.4700000000000024, 3.480000000000002, 3.4900000000000024, 3.500000000000002, 3.5100000000000025, 3.5200000000000022, 3.5300000000000025, 3.5400000000000023, 3.5500000000000025, 3.5600000000000023, 3.5700000000000025, 3.5800000000000023, 3.5900000000000025, 3.6000000000000023, 3.6100000000000025, 3.6200000000000023, 3.6300000000000026, 3.6400000000000023, 3.6500000000000026, 3.6600000000000024, 3.6700000000000026, 3.6800000000000024, 3.6900000000000026, 3.7000000000000024, 3.7100000000000026, 3.7200000000000024, 3.7300000000000026, 3.7400000000000024, 3.7500000000000027, 3.7600000000000025, 3.7700000000000027, 3.7800000000000025, 3.7900000000000027, 3.8000000000000025, 3.8100000000000027, 3.8200000000000025, 3.8300000000000027, 3.8400000000000025, 3.8500000000000028, 3.8600000000000025, 3.8700000000000028, 3.8800000000000026, 3.890000000000003, 3.9000000000000026, 3.910000000000003, 3.9200000000000026, 3.930000000000003, 3.9400000000000026, 3.950000000000003, 3.9600000000000026, 3.970000000000003, 3.9800000000000026, 3.990000000000003, 4.000000000000003, 4.0100000000000025, 4.020000000000002, 4.030000000000003, 4.040000000000003, 4.0500000000000025, 4.060000000000002, 4.070000000000003, 4.080000000000003, 4.0900000000000025, 4.100000000000002, 4.110000000000003, 4.120000000000003, 4.130000000000003, 4.140000000000002, 4.150000000000003, 4.160000000000003, 4.170000000000003, 4.180000000000002, 4.190000000000003, 4.200000000000003, 4.210000000000003, 4.220000000000002, 4.230000000000003, 4.240000000000003, 4.250000000000003, 4.2600000000000025, 4.270000000000003, 4.280000000000003, 4.290000000000003, 4.3000000000000025, 4.310000000000003, 4.320000000000003, 4.330000000000003, 4.3400000000000025, 4.350000000000003, 4.360000000000003, 4.370000000000003, 4.380000000000003, 4.390000000000003, 4.400000000000003, 4.410000000000003, 4.420000000000003, 4.430000000000003, 4.440000000000003, 4.450000000000003, 4.460000000000003, 4.470000000000003, 4.480000000000003, 4.490000000000003, 4.500000000000003, 4.510000000000003, 4.520000000000003, 4.530000000000003, 4.540000000000003, 4.550000000000003, 4.560000000000003, 4.570000000000003, 4.580000000000003, 4.590000000000003, 4.600000000000003, 4.610000000000003, 4.620000000000003, 4.6300000000000034, 4.640000000000003, 4.650000000000003, 4.660000000000003, 4.6700000000000035, 4.680000000000003, 4.690000000000003, 4.700000000000003, 4.7100000000000035, 4.720000000000003, 4.730000000000003, 4.740000000000003, 4.7500000000000036, 4.760000000000003, 4.770000000000003, 4.780000000000003, 4.790000000000004, 4.800000000000003, 4.810000000000003, 4.820000000000003, 4.830000000000004, 4.840000000000003, 4.850000000000003, 4.860000000000003, 4.870000000000004, 4.8800000000000034, 4.890000000000003, 4.900000000000003, 4.910000000000004, 4.9200000000000035, 4.930000000000003, 4.940000000000003, 4.950000000000004, 4.9600000000000035, 4.970000000000003, 4.980000000000003, 4.990000000000004, 5.0000000000000036, 5.010000000000003, 5.020000000000003, 5.030000000000004, 5.040000000000004, 5.050000000000003, 5.060000000000003, 5.070000000000004, 5.080000000000004, 5.090000000000003, 5.100000000000003, 5.110000000000004, 5.120000000000004, 5.1300000000000034, 5.140000000000003, 5.150000000000004, 5.160000000000004, 5.1700000000000035, 5.180000000000003, 5.190000000000004, 5.200000000000004, 5.2100000000000035, 5.220000000000003, 5.230000000000004, 5.240000000000004, 5.2500000000000036, 5.260000000000003, 5.270000000000004, 5.280000000000004, 5.290000000000004, 5.300000000000003, 5.310000000000004, 5.320000000000004, 5.330000000000004, 5.340000000000003, 5.350000000000004, 5.360000000000004, 5.370000000000004, 5.3800000000000034, 5.390000000000004, 5.400000000000004, 5.410000000000004, 5.4200000000000035, 5.430000000000004, 5.440000000000004, 5.450000000000004, 5.4600000000000035, 5.470000000000004, 5.480000000000004, 5.490000000000004, 5.5000000000000036, 5.510000000000004, 5.520000000000004, 5.530000000000004, 5.540000000000004, 5.550000000000004, 5.560000000000004, 5.570000000000004, 5.580000000000004, 5.590000000000004, 5.600000000000004, 5.610000000000004, 5.620000000000004, 5.630000000000004, 5.640000000000004, 5.650000000000004, 5.660000000000004, 5.670000000000004, 5.680000000000004, 5.690000000000004, 5.700000000000004, 5.710000000000004, 5.720000000000004, 5.730000000000004, 5.740000000000004, 5.750000000000004, 5.760000000000004, 5.770000000000004, 5.780000000000004, 5.7900000000000045, 5.800000000000004, 5.810000000000004, 5.820000000000004, 5.8300000000000045, 5.840000000000004, 5.850000000000004, 5.860000000000004, 5.8700000000000045, 5.880000000000004, 5.890000000000004, 5.900000000000004, 5.910000000000005, 5.920000000000004, 5.930000000000004, 5.940000000000004, 5.950000000000005, 5.960000000000004, 5.970000000000004, 5.980000000000004, 5.990000000000005, 6.000000000000004, 6.010000000000004, 6.020000000000004, 6.030000000000005, 6.0400000000000045, 6.050000000000004, 6.060000000000004, 6.070000000000005, 6.0800000000000045, 6.090000000000004, 6.100000000000004, 6.110000000000005, 6.1200000000000045, 6.130000000000004, 6.140000000000004, 6.150000000000005, 6.160000000000005, 6.170000000000004, 6.180000000000004, 6.190000000000005, 6.200000000000005, 6.210000000000004, 6.220000000000004, 6.230000000000005, 6.240000000000005, 6.250000000000004, 6.260000000000004, 6.270000000000005, 6.280000000000005], \"y\": [0.0, 0.009999833334166664, 0.01999866669333308, 0.02999550020249566, 0.03998933418663416, 0.04997916927067833, 0.059964006479444595, 0.06994284733753277, 0.0799146939691727, 0.08987854919801104, 0.09983341664682815, 0.10977830083717482, 0.11971220728891936, 0.12963414261969486, 0.1395431146442365, 0.14943813247359924, 0.15931820661424598, 0.16918234906699603, 0.1790295734258242, 0.1888588949765006, 0.19866933079506122, 0.20845989984609958, 0.21822962308086935, 0.22797752353518844, 0.2377026264271346, 0.24740395925452294, 0.2570805518921551, 0.26673143668883115, 0.27635564856411376, 0.28595222510483553, 0.29552020666133955, 0.3050586364434435, 0.31456656061611776, 0.3240430283948683, 0.33348709214081435, 0.34289780745545134, 0.35227423327508994, 0.36161543196496193, 0.3709204694129826, 0.38018841512316137, 0.38941834230865047, 0.39860932798442283, 0.40776045305957015, 0.4168708024292107, 0.42593946506599956, 0.4349655341112301, 0.4439481069655197, 0.4528862853790682, 0.46177917554148284, 0.4706258881711579, 0.4794255386042029, 0.4881772468829074, 0.49688013784373664, 0.5055333412048468, 0.5141359916531131, 0.5226872289306591, 0.5311861979208834, 0.5396320487339692, 0.5480239367918736, 0.5563610229127838, 0.5646424733950354, 0.5728674601004813, 0.5810351605373051, 0.5891447579422695, 0.5971954413623921, 0.6051864057360395, 0.6131168519734338, 0.6209859870365597, 0.6287930240184686, 0.636537182221968, 0.6442176872376911, 0.6518337710215367, 0.6593846719714732, 0.6668696350036979, 0.6742879116281452, 0.6816387600233342, 0.6889214451105514, 0.6961352386273568, 0.7032794192004103, 0.7103532724176079, 0.7173560908995229, 0.7242871743701427, 0.731145829726896, 0.7379313711099629, 0.7446431199708594, 0.7512804051402928, 0.7578425628952771, 0.7643289370255052, 0.7707388788989694, 0.7770717475268241, 0.7833269096274835, 0.7895037396899506, 0.7956016200363661, 0.8016199408837773, 0.8075581004051144, 0.813415504789374, 0.8191915683009985, 0.8248857133384503, 0.8304973704919706, 0.8360259786005206, 0.8414709848078966, 0.8468318446180153, 0.8521080219493631, 0.8572989891886035, 0.8624042272433385, 0.8674232255940171, 0.8723554823449864, 0.8772005042746818, 0.8819578068849476, 0.8866269144494874, 0.8912073600614355, 0.8956986856800477, 0.9001004421765051, 0.9044121893788261, 0.9086334961158834, 0.9127639402605212, 0.9168031087717671, 0.9207505977361358, 0.9246060124080205, 0.9283689672491668, 0.9320390859672265, 0.9356160015533861, 0.9390993563190677, 0.9424888019316977, 0.9457839994495392, 0.9489846193555863, 0.9520903415905159, 0.9551008555846924, 0.9580158602892251, 0.9608350642060728, 0.9635581854171931, 0.9661849516127342, 0.9687151001182653, 0.9711483779210447, 0.9734845416953195, 0.9757233578266592, 0.9778646024353163, 0.9799080613986143, 0.9818535303723598, 0.9837008148112767, 0.9854497299884603, 0.9871001010138505, 0.9886517628517199, 0.9901045603371779, 0.9914583481916865, 0.9927129910375886, 0.9938683634116449, 0.9949243497775809, 0.9958808445376401, 0.9967377520431434, 0.9974949866040544, 0.9981524724975481, 0.998710143975583, 0.999167945271476, 0.9995258306054791, 0.999783764189357, 0.9999417202299663, 0.9999996829318346, 0.9999576464987401, 0.9998156151342908, 0.9995736030415051, 0.9992316344213905, 0.998789743470524, 0.9982479743776325, 0.9976063813191736, 0.9968650284539188, 0.9960239899165366, 0.9950833498101801, 0.9940432021980758, 0.9929036510941184, 0.9916648104524685, 0.9903268041561579, 0.9888897660047014, 0.9873538397007163, 0.9857191788355534, 0.9839859468739367, 0.9821543171376182, 0.9802244727880453, 0.9781966068080444, 0.976070921982524, 0.9738476308781949, 0.9715269558223151, 0.9691091288804562, 0.9665943918332973, 0.9639829961524479, 0.9612752029752997, 0.9584712830789139, 0.9555715168529436, 0.952576194271595, 0.9494856148646301, 0.9463000876874141, 0.9430199312900102, 0.9396454736853246, 0.9361770523163057, 0.9326150140222002, 0.9289597150038689, 0.9252115207881678, 0.921370806191395, 0.9174379552818094, 0.9134133613412247, 0.9092974268256814, 0.9050905633252004, 0.9007931915226269, 0.8964057411515594, 0.8919286509533793, 0.8873623686333749, 0.8827073508159736, 0.8779640629990775, 0.873132979507516, 0.868214583445612, 0.8632093666488733, 0.8581178296348082, 0.8529404815528757, 0.8476778401335691, 0.8423304316366452, 0.836898790798497, 0.8313834607786826, 0.8257849931056074, 0.8201039476213736, 0.8143408924257952, 0.8084964038195895, 0.8025710662467465, 0.796565472236086, 0.790480222342004, 0.7843159250844194, 0.7780731968879204, 0.7717526620201252, 0.7653549525292527, 0.7588807081809211, 0.7523305763941698, 0.7457052121767194, 0.73900527805947, 0.7322314440302505, 0.7253843874668187, 0.7184647930691253, 0.7114733527908434, 0.7044107657701753, 0.6972777382599368, 0.6900749835569354, 0.6828032219306387, 0.67546318055115, 0.66805559341649, 0.6605812012791997, 0.6530407515722638, 0.6454349983343697, 0.6377647021345025, 0.6300306299958912, 0.6222335553193036, 0.6143742578057106, 0.6064535233783137, 0.5984721441039554, 0.5904309181139116, 0.5823306495240808, 0.5741721483545712, 0.5659562304487017, 0.5576837173914155, 0.5493554364271255, 0.5409722203769871, 0.53253490755562, 0.5240443416872747, 0.515501371821463, 0.506906852248052, 0.4982616424118374, 0.48956660682659797, 0.4808226149886471, 0.4720305412898811, 0.46319126493034396, 0.45430566983030485, 0.4453746445418699, 0.43639908216012474, 0.42737988023382856, 0.41831794067565736, 0.40921416967201607, 0.4000694775924179, 0.39088477889845097, 0.38166099205233006, 0.3723990394250541, 0.36309984720416666, 0.3537643453011414, 0.3443934672583883, 0.3349881501559034, 0.32554933451755835, 0.31607796421705214, 0.3065749863835212, 0.2970413513068307, 0.2874780123425427, 0.27788592581658506, 0.2682660509296162, 0.2586193496611091, 0.24894678667315084, 0.23924932921398068, 0.22952794702126247, 0.21978361222511522, 0.2100172992508974, 0.20022998472176878, 0.19042264736102532, 0.18059626789423117, 0.17075182895114357, 0.160890314967454, 0.1510127120863421, 0.14112000805986546, 0.13121319215018204, 0.12129325503062799, 0.11136118868664781, 0.1014179863166001, 0.09146464223243499, 0.08150215176026736, 0.07153151114084148, 0.06155371742991137, 0.05156976839853242, 0.041580662433288715, 0.031587398436451676, 0.021590975726094183, 0.011592393936156055, 0.0015926529164850519, -0.008407247367150837, -0.018406306933055585, -0.028403525883606007, -0.038397904505237154, -0.04838844336841636, -0.05837414342758186, -0.06835400612105, -0.07832703347086707, -0.0882922281826098, -0.09824859374511045, -0.10819513453011058, -0.11813085589181957, -0.12805476426638188, -0.13796586727122906, -0.1478631738043207, -0.1577456941432504, -0.16761244004422052, -0.17746242484086233, -0.18729466354290536, -0.19710817293467203, -0.20690197167340194, -0.21667508038738179, -0.2264265217738853, -0.23615532069689915, -0.24586050428463918, -0.2555411020268334, -0.26519614587177553, -0.27482467032312613, -0.28442571253646465, -0.29399831241556973, -0.30354151270843144, -0.3130543591029723, -0.3225359003224811, -0.3319851882207362, -0.34140127787682306, -0.35078322768962195, -0.36013009947197067, -0.36944095854447917, -0.3787148738290001, -0.38795091794173236, -0.39714816728596225, -0.4063057021444188, -0.4154226067712483, -0.4244979694835846, -0.4335308827527201, -0.44252044329485446, -0.45146575216142554, -0.46036591482900024, -0.46922004128872946, -0.4780272461353448, -0.4867866486557017, -0.49549737291684687, -0.5041585478536138, -0.5127693073557257, -0.5213287903544088, -0.5298361409084953, -0.5382905082900199, -0.5466910470692891, -0.555036917199426, -0.5633272841003719, -0.571561318742346, -0.5797381977287449, -0.587857103378485, -0.595917223807766, -0.6039177530112627, -0.611857890942721, -0.6197368435949653, -0.6275538230792954, -0.6353080477042777, -0.6429987420539108, -0.6506251370651694, -0.6581864701049069, -0.6656819850461212, -0.6731109323435636, -0.6804725691086959, -0.6877661591839757, -0.6949909732164739, -0.7021462887308073, -0.709231390201388, -0.7162455691239724, -0.723188124086514, -0.7300583608393014, -0.7368555923643851, -0.7435791389442764, -0.7502283282299207, -0.75680249530793, -0.7633009827670751, -0.7697231407640256, -0.776068327088334, -0.7823359072266545, -0.7885252544261966, -0.7946357497573985, -0.8006667821758192, -0.8066177485832421, -0.8124880538879858, -0.8182771110644118, -0.8239843412116272, -0.8296091736113723, -0.8351510457850949, -0.840609403550196, -0.845983701075448, -0.8512734009355759, -0.8564779741650025, -0.8615969003107419, -0.8666296674844456, -0.8715757724135894, -0.8764347204918026, -0.8812060258283265, -0.8858892112966039, -0.8904838085819897, -0.8949893582285847, -0.8994054096851788, -0.9037315213503069, -0.9079672606164065, -0.9121122039130815, -0.916165936749456, -0.920128053755625, -0.923998158723189, -0.9277758646448765, -0.9314607937532435, -0.9350525775584503, -0.9385508568851088, -0.9419552819082019, -0.9452655121880642, -0.9484812167044268, -0.9516020738895169, -0.9546277716602172, -0.9575580074492719, -0.9603924882355444, -0.9631309305733173, -0.9657730606206395, -0.9683186141667078, -0.9707673366582891, -0.9731189832251744, -0.975373318704667, -0.9775301176650976, -0.9795891644283675, -0.981550253091516, -0.9834131875473112, -0.9851777815038599, -0.9868438585032371, -0.988411251939131, -0.9898798050735043, -0.9912493710522673, -0.9925198129199636, -0.9936910036334649, -0.9947628260746758, -0.9957351730622456, -0.9966079473622858, -0.9973810616980935, -0.9980544387588796, -0.998628011207499, -0.9991017216871849, -0.9994755228272841, -0.9997493772479941, -0.9999232575641009, -0.999997146387718, -0.9999710363300245, -0.9998449300020044, -0.9996188400141853, -0.9992927889753778, -0.998866809490414, -0.9983409441568873, -0.9977152455608931, -0.9969897762717693, -0.9961646088358403, -0.9952398257691623, -0.9942155195492711, -0.9930917926059349, -0.9918687573109122, -0.9905465359667127, -0.9891252607943694, -0.9876050739202148, -0.9859861273616697, -0.9842685830120409, -0.9824526126243319, -0.9805383977940682, -0.9785261299411377, -0.9764160102906491, -0.9742082498528085, -0.9719030694018199, -0.9695006994538079, -0.9670013802437651, -0.9644053617015298, -0.9617129034267925, -0.9589242746631375, -0.9560397542711171, -0.9530596307003667, -0.9499842019607597, -0.9468137755926077, -0.9435486686359055, -0.9401892075986275, -0.9367357284240777, -0.9331885764572964, -0.9295481064105238, -0.9258146823277311, -0.9219886775482149, -0.9180704746692656, -0.9140604655079055, -0.9099590510617092, -0.905766641468703, -0.9014836559663533, -0.8971105228496409, -0.8926476794282331, -0.8880955719827527, -0.8834546557201515, -0.8787253947281881, -0.8739082619290207, -0.8690037390319143, -0.8640123164850726, -0.8589344934265902, -0.8537707776345416, -0.8485216854762022, -0.8431877418564148, -0.8377694801650959, -0.8322674422238993, -0.8266821782320337, -0.821014246711245, -0.8152642144499614, -0.8094326564466174, -0.8035201558521532, -0.7975273039117021, -0.7914546999054638, -0.7853029510887783, -0.7790726726314003, -0.7727644875559849, -0.7663790266757821, -0.7599169285315588, -0.7533788393277436, -0.74676541286781, -0.7400773104888919, -0.7333152009956541, -0.72647976059341, -0.719571672820505, -0.7125916284799589, -0.7055403255703894, -0.6984184692162104, -0.6912267715971239, -0.683965951876898, -0.6766367361314543, -0.6692398572762587, -0.6617760549930343, -0.6542460756557886, -0.6466506722561808, -0.6389906043282203, -0.6312666378723182, -0.6234795452786825, -0.6156301052500835, -0.6077191027239823, -0.5997473287940402, -0.5917155806310065, -0.5836246614030044, -0.5754753801952135, -0.567268551928965, -0.5590049972802459, -0.5506855425976347, -0.542311019819666, -0.5338822663916405, -0.5254001251818762, -0.5168654443974258, -0.5082790774992545, -0.4996418831168986, -0.49095472496259784, -0.48221847174492843, -0.4734339970819311, -0.4646021794137534, -0.45572390191480155, -0.44680005240542686, -0.4378315232631429, -0.4288192113333919, -0.4197640178398556, -0.41066684829433764, -0.40152861240621057, -0.39235022399144975, -0.3831326008812473, -0.37387666483023274, -0.3645833414242972, -0.35525355998803854, -0.34588825349182467, -0.3364883584585009, -0.3270548148697365, -0.3175885660720306, -0.3080905586823739, -0.2985617424935902, -0.2890030703793569, -0.2794154981989216, -0.2697999847015119, -0.2601574914304646, -0.2504889826270706, -0.24079542513415486, -0.2310777882993879, -0.2213370438783552, -0.2115741659373807, -0.20179013075612454, -0.19198591672995066, -0.18216250427209152, -0.17232087571560586, -0.1624620152151498, -0.15258690864855676, -0.1426965435182542, -0.13279190885251232, -0.12287399510654563, -0.11294379406346296, -0.10300229873509344, -0.09305050326268448, -0.08308940281749197, -0.07311999350125865, -0.06314327224660835, -0.05316023671735169, -0.043171885208724246, -0.033179216547552376, -0.02318322999237501, -0.01318492513351681, -0.0031853017931335495]}],\n                        {\"showlegend\": true, \"template\": {\"data\": {\"bar\": [{\"error_x\": {\"color\": \"#2a3f5f\"}, \"error_y\": {\"color\": \"#2a3f5f\"}, \"marker\": {\"line\": {\"color\": \"#E5ECF6\", \"width\": 0.5}}, \"type\": \"bar\"}], \"barpolar\": [{\"marker\": {\"line\": {\"color\": \"#E5ECF6\", \"width\": 0.5}}, \"type\": \"barpolar\"}], \"carpet\": [{\"aaxis\": {\"endlinecolor\": \"#2a3f5f\", \"gridcolor\": \"white\", \"linecolor\": \"white\", \"minorgridcolor\": \"white\", \"startlinecolor\": \"#2a3f5f\"}, \"baxis\": {\"endlinecolor\": \"#2a3f5f\", \"gridcolor\": \"white\", \"linecolor\": \"white\", \"minorgridcolor\": \"white\", \"startlinecolor\": \"#2a3f5f\"}, \"type\": \"carpet\"}], \"choropleth\": [{\"colorbar\": {\"outlinewidth\": 0, \"ticks\": \"\"}, \"type\": \"choropleth\"}], \"contour\": [{\"colorbar\": {\"outlinewidth\": 0, \"ticks\": \"\"}, \"colorscale\": [[0.0, \"#0d0887\"], [0.1111111111111111, \"#46039f\"], [0.2222222222222222, \"#7201a8\"], [0.3333333333333333, \"#9c179e\"], [0.4444444444444444, \"#bd3786\"], [0.5555555555555556, \"#d8576b\"], [0.6666666666666666, \"#ed7953\"], [0.7777777777777778, \"#fb9f3a\"], [0.8888888888888888, \"#fdca26\"], [1.0, \"#f0f921\"]], \"type\": \"contour\"}], \"contourcarpet\": [{\"colorbar\": {\"outlinewidth\": 0, \"ticks\": \"\"}, \"type\": \"contourcarpet\"}], \"heatmap\": [{\"colorbar\": {\"outlinewidth\": 0, \"ticks\": \"\"}, \"colorscale\": [[0.0, \"#0d0887\"], [0.1111111111111111, \"#46039f\"], [0.2222222222222222, \"#7201a8\"], [0.3333333333333333, \"#9c179e\"], [0.4444444444444444, \"#bd3786\"], [0.5555555555555556, \"#d8576b\"], [0.6666666666666666, \"#ed7953\"], [0.7777777777777778, \"#fb9f3a\"], [0.8888888888888888, \"#fdca26\"], [1.0, \"#f0f921\"]], \"type\": \"heatmap\"}], \"heatmapgl\": [{\"colorbar\": {\"outlinewidth\": 0, \"ticks\": \"\"}, \"colorscale\": [[0.0, \"#0d0887\"], [0.1111111111111111, \"#46039f\"], [0.2222222222222222, \"#7201a8\"], [0.3333333333333333, \"#9c179e\"], [0.4444444444444444, \"#bd3786\"], [0.5555555555555556, \"#d8576b\"], [0.6666666666666666, \"#ed7953\"], [0.7777777777777778, \"#fb9f3a\"], [0.8888888888888888, \"#fdca26\"], [1.0, \"#f0f921\"]], \"type\": \"heatmapgl\"}], \"histogram\": [{\"marker\": {\"colorbar\": {\"outlinewidth\": 0, \"ticks\": \"\"}}, \"type\": \"histogram\"}], \"histogram2d\": [{\"colorbar\": {\"outlinewidth\": 0, \"ticks\": \"\"}, \"colorscale\": [[0.0, \"#0d0887\"], [0.1111111111111111, \"#46039f\"], [0.2222222222222222, \"#7201a8\"], [0.3333333333333333, \"#9c179e\"], [0.4444444444444444, \"#bd3786\"], [0.5555555555555556, \"#d8576b\"], [0.6666666666666666, \"#ed7953\"], [0.7777777777777778, \"#fb9f3a\"], [0.8888888888888888, \"#fdca26\"], [1.0, \"#f0f921\"]], \"type\": \"histogram2d\"}], \"histogram2dcontour\": [{\"colorbar\": {\"outlinewidth\": 0, \"ticks\": \"\"}, \"colorscale\": [[0.0, \"#0d0887\"], [0.1111111111111111, \"#46039f\"], [0.2222222222222222, \"#7201a8\"], [0.3333333333333333, \"#9c179e\"], [0.4444444444444444, \"#bd3786\"], [0.5555555555555556, \"#d8576b\"], [0.6666666666666666, \"#ed7953\"], [0.7777777777777778, \"#fb9f3a\"], [0.8888888888888888, \"#fdca26\"], [1.0, \"#f0f921\"]], \"type\": \"histogram2dcontour\"}], \"mesh3d\": [{\"colorbar\": {\"outlinewidth\": 0, \"ticks\": \"\"}, \"type\": \"mesh3d\"}], \"parcoords\": [{\"line\": {\"colorbar\": {\"outlinewidth\": 0, \"ticks\": \"\"}}, \"type\": \"parcoords\"}], \"pie\": [{\"automargin\": true, \"type\": \"pie\"}], \"scatter\": [{\"marker\": {\"colorbar\": {\"outlinewidth\": 0, \"ticks\": \"\"}}, \"type\": \"scatter\"}], \"scatter3d\": [{\"line\": {\"colorbar\": {\"outlinewidth\": 0, \"ticks\": \"\"}}, \"marker\": {\"colorbar\": {\"outlinewidth\": 0, \"ticks\": \"\"}}, \"type\": \"scatter3d\"}], \"scattercarpet\": [{\"marker\": {\"colorbar\": {\"outlinewidth\": 0, \"ticks\": \"\"}}, \"type\": \"scattercarpet\"}], \"scattergeo\": [{\"marker\": {\"colorbar\": {\"outlinewidth\": 0, \"ticks\": \"\"}}, \"type\": \"scattergeo\"}], \"scattergl\": [{\"marker\": {\"colorbar\": {\"outlinewidth\": 0, \"ticks\": \"\"}}, \"type\": \"scattergl\"}], \"scattermapbox\": [{\"marker\": {\"colorbar\": {\"outlinewidth\": 0, \"ticks\": \"\"}}, \"type\": \"scattermapbox\"}], \"scatterpolar\": [{\"marker\": {\"colorbar\": {\"outlinewidth\": 0, \"ticks\": \"\"}}, \"type\": \"scatterpolar\"}], \"scatterpolargl\": [{\"marker\": {\"colorbar\": {\"outlinewidth\": 0, \"ticks\": \"\"}}, \"type\": \"scatterpolargl\"}], \"scatterternary\": [{\"marker\": {\"colorbar\": {\"outlinewidth\": 0, \"ticks\": \"\"}}, \"type\": \"scatterternary\"}], \"surface\": [{\"colorbar\": {\"outlinewidth\": 0, \"ticks\": \"\"}, \"colorscale\": [[0.0, \"#0d0887\"], [0.1111111111111111, \"#46039f\"], [0.2222222222222222, \"#7201a8\"], [0.3333333333333333, \"#9c179e\"], [0.4444444444444444, \"#bd3786\"], [0.5555555555555556, \"#d8576b\"], [0.6666666666666666, \"#ed7953\"], [0.7777777777777778, \"#fb9f3a\"], [0.8888888888888888, \"#fdca26\"], [1.0, \"#f0f921\"]], \"type\": \"surface\"}], \"table\": [{\"cells\": {\"fill\": {\"color\": \"#EBF0F8\"}, \"line\": {\"color\": \"white\"}}, \"header\": {\"fill\": {\"color\": \"#C8D4E3\"}, \"line\": {\"color\": \"white\"}}, \"type\": \"table\"}]}, \"layout\": {\"annotationdefaults\": {\"arrowcolor\": \"#2a3f5f\", \"arrowhead\": 0, \"arrowwidth\": 1}, \"coloraxis\": {\"colorbar\": {\"outlinewidth\": 0, \"ticks\": \"\"}}, \"colorscale\": {\"diverging\": [[0, \"#8e0152\"], [0.1, \"#c51b7d\"], [0.2, \"#de77ae\"], [0.3, \"#f1b6da\"], [0.4, \"#fde0ef\"], [0.5, \"#f7f7f7\"], [0.6, \"#e6f5d0\"], [0.7, \"#b8e186\"], [0.8, \"#7fbc41\"], [0.9, \"#4d9221\"], [1, \"#276419\"]], \"sequential\": [[0.0, \"#0d0887\"], [0.1111111111111111, \"#46039f\"], [0.2222222222222222, \"#7201a8\"], [0.3333333333333333, \"#9c179e\"], [0.4444444444444444, \"#bd3786\"], [0.5555555555555556, \"#d8576b\"], [0.6666666666666666, \"#ed7953\"], [0.7777777777777778, \"#fb9f3a\"], [0.8888888888888888, \"#fdca26\"], [1.0, \"#f0f921\"]], \"sequentialminus\": [[0.0, \"#0d0887\"], [0.1111111111111111, \"#46039f\"], [0.2222222222222222, \"#7201a8\"], [0.3333333333333333, \"#9c179e\"], [0.4444444444444444, \"#bd3786\"], [0.5555555555555556, \"#d8576b\"], [0.6666666666666666, \"#ed7953\"], [0.7777777777777778, \"#fb9f3a\"], [0.8888888888888888, \"#fdca26\"], [1.0, \"#f0f921\"]]}, \"colorway\": [\"#636efa\", \"#EF553B\", \"#00cc96\", \"#ab63fa\", \"#FFA15A\", \"#19d3f3\", \"#FF6692\", \"#B6E880\", \"#FF97FF\", \"#FECB52\"], \"font\": {\"color\": \"#2a3f5f\"}, \"geo\": {\"bgcolor\": \"white\", \"lakecolor\": \"white\", \"landcolor\": \"#E5ECF6\", \"showlakes\": true, \"showland\": true, \"subunitcolor\": \"white\"}, \"hoverlabel\": {\"align\": \"left\"}, \"hovermode\": \"closest\", \"mapbox\": {\"style\": \"light\"}, \"paper_bgcolor\": \"white\", \"plot_bgcolor\": \"#E5ECF6\", \"polar\": {\"angularaxis\": {\"gridcolor\": \"white\", \"linecolor\": \"white\", \"ticks\": \"\"}, \"bgcolor\": \"#E5ECF6\", \"radialaxis\": {\"gridcolor\": \"white\", \"linecolor\": \"white\", \"ticks\": \"\"}}, \"scene\": {\"xaxis\": {\"backgroundcolor\": \"#E5ECF6\", \"gridcolor\": \"white\", \"gridwidth\": 2, \"linecolor\": \"white\", \"showbackground\": true, \"ticks\": \"\", \"zerolinecolor\": \"white\"}, \"yaxis\": {\"backgroundcolor\": \"#E5ECF6\", \"gridcolor\": \"white\", \"gridwidth\": 2, \"linecolor\": \"white\", \"showbackground\": true, \"ticks\": \"\", \"zerolinecolor\": \"white\"}, \"zaxis\": {\"backgroundcolor\": \"#E5ECF6\", \"gridcolor\": \"white\", \"gridwidth\": 2, \"linecolor\": \"white\", \"showbackground\": true, \"ticks\": \"\", \"zerolinecolor\": \"white\"}}, \"shapedefaults\": {\"line\": {\"color\": \"#2a3f5f\"}}, \"ternary\": {\"aaxis\": {\"gridcolor\": \"white\", \"linecolor\": \"white\", \"ticks\": \"\"}, \"baxis\": {\"gridcolor\": \"white\", \"linecolor\": \"white\", \"ticks\": \"\"}, \"bgcolor\": \"#E5ECF6\", \"caxis\": {\"gridcolor\": \"white\", \"linecolor\": \"white\", \"ticks\": \"\"}}, \"title\": {\"x\": 0.05}, \"xaxis\": {\"automargin\": true, \"gridcolor\": \"white\", \"linecolor\": \"white\", \"ticks\": \"\", \"title\": {\"standoff\": 15}, \"zerolinecolor\": \"white\", \"zerolinewidth\": 2}, \"yaxis\": {\"automargin\": true, \"gridcolor\": \"white\", \"linecolor\": \"white\", \"ticks\": \"\", \"title\": {\"standoff\": 15}, \"zerolinecolor\": \"white\", \"zerolinewidth\": 2}}}, \"title\": {\"text\": \"linechart\"}, \"xaxis\": {\"autorange\": true, \"title\": {\"text\": \"x\"}, \"type\": \"linear\"}, \"yaxis\": {\"title\": {\"text\": \"y\"}, \"type\": \"linear\"}},\n                        {\"responsive\": true}\n                    ).then(function(){\n                            \nvar gd = document.getElementById('1a7af367-ae0d-425e-97ae-ba9bf4eb6e97');\nvar x = new MutationObserver(function (mutations, observer) {{\n        var display = window.getComputedStyle(gd).display;\n        if (!display || display === 'none') {{\n            console.log([gd, 'removed!']);\n            Plotly.purge(gd);\n            observer.disconnect();\n        }}\n}});\n\n// Listen for the removal of the full notebook cells\nvar notebookContainer = gd.closest('#notebook-container');\nif (notebookContainer) {{\n    x.observe(notebookContainer, {childList: true});\n}}\n\n// Listen for the clearing of the current output cell\nvar outputEl = gd.closest('.output');\nif (outputEl) {{\n    x.observe(outputEl, {childList: true});\n}}\n\n                        })\n                };\n                });\n            </script>\n        </div>"
     },
     "metadata": {},
     "output_type": "display_data"
    },
    {
     "data": {
      "text/html": "<html>\n        <head>\n        \n        </head>\n        <body>\n        <div><p style='padding: 10px; color: #3a87ad; background-color: #d9edf7; border-color: #bce9f1'>Done&nbsp;(00:00.224):&nbsp;629&nbsp;records</p></div>\n        </body>\n        </html>",
      "text/plain": "<IPython.core.display.HTML object>"
     },
     "metadata": {},
     "output_type": "display_data"
    },
    {
     "data": {
      "text/html": "",
      "text/plain": ".5400000000000014, 'y': 0.5659562304487017},\n {'x': 2.5500000000000016, 'y': 0.5576837173914155},\n {'x': 2.5600000000000014, 'y': 0.5493554364271255},\n {'x': 2.5700000000000016, 'y': 0.5409722203769871},\n {'x': 2.5800000000000014, 'y': 0.53253490755562},\n {'x': 2.5900000000000016, 'y': 0.5240443416872747},\n {'x': 2.6000000000000014, 'y': 0.515501371821463},\n {'x': 2.6100000000000017, 'y': 0.506906852248052},\n {'x': 2.6200000000000014, 'y': 0.4982616424118374},\n {'x': 2.6300000000000017, 'y': 0.48956660682659797},\n {'x': 2.6400000000000015, 'y': 0.4808226149886471},\n {'x': 2.6500000000000017, 'y': 0.4720305412898811},\n {'x': 2.6600000000000015, 'y': 0.46319126493034396},\n {'x': 2.6700000000000017, 'y': 0.45430566983030485},\n {'x': 2.6800000000000015, 'y': 0.4453746445418699},\n {'x': 2.6900000000000017, 'y': 0.43639908216012474},\n {'x': 2.7000000000000015, 'y': 0.42737988023382856},\n {'x': 2.7100000000000017, 'y': 0.41831794067565736},\n {'x': 2.7200000000000015, 'y': 0.40921416967201607},\n {'x': 2.7300000000000018, 'y': 0.4000694775924179},\n {'x': 2.7400000000000015, 'y': 0.39088477889845097},\n {'x': 2.7500000000000018, 'y': 0.38166099205233006},\n {'x': 2.7600000000000016, 'y': 0.3723990394250541},\n {'x': 2.770000000000002, 'y': 0.36309984720416666},\n {'x': 2.7800000000000016, 'y': 0.3537643453011414},\n {'x': 2.790000000000002, 'y': 0.3443934672583883},\n {'x': 2.8000000000000016, 'y': 0.3349881501559034},\n {'x': 2.810000000000002, 'y': 0.32554933451755835},\n {'x': 2.8200000000000016, 'y': 0.31607796421705214},\n {'x': 2.830000000000002, 'y': 0.3065749863835212},\n {'x': 2.8400000000000016, 'y': 0.2970413513068307},\n {'x': 2.850000000000002, 'y': 0.2874780123425427},\n {'x': 2.8600000000000017, 'y': 0.27788592581658506},\n {'x': 2.870000000000002, 'y': 0.2682660509296162},\n {'x': 2.8800000000000017, 'y': 0.2586193496611091},\n {'x': 2.890000000000002, 'y': 0.24894678667315084},\n {'x': 2.9000000000000017, 'y': 0.23924932921398068},\n {'x': 2.910000000000002, 'y': 0.22952794702126247},\n {'x': 2.9200000000000017, 'y': 0.21978361222511522},\n {'x': 2.930000000000002, 'y': 0.2100172992508974},\n {'x': 2.9400000000000017, 'y': 0.20022998472176878},\n {'x': 2.950000000000002, 'y': 0.19042264736102532},\n {'x': 2.9600000000000017, 'y': 0.18059626789423117},\n {'x': 2.970000000000002, 'y': 0.17075182895114357},\n {'x': 2.9800000000000018, 'y': 0.160890314967454},\n {'x': 2.990000000000002, 'y': 0.1510127120863421},\n {'x': 3.0000000000000018, 'y': 0.14112000805986546},\n {'x': 3.010000000000002, 'y': 0.13121319215018204},\n {'x': 3.020000000000002, 'y': 0.12129325503062799},\n {'x': 3.030000000000002, 'y': 0.11136118868664781},\n {'x': 3.040000000000002, 'y': 0.1014179863166001},\n {'x': 3.050000000000002, 'y': 0.09146464223243499},\n {'x': 3.060000000000002, 'y': 0.08150215176026736},\n {'x': 3.070000000000002, 'y': 0.07153151114084148},\n {'x': 3.080000000000002, 'y': 0.06155371742991137},\n {'x': 3.090000000000002, 'y': 0.05156976839853242},\n {'x': 3.100000000000002, 'y': 0.041580662433288715},\n {'x': 3.110000000000002, 'y': 0.031587398436451676},\n {'x': 3.120000000000002, 'y': 0.021590975726094183},\n {'x': 3.130000000000002, 'y': 0.011592393936156055},\n {'x': 3.140000000000002, 'y': 0.0015926529164850519},\n {'x': 3.150000000000002, 'y': -0.008407247367150837},\n {'x': 3.160000000000002, 'y': -0.018406306933055585},\n {'x': 3.170000000000002, 'y': -0.028403525883606007},\n {'x': 3.180000000000002, 'y': -0.038397904505237154},\n {'x': 3.190000000000002, 'y': -0.04838844336841636},\n {'x': 3.200000000000002, 'y': -0.05837414342758186},\n {'x': 3.210000000000002, 'y': -0.06835400612105},\n {'x': 3.220000000000002, 'y': -0.07832703347086707},\n {'x': 3.230000000000002, 'y': -0.0882922281826098},\n {'x': 3.240000000000002, 'y': -0.09824859374511045},\n {'x': 3.250000000000002, 'y': -0.10819513453011058},\n {'x': 3.260000000000002, 'y': -0.11813085589181957},\n {'x': 3.2700000000000022, 'y': -0.12805476426638188},\n {'x': 3.280000000000002, 'y': -0.13796586727122906},\n {'x': 3.2900000000000023, 'y': -0.1478631738043207},\n {'x': 3.300000000000002, 'y': -0.1577456941432504},\n {'x': 3.3100000000000023, 'y': -0.16761244004422052},\n {'x': 3.320000000000002, 'y': -0.17746242484086233},\n {'x': 3.3300000000000023, 'y': -0.18729466354290536},\n {'x': 3.340000000000002, 'y': -0.19710817293467203},\n {'x': 3.3500000000000023, 'y': -0.20690197167340194},\n {'x': 3.360000000000002, 'y': -0.21667508038738179},\n {'x': 3.3700000000000023, 'y': -0.2264265217738853},\n {'x': 3.380000000000002, 'y': -0.23615532069689915},\n {'x': 3.3900000000000023, 'y': -0.24586050428463918},\n {'x': 3.400000000000002, 'y': -0.2555411020268334},\n {'x': 3.4100000000000024, 'y': -0.26519614587177553},\n {'x': 3.420000000000002, 'y': -0.27482467032312613},\n {'x': 3.4300000000000024, 'y': -0.28442571253646465},\n {'x': 3.440000000000002, 'y': -0.29399831241556973},\n {'x': 3.4500000000000024, 'y': -0.30354151270843144},\n {'x': 3.460000000000002, 'y': -0.3130543591029723},\n {'x': 3.4700000000000024, 'y': -0.3225359003224811},\n {'x': 3.480000000000002, 'y': -0.3319851882207362},\n {'x': 3.4900000000000024, 'y': -0.34140127787682306},\n {'x': 3.500000000000002, 'y': -0.35078322768962195},\n {'x': 3.5100000000000025, 'y': -0.36013009947197067},\n {'x': 3.5200000000000022, 'y': -0.36944095854447917},\n {'x': 3.5300000000000025, 'y': -0.3787148738290001},\n {'x': 3.5400000000000023, 'y': -0.38795091794173236},\n {'x': 3.5500000000000025, 'y': -0.39714816728596225},\n {'x': 3.5600000000000023, 'y': -0.4063057021444188},\n {'x': 3.5700000000000025, 'y': -0.4154226067712483},\n {'x': 3.5800000000000023, 'y': -0.4244979694835846},\n {'x': 3.5900000000000025, 'y': -0.4335308827527201},\n {'x': 3.6000000000000023, 'y': -0.44252044329485446},\n {'x': 3.6100000000000025, 'y': -0.45146575216142554},\n {'x': 3.6200000000000023, 'y': -0.46036591482900024},\n {'x': 3.6300000000000026, 'y': -0.46922004128872946},\n {'x': 3.6400000000000023, 'y': -0.4780272461353448},\n {'x': 3.6500000000000026, 'y': -0.4867866486557017},\n {'x': 3.6600000000000024, 'y': -0.49549737291684687},\n {'x': 3.6700000000000026, 'y': -0.5041585478536138},\n {'x': 3.6800000000000024, 'y': -0.5127693073557257},\n {'x': 3.6900000000000026, 'y': -0.5213287903544088},\n {'x': 3.7000000000000024, 'y': -0.5298361409084953},\n {'x': 3.7100000000000026, 'y': -0.5382905082900199},\n {'x': 3.7200000000000024, 'y': -0.5466910470692891},\n {'x': 3.7300000000000026, 'y': -0.555036917199426},\n {'x': 3.7400000000000024, 'y': -0.5633272841003719},\n {'x': 3.7500000000000027, 'y': -0.571561318742346},\n {'x': 3.7600000000000025, 'y': -0.5797381977287449},\n {'x': 3.7700000000000027, 'y': -0.587857103378485},\n {'x': 3.7800000000000025, 'y': -0.595917223807766},\n {'x': 3.7900000000000027, 'y': -0.6039177530112627},\n {'x': 3.8000000000000025, 'y': -0.611857890942721},\n {'x': 3.8100000000000027, 'y': -0.6197368435949653},\n {'x': 3.8200000000000025, 'y': -0.6275538230792954},\n {'x': 3.8300000000000027, 'y': -0.6353080477042777},\n {'x': 3.8400000000000025, 'y': -0.6429987420539108},\n {'x': 3.8500000000000028, 'y': -0.6506251370651694},\n {'x': 3.8600000000000025, 'y': -0.6581864701049069},\n {'x': 3.8700000000000028, 'y': -0.6656819850461212},\n {'x': 3.8800000000000026, 'y': -0.6731109323435636},\n {'x': 3.890000000000003, 'y': -0.6804725691086959},\n {'x': 3.9000000000000026, 'y': -0.6877661591839757},\n {'x': 3.910000000000003, 'y': -0.6949909732164739},\n {'x': 3.9200000000000026, 'y': -0.7021462887308073},\n {'x': 3.930000000000003, 'y': -0.709231390201388},\n {'x': 3.9400000000000026, 'y': -0.7162455691239724},\n {'x': 3.950000000000003, 'y': -0.723188124086514},\n {'x': 3.9600000000000026, 'y': -0.7300583608393014},\n {'x': 3.970000000000003, 'y': -0.7368555923643851},\n {'x': 3.9800000000000026, 'y': -0.7435791389442764},\n {'x': 3.990000000000003, 'y': -0.7502283282299207},\n {'x': 4.000000000000003, 'y': -0.75680249530793},\n {'x': 4.0100000000000025, 'y': -0.7633009827670751},\n {'x': 4.020000000000002, 'y': -0.7697231407640256},\n {'x': 4.030000000000003, 'y': -0.776068327088334},\n {'x': 4.040000000000003, 'y': -0.7823359072266545},\n {'x': 4.0500000000000025, 'y': -0.7885252544261966},\n {'x': 4.060000000000002, 'y': -0.7946357497573985},\n {'x': 4.070000000000003, 'y': -0.8006667821758192},\n {'x': 4.080000000000003, 'y': -0.8066177485832421},\n {'x': 4.0900000000000025, 'y': -0.8124880538879858},\n {'x': 4.100000000000002, 'y': -0.8182771110644118},\n {'x': 4.110000000000003, 'y': -0.8239843412116272},\n {'x': 4.120000000000003, 'y': -0.8296091736113723},\n {'x': 4.130000000000003, 'y': -0.8351510457850949},\n {'x': 4.140000000000002, 'y': -0.840609403550196},\n {'x': 4.150000000000003, 'y': -0.845983701075448},\n {'x': 4.160000000000003, 'y': -0.8512734009355759},\n {'x': 4.170000000000003, 'y': -0.8564779741650025},\n {'x': 4.180000000000002, 'y': -0.8615969003107419},\n {'x': 4.190000000000003, 'y': -0.8666296674844456},\n {'x': 4.200000000000003, 'y': -0.8715757724135894},\n {'x': 4.210000000000003, 'y': -0.8764347204918026},\n {'x': 4.220000000000002, 'y': -0.8812060258283265},\n {'x': 4.230000000000003, 'y': -0.8858892112966039},\n {'x': 4.240000000000003, 'y': -0.8904838085819897},\n {'x': 4.250000000000003, 'y': -0.8949893582285847},\n {'x': 4.2600000000000025, 'y': -0.8994054096851788},\n {'x': 4.270000000000003, 'y': -0.9037315213503069},\n {'x': 4.280000000000003, 'y': -0.9079672606164065},\n {'x': 4.290000000000003, 'y': -0.9121122039130815},\n {'x': 4.3000000000000025, 'y': -0.916165936749456},\n {'x': 4.310000000000003, 'y': -0.920128053755625},\n {'x': 4.320000000000003, 'y': -0.923998158723189},\n {'x': 4.330000000000003, 'y': -0.9277758646448765},\n {'x': 4.3400000000000025, 'y': -0.9314607937532435},\n {'x': 4.350000000000003, 'y': -0.9350525775584503},\n {'x': 4.360000000000003, 'y': -0.9385508568851088},\n {'x': 4.370000000000003, 'y': -0.9419552819082019},\n {'x': 4.380000000000003, 'y': -0.9452655121880642},\n {'x': 4.390000000000003, 'y': -0.9484812167044268},\n {'x': 4.400000000000003, 'y': -0.9516020738895169},\n {'x': 4.410000000000003, 'y': -0.9546277716602172},\n {'x': 4.420000000000003, 'y': -0.9575580074492719},\n {'x': 4.430000000000003, 'y': -0.9603924882355444},\n {'x': 4.440000000000003, 'y': -0.9631309305733173},\n {'x': 4.450000000000003, 'y': -0.9657730606206395},\n {'x': 4.460000000000003, 'y': -0.9683186141667078},\n {'x': 4.470000000000003, 'y': -0.9707673366582891},\n {'x': 4.480000000000003, 'y': -0.9731189832251744},\n {'x': 4.490000000000003, 'y': -0.975373318704667},\n {'x': 4.500000000000003, 'y': -0.9775301176650976},\n {'x': 4.510000000000003, 'y': -0.9795891644283675},\n {'x': 4.520000000000003, 'y': -0.981550253091516},\n {'x': 4.530000000000003, 'y': -0.9834131875473112},\n {'x': 4.540000000000003, 'y': -0.9851777815038599},\n {'x': 4.550000000000003, 'y': -0.9868438585032371},\n {'x': 4.560000000000003, 'y': -0.988411251939131},\n {'x': 4.570000000000003, 'y': -0.9898798050735043},\n {'x': 4.580000000000003, 'y': -0.9912493710522673},\n {'x': 4.590000000000003, 'y': -0.9925198129199636},\n {'x': 4.600000000000003, 'y': -0.9936910036334649},\n {'x': 4.610000000000003, 'y': -0.9947628260746758},\n {'x': 4.620000000000003, 'y': -0.9957351730622456},\n {'x': 4.6300000000000034, 'y': -0.9966079473622858},\n {'x': 4.640000000000003, 'y': -0.9973810616980935},\n {'x': 4.650000000000003, 'y': -0.9980544387588796},\n {'x': 4.660000000000003, 'y': -0.998628011207499},\n {'x': 4.6700000000000035, 'y': -0.9991017216871849},\n {'x': 4.680000000000003, 'y': -0.9994755228272841},\n {'x': 4.690000000000003, 'y': -0.9997493772479941},\n {'x': 4.700000000000003, 'y': -0.9999232575641009},\n {'x': 4.7100000000000035, 'y': -0.999997146387718},\n {'x': 4.720000000000003, 'y': -0.9999710363300245},\n {'x': 4.730000000000003, 'y': -0.9998449300020044},\n {'x': 4.740000000000003, 'y': -0.9996188400141853},\n {'x': 4.7500000000000036, 'y': -0.9992927889753778},\n {'x': 4.760000000000003, 'y': -0.998866809490414},\n {'x': 4.770000000000003, 'y': -0.9983409441568873},\n {'x': 4.780000000000003, 'y': -0.9977152455608931},\n {'x': 4.790000000000004, 'y': -0.9969897762717693},\n {'x': 4.800000000000003, 'y': -0.9961646088358403},\n {'x': 4.810000000000003, 'y': -0.9952398257691623},\n {'x': 4.820000000000003, 'y': -0.9942155195492711},\n {'x': 4.830000000000004, 'y': -0.9930917926059349},\n {'x': 4.840000000000003, 'y': -0.9918687573109122},\n {'x': 4.850000000000003, 'y': -0.9905465359667127},\n {'x': 4.860000000000003, 'y': -0.9891252607943694},\n {'x': 4.870000000000004, 'y': -0.9876050739202148},\n {'x': 4.8800000000000034, 'y': -0.9859861273616697},\n {'x': 4.890000000000003, 'y': -0.9842685830120409},\n {'x': 4.900000000000003, 'y': -0.9824526126243319},\n {'x': 4.910000000000004, 'y': -0.9805383977940682},\n {'x': 4.9200000000000035, 'y': -0.9785261299411377},\n {'x': 4.930000000000003, 'y': -0.9764160102906491},\n {'x': 4.940000000000003, 'y': -0.9742082498528085},\n {'x': 4.950000000000004, 'y': -0.9719030694018199},\n {'x': 4.9600000000000035, 'y': -0.9695006994538079},\n {'x': 4.970000000000003, 'y': -0.9670013802437651},\n {'x': 4.980000000000003, 'y': -0.9644053617015298},\n {'x': 4.990000000000004, 'y': -0.9617129034267925},\n {'x': 5.0000000000000036, 'y': -0.9589242746631375},\n {'x': 5.010000000000003, 'y': -0.9560397542711171},\n {'x': 5.020000000000003, 'y': -0.9530596307003667},\n {'x': 5.030000000000004, 'y': -0.9499842019607597},\n {'x': 5.040000000000004, 'y': -0.9468137755926077},\n {'x': 5.050000000000003, 'y': -0.9435486686359055},\n {'x': 5.060000000000003, 'y': -0.9401892075986275},\n {'x': 5.070000000000004, 'y': -0.9367357284240777},\n {'x': 5.080000000000004, 'y': -0.9331885764572964},\n {'x': 5.090000000000003, 'y': -0.9295481064105238},\n {'x': 5.100000000000003, 'y': -0.9258146823277311},\n {'x': 5.110000000000004, 'y': -0.9219886775482149},\n {'x': 5.120000000000004, 'y': -0.9180704746692656},\n {'x': 5.1300000000000034, 'y': -0.9140604655079055},\n {'x': 5.140000000000003, 'y': -0.9099590510617092},\n {'x': 5.150000000000004, 'y': -0.905766641468703},\n {'x': 5.160000000000004, 'y': -0.9014836559663533},\n {'x': 5.1700000000000035, 'y': -0.8971105228496409},\n {'x': 5.180000000000003, 'y': -0.8926476794282331},\n {'x': 5.190000000000004, 'y': -0.8880955719827527},\n {'x': 5.200000000000004, 'y': -0.8834546557201515},\n {'x': 5.2100000000000035, 'y': -0.8787253947281881},\n {'x': 5.220000000000003, 'y': -0.8739082619290207},\n {'x': 5.230000000000004, 'y': -0.8690037390319143},\n {'x': 5.240000000000004, 'y': -0.8640123164850726},\n {'x': 5.2500000000000036, 'y': -0.8589344934265902},\n {'x': 5.260000000000003, 'y': -0.8537707776345416},\n {'x': 5.270000000000004, 'y': -0.8485216854762022},\n {'x': 5.280000000000004, 'y': -0.8431877418564148},\n {'x': 5.290000000000004, 'y': -0.8377694801650959},\n {'x': 5.300000000000003, 'y': -0.8322674422238993},\n {'x': 5.310000000000004, 'y': -0.8266821782320337},\n {'x': 5.320000000000004, 'y': -0.821014246711245},\n {'x': 5.330000000000004, 'y': -0.8152642144499614},\n {'x': 5.340000000000003, 'y': -0.8094326564466174},\n {'x': 5.350000000000004, 'y': -0.8035201558521532},\n {'x': 5.360000000000004, 'y': -0.7975273039117021},\n {'x': 5.370000000000004, 'y': -0.7914546999054638},\n {'x': 5.3800000000000034, 'y': -0.7853029510887783},\n {'x': 5.390000000000004, 'y': -0.7790726726314003},\n {'x': 5.400000000000004, 'y': -0.7727644875559849},\n {'x': 5.410000000000004, 'y': -0.7663790266757821},\n {'x': 5.4200000000000035, 'y': -0.7599169285315588},\n {'x': 5.430000000000004, 'y': -0.7533788393277436},\n {'x': 5.440000000000004, 'y': -0.74676541286781},\n {'x': 5.450000000000004, 'y': -0.7400773104888919},\n {'x': 5.4600000000000035, 'y': -0.7333152009956541},\n {'x': 5.470000000000004, 'y': -0.72647976059341},\n {'x': 5.480000000000004, 'y': -0.719571672820505},\n {'x': 5.490000000000004, 'y': -0.7125916284799589},\n {'x': 5.5000000000000036, 'y': -0.7055403255703894},\n {'x': 5.510000000000004, 'y': -0.6984184692162104},\n {'x': 5.520000000000004, 'y': -0.6912267715971239},\n {'x': 5.530000000000004, 'y': -0.683965951876898},\n {'x': 5.540000000000004, 'y': -0.6766367361314543},\n {'x': 5.550000000000004, 'y': -0.6692398572762587},\n {'x': 5.560000000000004, 'y': -0.6617760549930343},\n {'x': 5.570000000000004, 'y': -0.6542460756557886},\n {'x': 5.580000000000004, 'y': -0.6466506722561808},\n {'x': 5.590000000000004, 'y': -0.6389906043282203},\n {'x': 5.600000000000004, 'y': -0.6312666378723182},\n {'x': 5.610000000000004, 'y': -0.6234795452786825},\n {'x': 5.620000000000004, 'y': -0.6156301052500835},\n {'x': 5.630000000000004, 'y': -0.6077191027239823},\n {'x': 5.640000000000004, 'y': -0.5997473287940402},\n {'x': 5.650000000000004, 'y': -0.5917155806310065},\n {'x': 5.660000000000004, 'y': -0.5836246614030044},\n {'x': 5.670000000000004, 'y': -0.5754753801952135},\n {'x': 5.680000000000004, 'y': -0.567268551928965},\n {'x': 5.690000000000004, 'y': -0.5590049972802459},\n {'x': 5.700000000000004, 'y': -0.5506855425976347},\n {'x': 5.710000000000004, 'y': -0.542311019819666},\n {'x': 5.720000000000004, 'y': -0.5338822663916405},\n {'x': 5.730000000000004, 'y': -0.5254001251818762},\n {'x': 5.740000000000004, 'y': -0.5168654443974258},\n {'x': 5.750000000000004, 'y': -0.5082790774992545},\n {'x': 5.760000000000004, 'y': -0.4996418831168986},\n {'x': 5.770000000000004, 'y': -0.49095472496259784},\n {'x': 5.780000000000004, 'y': -0.48221847174492843},\n {'x': 5.7900000000000045, 'y': -0.4734339970819311},\n {'x': 5.800000000000004, 'y': -0.4646021794137534},\n {'x': 5.810000000000004, 'y': -0.45572390191480155},\n {'x': 5.820000000000004, 'y': -0.44680005240542686},\n {'x': 5.8300000000000045, 'y': -0.4378315232631429},\n {'x': 5.840000000000004, 'y': -0.4288192113333919},\n {'x': 5.850000000000004, 'y': -0.4197640178398556},\n {'x': 5.860000000000004, 'y': -0.41066684829433764},\n {'x': 5.8700000000000045, 'y': -0.40152861240621057},\n {'x': 5.880000000000004, 'y': -0.39235022399144975},\n {'x': 5.890000000000004, 'y': -0.3831326008812473},\n {'x': 5.900000000000004, 'y': -0.37387666483023274},\n {'x': 5.910000000000005, 'y': -0.3645833414242972},\n {'x': 5.920000000000004, 'y': -0.35525355998803854},\n {'x': 5.930000000000004, 'y': -0.34588825349182467},\n {'x': 5.940000000000004, 'y': -0.3364883584585009},\n {'x': 5.950000000000005, 'y': -0.3270548148697365},\n {'x': 5.960000000000004, 'y': -0.3175885660720306},\n {'x': 5.970000000000004, 'y': -0.3080905586823739},\n {'x': 5.980000000000004, 'y': -0.2985617424935902},\n {'x': 5.990000000000005, 'y': -0.2890030703793569},\n {'x': 6.000000000000004, 'y': -0.2794154981989216},\n {'x': 6.010000000000004, 'y': -0.2697999847015119},\n {'x': 6.020000000000004, 'y': -0.2601574914304646},\n {'x': 6.030000000000005, 'y': -0.2504889826270706},\n {'x': 6.0400000000000045, 'y': -0.24079542513415486},\n {'x': 6.050000000000004, 'y': -0.2310777882993879},\n {'x': 6.060000000000004, 'y': -0.2213370438783552},\n {'x': 6.070000000000005, 'y': -0.2115741659373807},\n {'x': 6.0800000000000045, 'y': -0.20179013075612454},\n {'x': 6.090000000000004, 'y': -0.19198591672995066},\n {'x': 6.100000000000004, 'y': -0.18216250427209152},\n {'x': 6.110000000000005, 'y': -0.17232087571560586},\n {'x': 6.1200000000000045, 'y': -0.1624620152151498},\n {'x': 6.130000000000004, 'y': -0.15258690864855676},\n {'x': 6.140000000000004, 'y': -0.1426965435182542},\n {'x': 6.150000000000005, 'y': -0.13279190885251232},\n {'x': 6.160000000000005, 'y': -0.12287399510654563},\n {'x': 6.170000000000004, 'y': -0.11294379406346296},\n {'x': 6.180000000000004, 'y': -0.10300229873509344},\n {'x': 6.190000000000005, 'y': -0.09305050326268448},\n {'x': 6.200000000000005, 'y': -0.08308940281749197},\n {'x': 6.210000000000004, 'y': -0.07311999350125865},\n {'x': 6.220000000000004, 'y': -0.06314327224660835},\n {'x': 6.230000000000005, 'y': -0.05316023671735169},\n {'x': 6.240000000000005, 'y': -0.043171885208724246},\n {'x': 6.250000000000004, 'y': -0.033179216547552376},\n {'x': 6.260000000000004, 'y': -0.02318322999237501},\n {'x': 6.270000000000005, 'y': -0.01318492513351681},\n {'x': 6.280000000000005, 'y': -0.0031853017931335495}]"
     },
     "execution_count": 70,
     "metadata": {},
     "output_type": "execute_result"
    }
   ],
   "source": [
    "%%kql\n",
    "range x from 0.0 to 2*pi() step 0.01 | extend y=sin(x) | render linechart"
   ]
  },
  {
   "cell_type": "code",
   "execution_count": 45,
   "metadata": {},
   "outputs": [
    {
     "data": {
      "application/javascript": "try {IPython.notebook.kernel.execute(\"NOTEBOOK_URL = '\" + window.location + \"'\");} catch(err) {;}",
      "text/plain": "<IPython.core.display.Javascript object>"
     },
     "metadata": {},
     "output_type": "display_data"
    },
    {
     "data": {
      "text/html": "<html>\n        <head>\n        \n        </head>\n        <body>\n        <div><p style='padding: 10px; color: #3a87ad; background-color: #d9edf7; border-color: #bce9f1'>&nbsp;*&nbsp;test@trillsample_westeurope</p></div>\n        </body>\n        </html>",
      "text/plain": "<IPython.core.display.HTML object>"
     },
     "metadata": {},
     "output_type": "display_data"
    },
    {
     "data": {
      "text/html": "        <script type=\"text/javascript\">\n        window.PlotlyConfig = {MathJaxConfig: 'local'};\n        if (window.MathJax) {MathJax.Hub.Config({SVG: {font: \"STIX-Web\"}});}\n        if (typeof require !== 'undefined') {\n        require.undef(\"plotly\");\n        requirejs.config({\n            paths: {\n                'plotly': ['https://cdn.plot.ly/plotly-latest.min']\n            }\n        });\n        require(['plotly'], function(Plotly) {\n            window._Plotly = Plotly;\n        });\n        }\n        </script>\n        "
     },
     "metadata": {},
     "output_type": "display_data"
    },
    {
     "data": {
      "application/vnd.plotly.v1+json": {
       "config": {
        "linkText": "Export to plot.ly",
        "plotlyServerURL": "https://plot.ly",
        "showLink": false
       },
       "data": [
        {
         "line": {
          "color": "rgb(31, 118, 179)",
          "width": 1
         },
         "name": "CARICO_PEZZI:timeStamp",
         "opacity": 0.8,
         "type": "scatter",
         "uid": "66e2d371-2298-48e6-9543-d44169106f2e",
         "x": [
          "23",
          "23.1",
          "23.2",
          "23.3",
          "23.4",
          "23.5",
          "23.6",
          "23.7",
          "23.8",
          "23.9"
         ],
         "y": [
          637120035550837800,
          637120035550810800,
          637120035550809000,
          637120035550827500,
          637120035550806900,
          637120035550817400,
          637120035550831400,
          637120035550833500,
          637120035550812900,
          637120035550804700
         ]
        },
        {
         "line": {
          "color": "rgb(254, 127, 14)",
          "width": 1
         },
         "name": "FINE_CICLO:timeStamp",
         "opacity": 0.8,
         "type": "scatter",
         "uid": "e030fe00-3bb0-4acc-82fd-1daaded4028c",
         "x": [
          "23",
          "23.1",
          "23.2",
          "23.3",
          "23.4",
          "23.5",
          "23.6",
          "23.7",
          "23.8",
          "23.9"
         ],
         "y": [
          637120035550818300,
          637120035550871700,
          637120035550812000,
          637120035550828400,
          637120035550826600,
          637120035550806000,
          637120035550822400,
          637120035550824300,
          637120035550854900,
          637120035550816400
         ]
        }
       ],
       "layout": {
        "showlegend": true,
        "template": {
         "data": {
          "bar": [
           {
            "error_x": {
             "color": "#2a3f5f"
            },
            "error_y": {
             "color": "#2a3f5f"
            },
            "marker": {
             "line": {
              "color": "#E5ECF6",
              "width": 0.5
             }
            },
            "type": "bar"
           }
          ],
          "barpolar": [
           {
            "marker": {
             "line": {
              "color": "#E5ECF6",
              "width": 0.5
             }
            },
            "type": "barpolar"
           }
          ],
          "carpet": [
           {
            "aaxis": {
             "endlinecolor": "#2a3f5f",
             "gridcolor": "white",
             "linecolor": "white",
             "minorgridcolor": "white",
             "startlinecolor": "#2a3f5f"
            },
            "baxis": {
             "endlinecolor": "#2a3f5f",
             "gridcolor": "white",
             "linecolor": "white",
             "minorgridcolor": "white",
             "startlinecolor": "#2a3f5f"
            },
            "type": "carpet"
           }
          ],
          "choropleth": [
           {
            "colorbar": {
             "outlinewidth": 0,
             "ticks": ""
            },
            "type": "choropleth"
           }
          ],
          "contour": [
           {
            "colorbar": {
             "outlinewidth": 0,
             "ticks": ""
            },
            "colorscale": [
             [
              0,
              "#0d0887"
             ],
             [
              0.1111111111111111,
              "#46039f"
             ],
             [
              0.2222222222222222,
              "#7201a8"
             ],
             [
              0.3333333333333333,
              "#9c179e"
             ],
             [
              0.4444444444444444,
              "#bd3786"
             ],
             [
              0.5555555555555556,
              "#d8576b"
             ],
             [
              0.6666666666666666,
              "#ed7953"
             ],
             [
              0.7777777777777778,
              "#fb9f3a"
             ],
             [
              0.8888888888888888,
              "#fdca26"
             ],
             [
              1,
              "#f0f921"
             ]
            ],
            "type": "contour"
           }
          ],
          "contourcarpet": [
           {
            "colorbar": {
             "outlinewidth": 0,
             "ticks": ""
            },
            "type": "contourcarpet"
           }
          ],
          "heatmap": [
           {
            "colorbar": {
             "outlinewidth": 0,
             "ticks": ""
            },
            "colorscale": [
             [
              0,
              "#0d0887"
             ],
             [
              0.1111111111111111,
              "#46039f"
             ],
             [
              0.2222222222222222,
              "#7201a8"
             ],
             [
              0.3333333333333333,
              "#9c179e"
             ],
             [
              0.4444444444444444,
              "#bd3786"
             ],
             [
              0.5555555555555556,
              "#d8576b"
             ],
             [
              0.6666666666666666,
              "#ed7953"
             ],
             [
              0.7777777777777778,
              "#fb9f3a"
             ],
             [
              0.8888888888888888,
              "#fdca26"
             ],
             [
              1,
              "#f0f921"
             ]
            ],
            "type": "heatmap"
           }
          ],
          "heatmapgl": [
           {
            "colorbar": {
             "outlinewidth": 0,
             "ticks": ""
            },
            "colorscale": [
             [
              0,
              "#0d0887"
             ],
             [
              0.1111111111111111,
              "#46039f"
             ],
             [
              0.2222222222222222,
              "#7201a8"
             ],
             [
              0.3333333333333333,
              "#9c179e"
             ],
             [
              0.4444444444444444,
              "#bd3786"
             ],
             [
              0.5555555555555556,
              "#d8576b"
             ],
             [
              0.6666666666666666,
              "#ed7953"
             ],
             [
              0.7777777777777778,
              "#fb9f3a"
             ],
             [
              0.8888888888888888,
              "#fdca26"
             ],
             [
              1,
              "#f0f921"
             ]
            ],
            "type": "heatmapgl"
           }
          ],
          "histogram": [
           {
            "marker": {
             "colorbar": {
              "outlinewidth": 0,
              "ticks": ""
             }
            },
            "type": "histogram"
           }
          ],
          "histogram2d": [
           {
            "colorbar": {
             "outlinewidth": 0,
             "ticks": ""
            },
            "colorscale": [
             [
              0,
              "#0d0887"
             ],
             [
              0.1111111111111111,
              "#46039f"
             ],
             [
              0.2222222222222222,
              "#7201a8"
             ],
             [
              0.3333333333333333,
              "#9c179e"
             ],
             [
              0.4444444444444444,
              "#bd3786"
             ],
             [
              0.5555555555555556,
              "#d8576b"
             ],
             [
              0.6666666666666666,
              "#ed7953"
             ],
             [
              0.7777777777777778,
              "#fb9f3a"
             ],
             [
              0.8888888888888888,
              "#fdca26"
             ],
             [
              1,
              "#f0f921"
             ]
            ],
            "type": "histogram2d"
           }
          ],
          "histogram2dcontour": [
           {
            "colorbar": {
             "outlinewidth": 0,
             "ticks": ""
            },
            "colorscale": [
             [
              0,
              "#0d0887"
             ],
             [
              0.1111111111111111,
              "#46039f"
             ],
             [
              0.2222222222222222,
              "#7201a8"
             ],
             [
              0.3333333333333333,
              "#9c179e"
             ],
             [
              0.4444444444444444,
              "#bd3786"
             ],
             [
              0.5555555555555556,
              "#d8576b"
             ],
             [
              0.6666666666666666,
              "#ed7953"
             ],
             [
              0.7777777777777778,
              "#fb9f3a"
             ],
             [
              0.8888888888888888,
              "#fdca26"
             ],
             [
              1,
              "#f0f921"
             ]
            ],
            "type": "histogram2dcontour"
           }
          ],
          "mesh3d": [
           {
            "colorbar": {
             "outlinewidth": 0,
             "ticks": ""
            },
            "type": "mesh3d"
           }
          ],
          "parcoords": [
           {
            "line": {
             "colorbar": {
              "outlinewidth": 0,
              "ticks": ""
             }
            },
            "type": "parcoords"
           }
          ],
          "pie": [
           {
            "automargin": true,
            "type": "pie"
           }
          ],
          "scatter": [
           {
            "marker": {
             "colorbar": {
              "outlinewidth": 0,
              "ticks": ""
             }
            },
            "type": "scatter"
           }
          ],
          "scatter3d": [
           {
            "line": {
             "colorbar": {
              "outlinewidth": 0,
              "ticks": ""
             }
            },
            "marker": {
             "colorbar": {
              "outlinewidth": 0,
              "ticks": ""
             }
            },
            "type": "scatter3d"
           }
          ],
          "scattercarpet": [
           {
            "marker": {
             "colorbar": {
              "outlinewidth": 0,
              "ticks": ""
             }
            },
            "type": "scattercarpet"
           }
          ],
          "scattergeo": [
           {
            "marker": {
             "colorbar": {
              "outlinewidth": 0,
              "ticks": ""
             }
            },
            "type": "scattergeo"
           }
          ],
          "scattergl": [
           {
            "marker": {
             "colorbar": {
              "outlinewidth": 0,
              "ticks": ""
             }
            },
            "type": "scattergl"
           }
          ],
          "scattermapbox": [
           {
            "marker": {
             "colorbar": {
              "outlinewidth": 0,
              "ticks": ""
             }
            },
            "type": "scattermapbox"
           }
          ],
          "scatterpolar": [
           {
            "marker": {
             "colorbar": {
              "outlinewidth": 0,
              "ticks": ""
             }
            },
            "type": "scatterpolar"
           }
          ],
          "scatterpolargl": [
           {
            "marker": {
             "colorbar": {
              "outlinewidth": 0,
              "ticks": ""
             }
            },
            "type": "scatterpolargl"
           }
          ],
          "scatterternary": [
           {
            "marker": {
             "colorbar": {
              "outlinewidth": 0,
              "ticks": ""
             }
            },
            "type": "scatterternary"
           }
          ],
          "surface": [
           {
            "colorbar": {
             "outlinewidth": 0,
             "ticks": ""
            },
            "colorscale": [
             [
              0,
              "#0d0887"
             ],
             [
              0.1111111111111111,
              "#46039f"
             ],
             [
              0.2222222222222222,
              "#7201a8"
             ],
             [
              0.3333333333333333,
              "#9c179e"
             ],
             [
              0.4444444444444444,
              "#bd3786"
             ],
             [
              0.5555555555555556,
              "#d8576b"
             ],
             [
              0.6666666666666666,
              "#ed7953"
             ],
             [
              0.7777777777777778,
              "#fb9f3a"
             ],
             [
              0.8888888888888888,
              "#fdca26"
             ],
             [
              1,
              "#f0f921"
             ]
            ],
            "type": "surface"
           }
          ],
          "table": [
           {
            "cells": {
             "fill": {
              "color": "#EBF0F8"
             },
             "line": {
              "color": "white"
             }
            },
            "header": {
             "fill": {
              "color": "#C8D4E3"
             },
             "line": {
              "color": "white"
             }
            },
            "type": "table"
           }
          ]
         },
         "layout": {
          "annotationdefaults": {
           "arrowcolor": "#2a3f5f",
           "arrowhead": 0,
           "arrowwidth": 1
          },
          "coloraxis": {
           "colorbar": {
            "outlinewidth": 0,
            "ticks": ""
           }
          },
          "colorscale": {
           "diverging": [
            [
             0,
             "#8e0152"
            ],
            [
             0.1,
             "#c51b7d"
            ],
            [
             0.2,
             "#de77ae"
            ],
            [
             0.3,
             "#f1b6da"
            ],
            [
             0.4,
             "#fde0ef"
            ],
            [
             0.5,
             "#f7f7f7"
            ],
            [
             0.6,
             "#e6f5d0"
            ],
            [
             0.7,
             "#b8e186"
            ],
            [
             0.8,
             "#7fbc41"
            ],
            [
             0.9,
             "#4d9221"
            ],
            [
             1,
             "#276419"
            ]
           ],
           "sequential": [
            [
             0,
             "#0d0887"
            ],
            [
             0.1111111111111111,
             "#46039f"
            ],
            [
             0.2222222222222222,
             "#7201a8"
            ],
            [
             0.3333333333333333,
             "#9c179e"
            ],
            [
             0.4444444444444444,
             "#bd3786"
            ],
            [
             0.5555555555555556,
             "#d8576b"
            ],
            [
             0.6666666666666666,
             "#ed7953"
            ],
            [
             0.7777777777777778,
             "#fb9f3a"
            ],
            [
             0.8888888888888888,
             "#fdca26"
            ],
            [
             1,
             "#f0f921"
            ]
           ],
           "sequentialminus": [
            [
             0,
             "#0d0887"
            ],
            [
             0.1111111111111111,
             "#46039f"
            ],
            [
             0.2222222222222222,
             "#7201a8"
            ],
            [
             0.3333333333333333,
             "#9c179e"
            ],
            [
             0.4444444444444444,
             "#bd3786"
            ],
            [
             0.5555555555555556,
             "#d8576b"
            ],
            [
             0.6666666666666666,
             "#ed7953"
            ],
            [
             0.7777777777777778,
             "#fb9f3a"
            ],
            [
             0.8888888888888888,
             "#fdca26"
            ],
            [
             1,
             "#f0f921"
            ]
           ]
          },
          "colorway": [
           "#636efa",
           "#EF553B",
           "#00cc96",
           "#ab63fa",
           "#FFA15A",
           "#19d3f3",
           "#FF6692",
           "#B6E880",
           "#FF97FF",
           "#FECB52"
          ],
          "font": {
           "color": "#2a3f5f"
          },
          "geo": {
           "bgcolor": "white",
           "lakecolor": "white",
           "landcolor": "#E5ECF6",
           "showlakes": true,
           "showland": true,
           "subunitcolor": "white"
          },
          "hoverlabel": {
           "align": "left"
          },
          "hovermode": "closest",
          "mapbox": {
           "style": "light"
          },
          "paper_bgcolor": "white",
          "plot_bgcolor": "#E5ECF6",
          "polar": {
           "angularaxis": {
            "gridcolor": "white",
            "linecolor": "white",
            "ticks": ""
           },
           "bgcolor": "#E5ECF6",
           "radialaxis": {
            "gridcolor": "white",
            "linecolor": "white",
            "ticks": ""
           }
          },
          "scene": {
           "xaxis": {
            "backgroundcolor": "#E5ECF6",
            "gridcolor": "white",
            "gridwidth": 2,
            "linecolor": "white",
            "showbackground": true,
            "ticks": "",
            "zerolinecolor": "white"
           },
           "yaxis": {
            "backgroundcolor": "#E5ECF6",
            "gridcolor": "white",
            "gridwidth": 2,
            "linecolor": "white",
            "showbackground": true,
            "ticks": "",
            "zerolinecolor": "white"
           },
           "zaxis": {
            "backgroundcolor": "#E5ECF6",
            "gridcolor": "white",
            "gridwidth": 2,
            "linecolor": "white",
            "showbackground": true,
            "ticks": "",
            "zerolinecolor": "white"
           }
          },
          "shapedefaults": {
           "line": {
            "color": "#2a3f5f"
           }
          },
          "ternary": {
           "aaxis": {
            "gridcolor": "white",
            "linecolor": "white",
            "ticks": ""
           },
           "baxis": {
            "gridcolor": "white",
            "linecolor": "white",
            "ticks": ""
           },
           "bgcolor": "#E5ECF6",
           "caxis": {
            "gridcolor": "white",
            "linecolor": "white",
            "ticks": ""
           }
          },
          "title": {
           "x": 0.05
          },
          "xaxis": {
           "automargin": true,
           "gridcolor": "white",
           "linecolor": "white",
           "ticks": "",
           "title": {
            "standoff": 15
           },
           "zerolinecolor": "white",
           "zerolinewidth": 2
          },
          "yaxis": {
           "automargin": true,
           "gridcolor": "white",
           "linecolor": "white",
           "ticks": "",
           "title": {
            "standoff": 15
           },
           "zerolinecolor": "white",
           "zerolinewidth": 2
          }
         }
        },
        "title": {
         "text": "linechart sample"
        },
        "xaxis": {
         "autorange": true,
         "title": {
          "text": "val"
         },
         "type": "linear"
        },
        "yaxis": {
         "title": {
          "text": "timeStamp"
         },
         "type": "linear"
        }
       }
      },
      "text/html": "<div>\n        \n        \n            <div id=\"88efb1b0-4fa6-4fd4-9fb2-47fed5e9e2ed\" class=\"plotly-graph-div\" style=\"height:525px; width:100%;\"></div>\n            <script type=\"text/javascript\">\n                require([\"plotly\"], function(Plotly) {\n                    window.PLOTLYENV=window.PLOTLYENV || {};\n                    \n                if (document.getElementById(\"88efb1b0-4fa6-4fd4-9fb2-47fed5e9e2ed\")) {\n                    Plotly.newPlot(\n                        '88efb1b0-4fa6-4fd4-9fb2-47fed5e9e2ed',\n                        [{\"line\": {\"color\": \"rgb(31, 118, 179)\", \"width\": 1}, \"name\": \"CARICO_PEZZI:timeStamp\", \"opacity\": 0.8, \"type\": \"scatter\", \"uid\": \"66e2d371-2298-48e6-9543-d44169106f2e\", \"x\": [\"23\", \"23.1\", \"23.2\", \"23.3\", \"23.4\", \"23.5\", \"23.6\", \"23.7\", \"23.8\", \"23.9\"], \"y\": [6.371200355508378e+17, 6.371200355508108e+17, 6.37120035550809e+17, 6.371200355508275e+17, 6.371200355508069e+17, 6.371200355508174e+17, 6.371200355508314e+17, 6.371200355508335e+17, 6.371200355508129e+17, 6.371200355508047e+17]}, {\"line\": {\"color\": \"rgb(254, 127, 14)\", \"width\": 1}, \"name\": \"FINE_CICLO:timeStamp\", \"opacity\": 0.8, \"type\": \"scatter\", \"uid\": \"e030fe00-3bb0-4acc-82fd-1daaded4028c\", \"x\": [\"23\", \"23.1\", \"23.2\", \"23.3\", \"23.4\", \"23.5\", \"23.6\", \"23.7\", \"23.8\", \"23.9\"], \"y\": [6.371200355508183e+17, 6.371200355508717e+17, 6.37120035550812e+17, 6.371200355508284e+17, 6.371200355508266e+17, 6.37120035550806e+17, 6.371200355508224e+17, 6.371200355508243e+17, 6.371200355508549e+17, 6.371200355508164e+17]}],\n                        {\"showlegend\": true, \"template\": {\"data\": {\"bar\": [{\"error_x\": {\"color\": \"#2a3f5f\"}, \"error_y\": {\"color\": \"#2a3f5f\"}, \"marker\": {\"line\": {\"color\": \"#E5ECF6\", \"width\": 0.5}}, \"type\": \"bar\"}], \"barpolar\": [{\"marker\": {\"line\": {\"color\": \"#E5ECF6\", \"width\": 0.5}}, \"type\": \"barpolar\"}], \"carpet\": [{\"aaxis\": {\"endlinecolor\": \"#2a3f5f\", \"gridcolor\": \"white\", \"linecolor\": \"white\", \"minorgridcolor\": \"white\", \"startlinecolor\": \"#2a3f5f\"}, \"baxis\": {\"endlinecolor\": \"#2a3f5f\", \"gridcolor\": \"white\", \"linecolor\": \"white\", \"minorgridcolor\": \"white\", \"startlinecolor\": \"#2a3f5f\"}, \"type\": \"carpet\"}], \"choropleth\": [{\"colorbar\": {\"outlinewidth\": 0, \"ticks\": \"\"}, \"type\": \"choropleth\"}], \"contour\": [{\"colorbar\": {\"outlinewidth\": 0, \"ticks\": \"\"}, \"colorscale\": [[0.0, \"#0d0887\"], [0.1111111111111111, \"#46039f\"], [0.2222222222222222, \"#7201a8\"], [0.3333333333333333, \"#9c179e\"], [0.4444444444444444, \"#bd3786\"], [0.5555555555555556, \"#d8576b\"], [0.6666666666666666, \"#ed7953\"], [0.7777777777777778, \"#fb9f3a\"], [0.8888888888888888, \"#fdca26\"], [1.0, \"#f0f921\"]], \"type\": \"contour\"}], \"contourcarpet\": [{\"colorbar\": {\"outlinewidth\": 0, \"ticks\": \"\"}, \"type\": \"contourcarpet\"}], \"heatmap\": [{\"colorbar\": {\"outlinewidth\": 0, \"ticks\": \"\"}, \"colorscale\": [[0.0, \"#0d0887\"], [0.1111111111111111, \"#46039f\"], [0.2222222222222222, \"#7201a8\"], [0.3333333333333333, \"#9c179e\"], [0.4444444444444444, \"#bd3786\"], [0.5555555555555556, \"#d8576b\"], [0.6666666666666666, \"#ed7953\"], [0.7777777777777778, \"#fb9f3a\"], [0.8888888888888888, \"#fdca26\"], [1.0, \"#f0f921\"]], \"type\": \"heatmap\"}], \"heatmapgl\": [{\"colorbar\": {\"outlinewidth\": 0, \"ticks\": \"\"}, \"colorscale\": [[0.0, \"#0d0887\"], [0.1111111111111111, \"#46039f\"], [0.2222222222222222, \"#7201a8\"], [0.3333333333333333, \"#9c179e\"], [0.4444444444444444, \"#bd3786\"], [0.5555555555555556, \"#d8576b\"], [0.6666666666666666, \"#ed7953\"], [0.7777777777777778, \"#fb9f3a\"], [0.8888888888888888, \"#fdca26\"], [1.0, \"#f0f921\"]], \"type\": \"heatmapgl\"}], \"histogram\": [{\"marker\": {\"colorbar\": {\"outlinewidth\": 0, \"ticks\": \"\"}}, \"type\": \"histogram\"}], \"histogram2d\": [{\"colorbar\": {\"outlinewidth\": 0, \"ticks\": \"\"}, \"colorscale\": [[0.0, \"#0d0887\"], [0.1111111111111111, \"#46039f\"], [0.2222222222222222, \"#7201a8\"], [0.3333333333333333, \"#9c179e\"], [0.4444444444444444, \"#bd3786\"], [0.5555555555555556, \"#d8576b\"], [0.6666666666666666, \"#ed7953\"], [0.7777777777777778, \"#fb9f3a\"], [0.8888888888888888, \"#fdca26\"], [1.0, \"#f0f921\"]], \"type\": \"histogram2d\"}], \"histogram2dcontour\": [{\"colorbar\": {\"outlinewidth\": 0, \"ticks\": \"\"}, \"colorscale\": [[0.0, \"#0d0887\"], [0.1111111111111111, \"#46039f\"], [0.2222222222222222, \"#7201a8\"], [0.3333333333333333, \"#9c179e\"], [0.4444444444444444, \"#bd3786\"], [0.5555555555555556, \"#d8576b\"], [0.6666666666666666, \"#ed7953\"], [0.7777777777777778, \"#fb9f3a\"], [0.8888888888888888, \"#fdca26\"], [1.0, \"#f0f921\"]], \"type\": \"histogram2dcontour\"}], \"mesh3d\": [{\"colorbar\": {\"outlinewidth\": 0, \"ticks\": \"\"}, \"type\": \"mesh3d\"}], \"parcoords\": [{\"line\": {\"colorbar\": {\"outlinewidth\": 0, \"ticks\": \"\"}}, \"type\": \"parcoords\"}], \"pie\": [{\"automargin\": true, \"type\": \"pie\"}], \"scatter\": [{\"marker\": {\"colorbar\": {\"outlinewidth\": 0, \"ticks\": \"\"}}, \"type\": \"scatter\"}], \"scatter3d\": [{\"line\": {\"colorbar\": {\"outlinewidth\": 0, \"ticks\": \"\"}}, \"marker\": {\"colorbar\": {\"outlinewidth\": 0, \"ticks\": \"\"}}, \"type\": \"scatter3d\"}], \"scattercarpet\": [{\"marker\": {\"colorbar\": {\"outlinewidth\": 0, \"ticks\": \"\"}}, \"type\": \"scattercarpet\"}], \"scattergeo\": [{\"marker\": {\"colorbar\": {\"outlinewidth\": 0, \"ticks\": \"\"}}, \"type\": \"scattergeo\"}], \"scattergl\": [{\"marker\": {\"colorbar\": {\"outlinewidth\": 0, \"ticks\": \"\"}}, \"type\": \"scattergl\"}], \"scattermapbox\": [{\"marker\": {\"colorbar\": {\"outlinewidth\": 0, \"ticks\": \"\"}}, \"type\": \"scattermapbox\"}], \"scatterpolar\": [{\"marker\": {\"colorbar\": {\"outlinewidth\": 0, \"ticks\": \"\"}}, \"type\": \"scatterpolar\"}], \"scatterpolargl\": [{\"marker\": {\"colorbar\": {\"outlinewidth\": 0, \"ticks\": \"\"}}, \"type\": \"scatterpolargl\"}], \"scatterternary\": [{\"marker\": {\"colorbar\": {\"outlinewidth\": 0, \"ticks\": \"\"}}, \"type\": \"scatterternary\"}], \"surface\": [{\"colorbar\": {\"outlinewidth\": 0, \"ticks\": \"\"}, \"colorscale\": [[0.0, \"#0d0887\"], [0.1111111111111111, \"#46039f\"], [0.2222222222222222, \"#7201a8\"], [0.3333333333333333, \"#9c179e\"], [0.4444444444444444, \"#bd3786\"], [0.5555555555555556, \"#d8576b\"], [0.6666666666666666, \"#ed7953\"], [0.7777777777777778, \"#fb9f3a\"], [0.8888888888888888, \"#fdca26\"], [1.0, \"#f0f921\"]], \"type\": \"surface\"}], \"table\": [{\"cells\": {\"fill\": {\"color\": \"#EBF0F8\"}, \"line\": {\"color\": \"white\"}}, \"header\": {\"fill\": {\"color\": \"#C8D4E3\"}, \"line\": {\"color\": \"white\"}}, \"type\": \"table\"}]}, \"layout\": {\"annotationdefaults\": {\"arrowcolor\": \"#2a3f5f\", \"arrowhead\": 0, \"arrowwidth\": 1}, \"coloraxis\": {\"colorbar\": {\"outlinewidth\": 0, \"ticks\": \"\"}}, \"colorscale\": {\"diverging\": [[0, \"#8e0152\"], [0.1, \"#c51b7d\"], [0.2, \"#de77ae\"], [0.3, \"#f1b6da\"], [0.4, \"#fde0ef\"], [0.5, \"#f7f7f7\"], [0.6, \"#e6f5d0\"], [0.7, \"#b8e186\"], [0.8, \"#7fbc41\"], [0.9, \"#4d9221\"], [1, \"#276419\"]], \"sequential\": [[0.0, \"#0d0887\"], [0.1111111111111111, \"#46039f\"], [0.2222222222222222, \"#7201a8\"], [0.3333333333333333, \"#9c179e\"], [0.4444444444444444, \"#bd3786\"], [0.5555555555555556, \"#d8576b\"], [0.6666666666666666, \"#ed7953\"], [0.7777777777777778, \"#fb9f3a\"], [0.8888888888888888, \"#fdca26\"], [1.0, \"#f0f921\"]], \"sequentialminus\": [[0.0, \"#0d0887\"], [0.1111111111111111, \"#46039f\"], [0.2222222222222222, \"#7201a8\"], [0.3333333333333333, \"#9c179e\"], [0.4444444444444444, \"#bd3786\"], [0.5555555555555556, \"#d8576b\"], [0.6666666666666666, \"#ed7953\"], [0.7777777777777778, \"#fb9f3a\"], [0.8888888888888888, \"#fdca26\"], [1.0, \"#f0f921\"]]}, \"colorway\": [\"#636efa\", \"#EF553B\", \"#00cc96\", \"#ab63fa\", \"#FFA15A\", \"#19d3f3\", \"#FF6692\", \"#B6E880\", \"#FF97FF\", \"#FECB52\"], \"font\": {\"color\": \"#2a3f5f\"}, \"geo\": {\"bgcolor\": \"white\", \"lakecolor\": \"white\", \"landcolor\": \"#E5ECF6\", \"showlakes\": true, \"showland\": true, \"subunitcolor\": \"white\"}, \"hoverlabel\": {\"align\": \"left\"}, \"hovermode\": \"closest\", \"mapbox\": {\"style\": \"light\"}, \"paper_bgcolor\": \"white\", \"plot_bgcolor\": \"#E5ECF6\", \"polar\": {\"angularaxis\": {\"gridcolor\": \"white\", \"linecolor\": \"white\", \"ticks\": \"\"}, \"bgcolor\": \"#E5ECF6\", \"radialaxis\": {\"gridcolor\": \"white\", \"linecolor\": \"white\", \"ticks\": \"\"}}, \"scene\": {\"xaxis\": {\"backgroundcolor\": \"#E5ECF6\", \"gridcolor\": \"white\", \"gridwidth\": 2, \"linecolor\": \"white\", \"showbackground\": true, \"ticks\": \"\", \"zerolinecolor\": \"white\"}, \"yaxis\": {\"backgroundcolor\": \"#E5ECF6\", \"gridcolor\": \"white\", \"gridwidth\": 2, \"linecolor\": \"white\", \"showbackground\": true, \"ticks\": \"\", \"zerolinecolor\": \"white\"}, \"zaxis\": {\"backgroundcolor\": \"#E5ECF6\", \"gridcolor\": \"white\", \"gridwidth\": 2, \"linecolor\": \"white\", \"showbackground\": true, \"ticks\": \"\", \"zerolinecolor\": \"white\"}}, \"shapedefaults\": {\"line\": {\"color\": \"#2a3f5f\"}}, \"ternary\": {\"aaxis\": {\"gridcolor\": \"white\", \"linecolor\": \"white\", \"ticks\": \"\"}, \"baxis\": {\"gridcolor\": \"white\", \"linecolor\": \"white\", \"ticks\": \"\"}, \"bgcolor\": \"#E5ECF6\", \"caxis\": {\"gridcolor\": \"white\", \"linecolor\": \"white\", \"ticks\": \"\"}}, \"title\": {\"x\": 0.05}, \"xaxis\": {\"automargin\": true, \"gridcolor\": \"white\", \"linecolor\": \"white\", \"ticks\": \"\", \"title\": {\"standoff\": 15}, \"zerolinecolor\": \"white\", \"zerolinewidth\": 2}, \"yaxis\": {\"automargin\": true, \"gridcolor\": \"white\", \"linecolor\": \"white\", \"ticks\": \"\", \"title\": {\"standoff\": 15}, \"zerolinecolor\": \"white\", \"zerolinewidth\": 2}}}, \"title\": {\"text\": \"linechart sample\"}, \"xaxis\": {\"autorange\": true, \"title\": {\"text\": \"val\"}, \"type\": \"linear\"}, \"yaxis\": {\"title\": {\"text\": \"timeStamp\"}, \"type\": \"linear\"}},\n                        {\"responsive\": true}\n                    ).then(function(){\n                            \nvar gd = document.getElementById('88efb1b0-4fa6-4fd4-9fb2-47fed5e9e2ed');\nvar x = new MutationObserver(function (mutations, observer) {{\n        var display = window.getComputedStyle(gd).display;\n        if (!display || display === 'none') {{\n            console.log([gd, 'removed!']);\n            Plotly.purge(gd);\n            observer.disconnect();\n        }}\n}});\n\n// Listen for the removal of the full notebook cells\nvar notebookContainer = gd.closest('#notebook-container');\nif (notebookContainer) {{\n    x.observe(notebookContainer, {childList: true});\n}}\n\n// Listen for the clearing of the current output cell\nvar outputEl = gd.closest('.output');\nif (outputEl) {{\n    x.observe(outputEl, {childList: true});\n}}\n\n                        })\n                };\n                });\n            </script>\n        </div>"
     },
     "metadata": {},
     "output_type": "display_data"
    },
    {
     "data": {
      "text/html": "<html>\n        <head>\n        \n        </head>\n        <body>\n        <div><p style='padding: 10px; color: #3a87ad; background-color: #d9edf7; border-color: #bce9f1'>Done&nbsp;(00:00.446):&nbsp;1000&nbsp;records</p></div>\n        </body>\n        </html>",
      "text/plain": "<IPython.core.display.HTML object>"
     },
     "metadata": {},
     "output_type": "display_data"
    },
    {
     "data": {
      "text/html": "",
      "text/plain": ".datetime(2019, 12, 15, 10, 45, 55, 98949, tzinfo=tzutc()), 'event': 'CARICO_PEZZI', 'val': '23.9'},\n {'timeStamp': datetime.datetime(2019, 12, 15, 10, 45, 55, 98854, tzinfo=tzutc()), 'event': 'FINE_CICLO', 'val': '23.9'},\n {'timeStamp': datetime.datetime(2019, 12, 15, 10, 45, 55, 98758, tzinfo=tzutc()), 'event': 'CARICO_PEZZI', 'val': '23.9'},\n {'timeStamp': datetime.datetime(2019, 12, 15, 10, 45, 55, 98661, tzinfo=tzutc()), 'event': 'FINE_CICLO', 'val': '23.6'},\n {'timeStamp': datetime.datetime(2019, 12, 15, 10, 45, 55, 98531, tzinfo=tzutc()), 'event': 'CARICO_PEZZI', 'val': '23.2'},\n {'timeStamp': datetime.datetime(2019, 12, 15, 10, 45, 55, 98436, tzinfo=tzutc()), 'event': 'FINE_CICLO', 'val': '23.6'},\n {'timeStamp': datetime.datetime(2019, 12, 15, 10, 45, 55, 98317, tzinfo=tzutc()), 'event': 'CARICO_PEZZI', 'val': '23.3'},\n {'timeStamp': datetime.datetime(2019, 12, 15, 10, 45, 55, 98222, tzinfo=tzutc()), 'event': 'FINE_CICLO', 'val': '23.3'},\n {'timeStamp': datetime.datetime(2019, 12, 15, 10, 45, 55, 98128, tzinfo=tzutc()), 'event': 'CARICO_PEZZI', 'val': '23.7'},\n {'timeStamp': datetime.datetime(2019, 12, 15, 10, 45, 55, 98033, tzinfo=tzutc()), 'event': 'FINE_CICLO', 'val': '23.4'},\n {'timeStamp': datetime.datetime(2019, 12, 15, 10, 45, 55, 97939, tzinfo=tzutc()), 'event': 'CARICO_PEZZI', 'val': '23.9'},\n {'timeStamp': datetime.datetime(2019, 12, 15, 10, 45, 55, 97844, tzinfo=tzutc()), 'event': 'FINE_CICLO', 'val': '23.5'},\n {'timeStamp': datetime.datetime(2019, 12, 15, 10, 45, 55, 97749, tzinfo=tzutc()), 'event': 'CARICO_PEZZI', 'val': '23.2'},\n {'timeStamp': datetime.datetime(2019, 12, 15, 10, 45, 55, 97653, tzinfo=tzutc()), 'event': 'FINE_CICLO', 'val': '23.9'},\n {'timeStamp': datetime.datetime(2019, 12, 15, 10, 45, 55, 97511, tzinfo=tzutc()), 'event': 'CARICO_PEZZI', 'val': '23.6'},\n {'timeStamp': datetime.datetime(2019, 12, 15, 10, 45, 55, 97411, tzinfo=tzutc()), 'event': 'FINE_CICLO', 'val': '23.7'},\n {'timeStamp': datetime.datetime(2019, 12, 15, 10, 45, 55, 97273, tzinfo=tzutc()), 'event': 'CARICO_PEZZI', 'val': '23.2'},\n {'timeStamp': datetime.datetime(2019, 12, 15, 10, 45, 55, 97179, tzinfo=tzutc()), 'event': 'FINE_CICLO', 'val': '23.5'},\n {'timeStamp': datetime.datetime(2019, 12, 15, 10, 45, 55, 97083, tzinfo=tzutc()), 'event': 'CARICO_PEZZI', 'val': '23.4'},\n {'timeStamp': datetime.datetime(2019, 12, 15, 10, 45, 55, 96989, tzinfo=tzutc()), 'event': 'FINE_CICLO', 'val': '23'},\n {'timeStamp': datetime.datetime(2019, 12, 15, 10, 45, 55, 96893, tzinfo=tzutc()), 'event': 'CARICO_PEZZI', 'val': '23.3'},\n {'timeStamp': datetime.datetime(2019, 12, 15, 10, 45, 55, 96799, tzinfo=tzutc()), 'event': 'FINE_CICLO', 'val': '23.1'},\n {'timeStamp': datetime.datetime(2019, 12, 15, 10, 45, 55, 96704, tzinfo=tzutc()), 'event': 'CARICO_PEZZI', 'val': '23.8'},\n {'timeStamp': datetime.datetime(2019, 12, 15, 10, 45, 55, 96604, tzinfo=tzutc()), 'event': 'FINE_CICLO', 'val': '23.5'},\n {'timeStamp': datetime.datetime(2019, 12, 15, 10, 45, 55, 96475, tzinfo=tzutc()), 'event': 'CARICO_PEZZI', 'val': '23.1'},\n {'timeStamp': datetime.datetime(2019, 12, 15, 10, 45, 55, 96366, tzinfo=tzutc()), 'event': 'FINE_CICLO', 'val': '23.5'},\n {'timeStamp': datetime.datetime(2019, 12, 15, 10, 45, 55, 96246, tzinfo=tzutc()), 'event': 'CARICO_PEZZI', 'val': '23.6'},\n {'timeStamp': datetime.datetime(2019, 12, 15, 10, 45, 55, 96132, tzinfo=tzutc()), 'event': 'FINE_CICLO', 'val': '23.5'},\n {'timeStamp': datetime.datetime(2019, 12, 15, 10, 45, 55, 96037, tzinfo=tzutc()), 'event': 'CARICO_PEZZI', 'val': '23'},\n {'timeStamp': datetime.datetime(2019, 12, 15, 10, 45, 55, 95937, tzinfo=tzutc()), 'event': 'FINE_CICLO', 'val': '23.8'},\n {'timeStamp': datetime.datetime(2019, 12, 15, 10, 45, 55, 95835, tzinfo=tzutc()), 'event': 'CARICO_PEZZI', 'val': '23.9'},\n {'timeStamp': datetime.datetime(2019, 12, 15, 10, 45, 55, 95735, tzinfo=tzutc()), 'event': 'FINE_CICLO', 'val': '23.3'},\n {'timeStamp': datetime.datetime(2019, 12, 15, 10, 45, 55, 95499, tzinfo=tzutc()), 'event': 'CARICO_PEZZI', 'val': '23.7'},\n {'timeStamp': datetime.datetime(2019, 12, 15, 10, 45, 55, 95394, tzinfo=tzutc()), 'event': 'FINE_CICLO', 'val': '23.7'},\n {'timeStamp': datetime.datetime(2019, 12, 15, 10, 45, 55, 95280, tzinfo=tzutc()), 'event': 'CARICO_PEZZI', 'val': '23.4'},\n {'timeStamp': datetime.datetime(2019, 12, 15, 10, 45, 55, 95176, tzinfo=tzutc()), 'event': 'FINE_CICLO', 'val': '23.3'},\n {'timeStamp': datetime.datetime(2019, 12, 15, 10, 45, 55, 95036, tzinfo=tzutc()), 'event': 'CARICO_PEZZI', 'val': '23.7'},\n {'timeStamp': datetime.datetime(2019, 12, 15, 10, 45, 55, 94915, tzinfo=tzutc()), 'event': 'FINE_CICLO', 'val': '23'},\n {'timeStamp': datetime.datetime(2019, 12, 15, 10, 45, 55, 94813, tzinfo=tzutc()), 'event': 'CARICO_PEZZI', 'val': '23'},\n {'timeStamp': datetime.datetime(2019, 12, 15, 10, 45, 55, 94699, tzinfo=tzutc()), 'event': 'FINE_CICLO', 'val': '23.5'},\n {'timeStamp': datetime.datetime(2019, 12, 15, 10, 45, 55, 94592, tzinfo=tzutc()), 'event': 'CARICO_PEZZI', 'val': '23.2'},\n {'timeStamp': datetime.datetime(2019, 12, 15, 10, 45, 55, 94454, tzinfo=tzutc()), 'event': 'FINE_CICLO', 'val': '23.9'},\n {'timeStamp': datetime.datetime(2019, 12, 15, 10, 45, 55, 94352, tzinfo=tzutc()), 'event': 'CARICO_PEZZI', 'val': '23.2'},\n {'timeStamp': datetime.datetime(2019, 12, 15, 10, 45, 55, 94257, tzinfo=tzutc()), 'event': 'FINE_CICLO', 'val': '23.8'},\n {'timeStamp': datetime.datetime(2019, 12, 15, 10, 45, 55, 94163, tzinfo=tzutc()), 'event': 'CARICO_PEZZI', 'val': '23.7'},\n {'timeStamp': datetime.datetime(2019, 12, 15, 10, 45, 55, 94066, tzinfo=tzutc()), 'event': 'FINE_CICLO', 'val': '23.8'},\n {'timeStamp': datetime.datetime(2019, 12, 15, 10, 45, 55, 93935, tzinfo=tzutc()), 'event': 'CARICO_PEZZI', 'val': '23.5'},\n {'timeStamp': datetime.datetime(2019, 12, 15, 10, 45, 55, 93814, tzinfo=tzutc()), 'event': 'FINE_CICLO', 'val': '23.5'},\n {'timeStamp': datetime.datetime(2019, 12, 15, 10, 45, 55, 93704, tzinfo=tzutc()), 'event': 'CARICO_PEZZI', 'val': '23.6'},\n {'timeStamp': datetime.datetime(2019, 12, 15, 10, 45, 55, 93574, tzinfo=tzutc()), 'event': 'FINE_CICLO', 'val': '23.6'},\n {'timeStamp': datetime.datetime(2019, 12, 15, 10, 45, 55, 93428, tzinfo=tzutc()), 'event': 'CARICO_PEZZI', 'val': '23.5'},\n {'timeStamp': datetime.datetime(2019, 12, 15, 10, 45, 55, 93292, tzinfo=tzutc()), 'event': 'FINE_CICLO', 'val': '23.9'},\n {'timeStamp': datetime.datetime(2019, 12, 15, 10, 45, 55, 93164, tzinfo=tzutc()), 'event': 'CARICO_PEZZI', 'val': '23.6'},\n {'timeStamp': datetime.datetime(2019, 12, 15, 10, 45, 55, 93049, tzinfo=tzutc()), 'event': 'FINE_CICLO', 'val': '23.2'},\n {'timeStamp': datetime.datetime(2019, 12, 15, 10, 45, 55, 92939, tzinfo=tzutc()), 'event': 'CARICO_PEZZI', 'val': '23.5'},\n {'timeStamp': datetime.datetime(2019, 12, 15, 10, 45, 55, 92831, tzinfo=tzutc()), 'event': 'FINE_CICLO', 'val': '23.1'},\n {'timeStamp': datetime.datetime(2019, 12, 15, 10, 45, 55, 92687, tzinfo=tzutc()), 'event': 'CARICO_PEZZI', 'val': '23.4'},\n {'timeStamp': datetime.datetime(2019, 12, 15, 10, 45, 55, 92577, tzinfo=tzutc()), 'event': 'FINE_CICLO', 'val': '23.7'},\n {'timeStamp': datetime.datetime(2019, 12, 15, 10, 45, 55, 92437, tzinfo=tzutc()), 'event': 'CARICO_PEZZI', 'val': '23.9'},\n {'timeStamp': datetime.datetime(2019, 12, 15, 10, 45, 55, 92322, tzinfo=tzutc()), 'event': 'FINE_CICLO', 'val': '23.7'},\n {'timeStamp': datetime.datetime(2019, 12, 15, 10, 45, 55, 92218, tzinfo=tzutc()), 'event': 'CARICO_PEZZI', 'val': '23.2'},\n {'timeStamp': datetime.datetime(2019, 12, 15, 10, 45, 55, 92087, tzinfo=tzutc()), 'event': 'FINE_CICLO', 'val': '23.4'},\n {'timeStamp': datetime.datetime(2019, 12, 15, 10, 45, 55, 91966, tzinfo=tzutc()), 'event': 'CARICO_PEZZI', 'val': '23.6'},\n {'timeStamp': datetime.datetime(2019, 12, 15, 10, 45, 55, 91838, tzinfo=tzutc()), 'event': 'FINE_CICLO', 'val': '23.5'},\n {'timeStamp': datetime.datetime(2019, 12, 15, 10, 45, 55, 91646, tzinfo=tzutc()), 'event': 'CARICO_PEZZI', 'val': '23.6'},\n {'timeStamp': datetime.datetime(2019, 12, 15, 10, 45, 55, 91496, tzinfo=tzutc()), 'event': 'FINE_CICLO', 'val': '23.5'},\n {'timeStamp': datetime.datetime(2019, 12, 15, 10, 45, 55, 91338, tzinfo=tzutc()), 'event': 'CARICO_PEZZI', 'val': '23.3'},\n {'timeStamp': datetime.datetime(2019, 12, 15, 10, 45, 55, 91244, tzinfo=tzutc()), 'event': 'FINE_CICLO', 'val': '23.6'},\n {'timeStamp': datetime.datetime(2019, 12, 15, 10, 45, 55, 91149, tzinfo=tzutc()), 'event': 'CARICO_PEZZI', 'val': '23.6'},\n {'timeStamp': datetime.datetime(2019, 12, 15, 10, 45, 55, 91056, tzinfo=tzutc()), 'event': 'FINE_CICLO', 'val': '23.1'},\n {'timeStamp': datetime.datetime(2019, 12, 15, 10, 45, 55, 90959, tzinfo=tzutc()), 'event': 'CARICO_PEZZI', 'val': '23.9'},\n {'timeStamp': datetime.datetime(2019, 12, 15, 10, 45, 55, 90860, tzinfo=tzutc()), 'event': 'FINE_CICLO', 'val': '23'},\n {'timeStamp': datetime.datetime(2019, 12, 15, 10, 45, 55, 90755, tzinfo=tzutc()), 'event': 'CARICO_PEZZI', 'val': '23.8'},\n {'timeStamp': datetime.datetime(2019, 12, 15, 10, 45, 55, 90650, tzinfo=tzutc()), 'event': 'FINE_CICLO', 'val': '23.9'},\n {'timeStamp': datetime.datetime(2019, 12, 15, 10, 45, 55, 90482, tzinfo=tzutc()), 'event': 'CARICO_PEZZI', 'val': '23.4'},\n {'timeStamp': datetime.datetime(2019, 12, 15, 10, 45, 55, 90347, tzinfo=tzutc()), 'event': 'FINE_CICLO', 'val': '23.4'},\n {'timeStamp': datetime.datetime(2019, 12, 15, 10, 45, 55, 90222, tzinfo=tzutc()), 'event': 'CARICO_PEZZI', 'val': '23.1'},\n {'timeStamp': datetime.datetime(2019, 12, 15, 10, 45, 55, 90113, tzinfo=tzutc()), 'event': 'FINE_CICLO', 'val': '23.1'},\n {'timeStamp': datetime.datetime(2019, 12, 15, 10, 45, 55, 90017, tzinfo=tzutc()), 'event': 'CARICO_PEZZI', 'val': '23.9'},\n {'timeStamp': datetime.datetime(2019, 12, 15, 10, 45, 55, 89894, tzinfo=tzutc()), 'event': 'FINE_CICLO', 'val': '23'},\n {'timeStamp': datetime.datetime(2019, 12, 15, 10, 45, 55, 89798, tzinfo=tzutc()), 'event': 'CARICO_PEZZI', 'val': '23.5'},\n {'timeStamp': datetime.datetime(2019, 12, 15, 10, 45, 55, 89654, tzinfo=tzutc()), 'event': 'FINE_CICLO', 'val': '23.4'},\n {'timeStamp': datetime.datetime(2019, 12, 15, 10, 45, 55, 89455, tzinfo=tzutc()), 'event': 'CARICO_PEZZI', 'val': '23'},\n {'timeStamp': datetime.datetime(2019, 12, 15, 10, 45, 55, 89332, tzinfo=tzutc()), 'event': 'FINE_CICLO', 'val': '23.3'},\n {'timeStamp': datetime.datetime(2019, 12, 15, 10, 45, 55, 89236, tzinfo=tzutc()), 'event': 'CARICO_PEZZI', 'val': '23.5'},\n {'timeStamp': datetime.datetime(2019, 12, 15, 10, 45, 55, 89141, tzinfo=tzutc()), 'event': 'FINE_CICLO', 'val': '23.2'},\n {'timeStamp': datetime.datetime(2019, 12, 15, 10, 45, 55, 89021, tzinfo=tzutc()), 'event': 'CARICO_PEZZI', 'val': '23.7'},\n {'timeStamp': datetime.datetime(2019, 12, 15, 10, 45, 55, 88927, tzinfo=tzutc()), 'event': 'FINE_CICLO', 'val': '23.3'},\n {'timeStamp': datetime.datetime(2019, 12, 15, 10, 45, 55, 88830, tzinfo=tzutc()), 'event': 'CARICO_PEZZI', 'val': '23.8'},\n {'timeStamp': datetime.datetime(2019, 12, 15, 10, 45, 55, 88727, tzinfo=tzutc()), 'event': 'FINE_CICLO', 'val': '23.6'},\n {'timeStamp': datetime.datetime(2019, 12, 15, 10, 45, 55, 88601, tzinfo=tzutc()), 'event': 'CARICO_PEZZI', 'val': '23.2'},\n {'timeStamp': datetime.datetime(2019, 12, 15, 10, 45, 55, 88405, tzinfo=tzutc()), 'event': 'FINE_CICLO', 'val': '23.1'},\n {'timeStamp': datetime.datetime(2019, 12, 15, 10, 45, 55, 88257, tzinfo=tzutc()), 'event': 'CARICO_PEZZI', 'val': '23.4'},\n {'timeStamp': datetime.datetime(2019, 12, 15, 10, 45, 55, 88156, tzinfo=tzutc()), 'event': 'FINE_CICLO', 'val': '23.7'},\n {'timeStamp': datetime.datetime(2019, 12, 15, 10, 45, 55, 88058, tzinfo=tzutc()), 'event': 'CARICO_PEZZI', 'val': '23.4'},\n {'timeStamp': datetime.datetime(2019, 12, 15, 10, 45, 55, 87928, tzinfo=tzutc()), 'event': 'FINE_CICLO', 'val': '23.5'},\n {'timeStamp': datetime.datetime(2019, 12, 15, 10, 45, 55, 87803, tzinfo=tzutc()), 'event': 'CARICO_PEZZI', 'val': '23.7'},\n {'timeStamp': datetime.datetime(2019, 12, 15, 10, 45, 55, 87690, tzinfo=tzutc()), 'event': 'FINE_CICLO', 'val': '23.7'},\n {'timeStamp': datetime.datetime(2019, 12, 15, 10, 45, 55, 87553, tzinfo=tzutc()), 'event': 'CARICO_PEZZI', 'val': '23.9'},\n {'timeStamp': datetime.datetime(2019, 12, 15, 10, 45, 55, 87370, tzinfo=tzutc()), 'event': 'FINE_CICLO', 'val': '23.5'},\n {'timeStamp': datetime.datetime(2019, 12, 15, 10, 45, 55, 87273, tzinfo=tzutc()), 'event': 'CARICO_PEZZI', 'val': '23.2'},\n {'timeStamp': datetime.datetime(2019, 12, 15, 10, 45, 55, 87163, tzinfo=tzutc()), 'event': 'FINE_CICLO', 'val': '23.1'},\n {'timeStamp': datetime.datetime(2019, 12, 15, 10, 45, 55, 86857, tzinfo=tzutc()), 'event': 'CARICO_PEZZI', 'val': '23.6'},\n {'timeStamp': datetime.datetime(2019, 12, 15, 10, 45, 55, 86763, tzinfo=tzutc()), 'event': 'FINE_CICLO', 'val': '23.3'},\n {'timeStamp': datetime.datetime(2019, 12, 15, 10, 45, 55, 86667, tzinfo=tzutc()), 'event': 'CARICO_PEZZI', 'val': '23.6'},\n {'timeStamp': datetime.datetime(2019, 12, 15, 10, 45, 55, 86563, tzinfo=tzutc()), 'event': 'FINE_CICLO', 'val': '23.3'},\n {'timeStamp': datetime.datetime(2019, 12, 15, 10, 45, 55, 86413, tzinfo=tzutc()), 'event': 'CARICO_PEZZI', 'val': '23.3'},\n {'timeStamp': datetime.datetime(2019, 12, 15, 10, 45, 55, 86318, tzinfo=tzutc()), 'event': 'FINE_CICLO', 'val': '23.6'},\n {'timeStamp': datetime.datetime(2019, 12, 15, 10, 45, 55, 86223, tzinfo=tzutc()), 'event': 'CARICO_PEZZI', 'val': '23.7'},\n {'timeStamp': datetime.datetime(2019, 12, 15, 10, 45, 55, 86127, tzinfo=tzutc()), 'event': 'FINE_CICLO', 'val': '23.5'},\n {'timeStamp': datetime.datetime(2019, 12, 15, 10, 45, 55, 86022, tzinfo=tzutc()), 'event': 'CARICO_PEZZI', 'val': '23.8'},\n {'timeStamp': datetime.datetime(2019, 12, 15, 10, 45, 55, 85926, tzinfo=tzutc()), 'event': 'FINE_CICLO', 'val': '23.7'},\n {'timeStamp': datetime.datetime(2019, 12, 15, 10, 45, 55, 85832, tzinfo=tzutc()), 'event': 'CARICO_PEZZI', 'val': '23.5'},\n {'timeStamp': datetime.datetime(2019, 12, 15, 10, 45, 55, 85736, tzinfo=tzutc()), 'event': 'FINE_CICLO', 'val': '23.3'},\n {'timeStamp': datetime.datetime(2019, 12, 15, 10, 45, 55, 85639, tzinfo=tzutc()), 'event': 'CARICO_PEZZI', 'val': '23.4'},\n {'timeStamp': datetime.datetime(2019, 12, 15, 10, 45, 55, 85492, tzinfo=tzutc()), 'event': 'FINE_CICLO', 'val': '23.8'},\n {'timeStamp': datetime.datetime(2019, 12, 15, 10, 45, 55, 85353, tzinfo=tzutc()), 'event': 'CARICO_PEZZI', 'val': '23.2'},\n {'timeStamp': datetime.datetime(2019, 12, 15, 10, 45, 55, 85256, tzinfo=tzutc()), 'event': 'FINE_CICLO', 'val': '23'},\n {'timeStamp': datetime.datetime(2019, 12, 15, 10, 45, 55, 85162, tzinfo=tzutc()), 'event': 'CARICO_PEZZI', 'val': '23.6'},\n {'timeStamp': datetime.datetime(2019, 12, 15, 10, 45, 55, 85067, tzinfo=tzutc()), 'event': 'FINE_CICLO', 'val': '23.2'},\n {'timeStamp': datetime.datetime(2019, 12, 15, 10, 45, 55, 84971, tzinfo=tzutc()), 'event': 'CARICO_PEZZI', 'val': '23.7'},\n {'timeStamp': datetime.datetime(2019, 12, 15, 10, 45, 55, 84877, tzinfo=tzutc()), 'event': 'FINE_CICLO', 'val': '23.9'},\n {'timeStamp': datetime.datetime(2019, 12, 15, 10, 45, 55, 84781, tzinfo=tzutc()), 'event': 'CARICO_PEZZI', 'val': '23.1'},\n {'timeStamp': datetime.datetime(2019, 12, 15, 10, 45, 55, 84685, tzinfo=tzutc()), 'event': 'FINE_CICLO', 'val': '23.9'},\n {'timeStamp': datetime.datetime(2019, 12, 15, 10, 45, 55, 84575, tzinfo=tzutc()), 'event': 'CARICO_PEZZI', 'val': '23.8'},\n {'timeStamp': datetime.datetime(2019, 12, 15, 10, 45, 55, 84271, tzinfo=tzutc()), 'event': 'FINE_CICLO', 'val': '23.7'},\n {'timeStamp': datetime.datetime(2019, 12, 15, 10, 45, 55, 84150, tzinfo=tzutc()), 'event': 'CARICO_PEZZI', 'val': '23.5'},\n {'timeStamp': datetime.datetime(2019, 12, 15, 10, 45, 55, 84055, tzinfo=tzutc()), 'event': 'FINE_CICLO', 'val': '23.9'},\n {'timeStamp': datetime.datetime(2019, 12, 15, 10, 45, 55, 83961, tzinfo=tzutc()), 'event': 'CARICO_PEZZI', 'val': '23'},\n {'timeStamp': datetime.datetime(2019, 12, 15, 10, 45, 55, 83864, tzinfo=tzutc()), 'event': 'FINE_CICLO', 'val': '23.3'},\n {'timeStamp': datetime.datetime(2019, 12, 15, 10, 45, 55, 83769, tzinfo=tzutc()), 'event': 'CARICO_PEZZI', 'val': '23'},\n {'timeStamp': datetime.datetime(2019, 12, 15, 10, 45, 55, 83664, tzinfo=tzutc()), 'event': 'FINE_CICLO', 'val': '23.5'},\n {'timeStamp': datetime.datetime(2019, 12, 15, 10, 45, 55, 83540, tzinfo=tzutc()), 'event': 'CARICO_PEZZI', 'val': '23.5'},\n {'timeStamp': datetime.datetime(2019, 12, 15, 10, 45, 55, 83445, tzinfo=tzutc()), 'event': 'FINE_CICLO', 'val': '23'},\n {'timeStamp': datetime.datetime(2019, 12, 15, 10, 45, 55, 83351, tzinfo=tzutc()), 'event': 'CARICO_PEZZI', 'val': '23.7'},\n {'timeStamp': datetime.datetime(2019, 12, 15, 10, 45, 55, 83255, tzinfo=tzutc()), 'event': 'FINE_CICLO', 'val': '23.5'},\n {'timeStamp': datetime.datetime(2019, 12, 15, 10, 45, 55, 83136, tzinfo=tzutc()), 'event': 'CARICO_PEZZI', 'val': '23.6'},\n {'timeStamp': datetime.datetime(2019, 12, 15, 10, 45, 55, 83041, tzinfo=tzutc()), 'event': 'FINE_CICLO', 'val': '23.7'},\n {'timeStamp': datetime.datetime(2019, 12, 15, 10, 45, 55, 82945, tzinfo=tzutc()), 'event': 'CARICO_PEZZI', 'val': '23.5'},\n {'timeStamp': datetime.datetime(2019, 12, 15, 10, 45, 55, 82850, tzinfo=tzutc()), 'event': 'FINE_CICLO', 'val': '23.3'},\n {'timeStamp': datetime.datetime(2019, 12, 15, 10, 45, 55, 82753, tzinfo=tzutc()), 'event': 'CARICO_PEZZI', 'val': '23.3'},\n {'timeStamp': datetime.datetime(2019, 12, 15, 10, 45, 55, 82656, tzinfo=tzutc()), 'event': 'FINE_CICLO', 'val': '23.4'},\n {'timeStamp': datetime.datetime(2019, 12, 15, 10, 45, 55, 82523, tzinfo=tzutc()), 'event': 'CARICO_PEZZI', 'val': '23.1'},\n {'timeStamp': datetime.datetime(2019, 12, 15, 10, 45, 55, 82429, tzinfo=tzutc()), 'event': 'FINE_CICLO', 'val': '23.7'},\n {'timeStamp': datetime.datetime(2019, 12, 15, 10, 45, 55, 82334, tzinfo=tzutc()), 'event': 'CARICO_PEZZI', 'val': '23.4'},\n {'timeStamp': datetime.datetime(2019, 12, 15, 10, 45, 55, 82240, tzinfo=tzutc()), 'event': 'FINE_CICLO', 'val': '23.6'},\n {'timeStamp': datetime.datetime(2019, 12, 15, 10, 45, 55, 82121, tzinfo=tzutc()), 'event': 'CARICO_PEZZI', 'val': '23.8'},\n {'timeStamp': datetime.datetime(2019, 12, 15, 10, 45, 55, 82026, tzinfo=tzutc()), 'event': 'FINE_CICLO', 'val': '23'},\n {'timeStamp': datetime.datetime(2019, 12, 15, 10, 45, 55, 81932, tzinfo=tzutc()), 'event': 'CARICO_PEZZI', 'val': '23.9'},\n {'timeStamp': datetime.datetime(2019, 12, 15, 10, 45, 55, 81836, tzinfo=tzutc()), 'event': 'FINE_CICLO', 'val': '23'},\n {'timeStamp': datetime.datetime(2019, 12, 15, 10, 45, 55, 81742, tzinfo=tzutc()), 'event': 'CARICO_PEZZI', 'val': '23.5'},\n {'timeStamp': datetime.datetime(2019, 12, 15, 10, 45, 55, 81644, tzinfo=tzutc()), 'event': 'FINE_CICLO', 'val': '23.9'},\n {'timeStamp': datetime.datetime(2019, 12, 15, 10, 45, 55, 81508, tzinfo=tzutc()), 'event': 'CARICO_PEZZI', 'val': '23.9'},\n {'timeStamp': datetime.datetime(2019, 12, 15, 10, 45, 55, 81407, tzinfo=tzutc()), 'event': 'FINE_CICLO', 'val': '23.2'},\n {'timeStamp': datetime.datetime(2019, 12, 15, 10, 45, 55, 81296, tzinfo=tzutc()), 'event': 'CARICO_PEZZI', 'val': '23.8'},\n {'timeStamp': datetime.datetime(2019, 12, 15, 10, 45, 55, 81202, tzinfo=tzutc()), 'event': 'FINE_CICLO', 'val': '23.2'},\n {'timeStamp': datetime.datetime(2019, 12, 15, 10, 45, 55, 81081, tzinfo=tzutc()), 'event': 'CARICO_PEZZI', 'val': '23.1'},\n {'timeStamp': datetime.datetime(2019, 12, 15, 10, 45, 55, 80987, tzinfo=tzutc()), 'event': 'FINE_CICLO', 'val': '23.5'},\n {'timeStamp': datetime.datetime(2019, 12, 15, 10, 45, 55, 80891, tzinfo=tzutc()), 'event': 'CARICO_PEZZI', 'val': '23.2'},\n {'timeStamp': datetime.datetime(2019, 12, 15, 10, 45, 55, 80796, tzinfo=tzutc()), 'event': 'FINE_CICLO', 'val': '23.5'},\n {'timeStamp': datetime.datetime(2019, 12, 15, 10, 45, 55, 80699, tzinfo=tzutc()), 'event': 'CARICO_PEZZI', 'val': '23.4'},\n {'timeStamp': datetime.datetime(2019, 12, 15, 10, 45, 55, 80599, tzinfo=tzutc()), 'event': 'FINE_CICLO', 'val': '23.5'},\n {'timeStamp': datetime.datetime(2019, 12, 15, 10, 45, 55, 80468, tzinfo=tzutc()), 'event': 'CARICO_PEZZI', 'val': '23.9'}]"
     },
     "execution_count": 45,
     "metadata": {},
     "output_type": "execute_result"
    }
   ],
   "source": [
    "%%kql\n",
    "\n",
    "MeasuresT3\n",
    "| sort by URI\n",
    "| where timeStamp between (now(-30m) .. now())\n",
    "| take 1000\n",
    "| project timeStamp, event,  val\n",
    "| render linechart title=\"linechart sample\""
   ]
  },
  {
   "cell_type": "code",
   "execution_count": 73,
   "metadata": {},
   "outputs": [
    {
     "data": {
      "application/javascript": "try {IPython.notebook.kernel.execute(\"NOTEBOOK_URL = '\" + window.location + \"'\");} catch(err) {;}",
      "text/plain": "<IPython.core.display.Javascript object>"
     },
     "metadata": {},
     "output_type": "display_data"
    },
    {
     "data": {
      "text/html": "<html>\n        <head>\n        \n        </head>\n        <body>\n        <div><p style='padding: 10px; color: #3a87ad; background-color: #d9edf7; border-color: #bce9f1'>&nbsp;*&nbsp;test@trillsample_westeurope</p></div>\n        </body>\n        </html>",
      "text/plain": "<IPython.core.display.HTML object>"
     },
     "metadata": {},
     "output_type": "display_data"
    },
    {
     "data": {
      "text/html": "<html>\n        <head>\n        <style>#uuid-e7babf5ad4eb47d0987d90616994c623 {\n                display: block; \n                font-style:italic;\n                font-size:300%;\n                text-align:center;\n            } </style>\n        </head>\n        <body>\n        <div id=\"uuid-e7babf5ad4eb47d0987d90616994c623\"><br><br>EMPTY CHART (no data)<br><br>.</div>\n        </body>\n        </html>",
      "text/plain": "<IPython.core.display.HTML object>"
     },
     "metadata": {},
     "output_type": "display_data"
    },
    {
     "data": {
      "text/html": "<html>\n        <head>\n        \n        </head>\n        <body>\n        <div><p style='padding: 10px; color: #3a87ad; background-color: #d9edf7; border-color: #bce9f1'>Done&nbsp;(00:00.273):&nbsp;0&nbsp;records</p></div>\n        </body>\n        </html>",
      "text/plain": "<IPython.core.display.HTML object>"
     },
     "metadata": {},
     "output_type": "display_data"
    },
    {
     "data": {
      "text/html": "",
      "text/plain": "[]"
     },
     "execution_count": 73,
     "metadata": {},
     "output_type": "execute_result"
    }
   ],
   "source": [
    "%%kql\n",
    "\n",
    "let start = ago(10m);\n",
    "let end = now();\n",
    "let t1 = MeasuresT1 | where timeStamp between (start .. end);\n",
    "let t3 = MeasuresT3 | where timeStamp between (start .. end);\n",
    "let t4 = MeasuresT4 | where timeStamp between (start .. end);\n",
    "t1\n",
    "| join t3 on $left.URI == $right.URI\n",
    "| join t4 on $left.URI == $right.URI\n",
    "| take 10000\n",
    "| project timeStamp, id,  val\n",
    "| render linechart title=\"linechart sample\"\n"
   ]
  },
  {
   "cell_type": "code",
   "execution_count": 74,
   "metadata": {},
   "outputs": [
    {
     "data": {
      "application/javascript": "try {IPython.notebook.kernel.execute(\"NOTEBOOK_URL = '\" + window.location + \"'\");} catch(err) {;}",
      "text/plain": "<IPython.core.display.Javascript object>"
     },
     "metadata": {},
     "output_type": "display_data"
    },
    {
     "data": {
      "text/html": "<html>\n        <head>\n        \n        </head>\n        <body>\n        <div><p style='padding: 10px; color: #3a87ad; background-color: #d9edf7; border-color: #bce9f1'>&nbsp;*&nbsp;test@trillsample_westeurope</p></div>\n        </body>\n        </html>",
      "text/plain": "<IPython.core.display.HTML object>"
     },
     "metadata": {},
     "output_type": "display_data"
    },
    {
     "name": "stdout",
     "output_type": "stream",
     "text": "No valid xcolumn\n"
    },
    {
     "data": {
      "text/html": "<html>\n        <head>\n        \n        </head>\n        <body>\n        <table>\n    <tr>\n        <th>id</th>\n        <th>ct</th>\n        <th>timeStamp</th>\n    </tr>\n    <tr>\n        <td>9</td>\n        <td>[0, 0, 0, 0, 0, 0, 0, 0, 0, 0, 0, 0, 0, 0, 0, 0, 0, 0, 0, 0, 85491, 271464, 0, 85994, 87342, 138858, 77176, 46296, 0, 0, 0, 0, 0, 0, 0, 0, 0, 0, 0, 0, 0, 0, 0, 0, 0, 0, 0, 0, 65854, 132724, 172780, 89148, 167380, 131457, 124142, 124043, 124142, 122279, 126495, 124533, 125906, 126197, 125126, 126298, 124232, 121012, 121887, 126200, 90409, 0, 0, 0, 0, 0, 0, 0, 0, 0, 0, 0, 0, 0, 0, 0, 0, 0, 0, 0, 0, 0, 0, 0, 0, 0, 0, 0, 0, 0, 0, 0, 0]</td>\n        <td>[&#x27;2019-12-14T10:04:48.0000000Z&#x27;, &#x27;2019-12-14T10:33:36.0000000Z&#x27;, &#x27;2019-12-14T11:02:24.0000000Z&#x27;, &#x27;2019-12-14T11:31:12.0000000Z&#x27;, &#x27;2019-12-14T12:00:00.0000000Z&#x27;, &#x27;2019-12-14T12:28:48.0000000Z&#x27;, &#x27;2019-12-14T12:57:36.0000000Z&#x27;, &#x27;2019-12-14T13:26:24.0000000Z&#x27;, &#x27;2019-12-14T13:55:12.0000000Z&#x27;, &#x27;2019-12-14T14:24:00.0000000Z&#x27;, &#x27;2019-12-14T14:52:48.0000000Z&#x27;, &#x27;2019-12-14T15:21:36.0000000Z&#x27;, &#x27;2019-12-14T15:50:24.0000000Z&#x27;, &#x27;2019-12-14T16:19:12.0000000Z&#x27;, &#x27;2019-12-14T16:48:00.0000000Z&#x27;, &#x27;2019-12-14T17:16:48.0000000Z&#x27;, &#x27;2019-12-14T17:45:36.0000000Z&#x27;, &#x27;2019-12-14T18:14:24.0000000Z&#x27;, &#x27;2019-12-14T18:43:12.0000000Z&#x27;, &#x27;2019-12-14T19:12:00.0000000Z&#x27;, &#x27;2019-12-14T19:40:48.0000000Z&#x27;, &#x27;2019-12-14T20:09:36.0000000Z&#x27;, &#x27;2019-12-14T20:38:24.0000000Z&#x27;, &#x27;2019-12-14T21:07:12.0000000Z&#x27;, &#x27;2019-12-14T21:36:00.0000000Z&#x27;, &#x27;2019-12-14T22:04:48.0000000Z&#x27;, &#x27;2019-12-14T22:33:36.0000000Z&#x27;, &#x27;2019-12-14T23:02:24.0000000Z&#x27;, &#x27;2019-12-14T23:31:12.0000000Z&#x27;, &#x27;2019-12-15T00:00:00.0000000Z&#x27;, &#x27;2019-12-15T00:28:48.0000000Z&#x27;, &#x27;2019-12-15T00:57:36.0000000Z&#x27;, &#x27;2019-12-15T01:26:24.0000000Z&#x27;, &#x27;2019-12-15T01:55:12.0000000Z&#x27;, &#x27;2019-12-15T02:24:00.0000000Z&#x27;, &#x27;2019-12-15T02:52:48.0000000Z&#x27;, &#x27;2019-12-15T03:21:36.0000000Z&#x27;, &#x27;2019-12-15T03:50:24.0000000Z&#x27;, &#x27;2019-12-15T04:19:12.0000000Z&#x27;, &#x27;2019-12-15T04:48:00.0000000Z&#x27;, &#x27;2019-12-15T05:16:48.0000000Z&#x27;, &#x27;2019-12-15T05:45:36.0000000Z&#x27;, &#x27;2019-12-15T06:14:24.0000000Z&#x27;, &#x27;2019-12-15T06:43:12.0000000Z&#x27;, &#x27;2019-12-15T07:12:00.0000000Z&#x27;, &#x27;2019-12-15T07:40:48.0000000Z&#x27;, &#x27;2019-12-15T08:09:36.0000000Z&#x27;, &#x27;2019-12-15T08:38:24.0000000Z&#x27;, &#x27;2019-12-15T09:07:12.0000000Z&#x27;, &#x27;2019-12-15T09:36:00.0000000Z&#x27;, &#x27;2019-12-15T10:04:48.0000000Z&#x27;, &#x27;2019-12-15T10:33:36.0000000Z&#x27;, &#x27;2019-12-15T11:02:24.0000000Z&#x27;, &#x27;2019-12-15T11:31:12.0000000Z&#x27;, &#x27;2019-12-15T12:00:00.0000000Z&#x27;, &#x27;2019-12-15T12:28:48.0000000Z&#x27;, &#x27;2019-12-15T12:57:36.0000000Z&#x27;, &#x27;2019-12-15T13:26:24.0000000Z&#x27;, &#x27;2019-12-15T13:55:12.0000000Z&#x27;, &#x27;2019-12-15T14:24:00.0000000Z&#x27;, &#x27;2019-12-15T14:52:48.0000000Z&#x27;, &#x27;2019-12-15T15:21:36.0000000Z&#x27;, &#x27;2019-12-15T15:50:24.0000000Z&#x27;, &#x27;2019-12-15T16:19:12.0000000Z&#x27;, &#x27;2019-12-15T16:48:00.0000000Z&#x27;, &#x27;2019-12-15T17:16:48.0000000Z&#x27;, &#x27;2019-12-15T17:45:36.0000000Z&#x27;, &#x27;2019-12-15T18:14:24.0000000Z&#x27;, &#x27;2019-12-15T18:43:12.0000000Z&#x27;, &#x27;2019-12-15T19:12:00.0000000Z&#x27;, &#x27;2019-12-15T19:40:48.0000000Z&#x27;, &#x27;2019-12-15T20:09:36.0000000Z&#x27;, &#x27;2019-12-15T20:38:24.0000000Z&#x27;, &#x27;2019-12-15T21:07:12.0000000Z&#x27;, &#x27;2019-12-15T21:36:00.0000000Z&#x27;, &#x27;2019-12-15T22:04:48.0000000Z&#x27;, &#x27;2019-12-15T22:33:36.0000000Z&#x27;, &#x27;2019-12-15T23:02:24.0000000Z&#x27;, &#x27;2019-12-15T23:31:12.0000000Z&#x27;, &#x27;2019-12-16T00:00:00.0000000Z&#x27;, &#x27;2019-12-16T00:28:48.0000000Z&#x27;, &#x27;2019-12-16T00:57:36.0000000Z&#x27;, &#x27;2019-12-16T01:26:24.0000000Z&#x27;, &#x27;2019-12-16T01:55:12.0000000Z&#x27;, &#x27;2019-12-16T02:24:00.0000000Z&#x27;, &#x27;2019-12-16T02:52:48.0000000Z&#x27;, &#x27;2019-12-16T03:21:36.0000000Z&#x27;, &#x27;2019-12-16T03:50:24.0000000Z&#x27;, &#x27;2019-12-16T04:19:12.0000000Z&#x27;, &#x27;2019-12-16T04:48:00.0000000Z&#x27;, &#x27;2019-12-16T05:16:48.0000000Z&#x27;, &#x27;2019-12-16T05:45:36.0000000Z&#x27;, &#x27;2019-12-16T06:14:24.0000000Z&#x27;, &#x27;2019-12-16T06:43:12.0000000Z&#x27;, &#x27;2019-12-16T07:12:00.0000000Z&#x27;, &#x27;2019-12-16T07:40:48.0000000Z&#x27;, &#x27;2019-12-16T08:09:36.0000000Z&#x27;, &#x27;2019-12-16T08:38:24.0000000Z&#x27;, &#x27;2019-12-16T09:07:12.0000000Z&#x27;, &#x27;2019-12-16T09:36:00.0000000Z&#x27;, &#x27;2019-12-16T10:04:48.0000000Z&#x27;]</td>\n    </tr>\n    <tr>\n        <td>10</td>\n        <td>[0, 0, 0, 0, 0, 0, 0, 0, 0, 0, 0, 0, 0, 0, 0, 0, 0, 0, 0, 0, 85490, 271464, 0, 85994, 87342, 138860, 77176, 46294, 0, 0, 0, 0, 0, 0, 0, 0, 0, 0, 0, 0, 0, 0, 0, 0, 0, 0, 0, 0, 65854, 132724, 172780, 89146, 167380, 131459, 124142, 124043, 124142, 122279, 126495, 124533, 125906, 126197, 125126, 126298, 124232, 121012, 121887, 126200, 90409, 0, 0, 0, 0, 0, 0, 0, 0, 0, 0, 0, 0, 0, 0, 0, 0, 0, 0, 0, 0, 0, 0, 0, 0, 0, 0, 0, 0, 0, 0, 0, 0]</td>\n        <td>[&#x27;2019-12-14T10:04:48.0000000Z&#x27;, &#x27;2019-12-14T10:33:36.0000000Z&#x27;, &#x27;2019-12-14T11:02:24.0000000Z&#x27;, &#x27;2019-12-14T11:31:12.0000000Z&#x27;, &#x27;2019-12-14T12:00:00.0000000Z&#x27;, &#x27;2019-12-14T12:28:48.0000000Z&#x27;, &#x27;2019-12-14T12:57:36.0000000Z&#x27;, &#x27;2019-12-14T13:26:24.0000000Z&#x27;, &#x27;2019-12-14T13:55:12.0000000Z&#x27;, &#x27;2019-12-14T14:24:00.0000000Z&#x27;, &#x27;2019-12-14T14:52:48.0000000Z&#x27;, &#x27;2019-12-14T15:21:36.0000000Z&#x27;, &#x27;2019-12-14T15:50:24.0000000Z&#x27;, &#x27;2019-12-14T16:19:12.0000000Z&#x27;, &#x27;2019-12-14T16:48:00.0000000Z&#x27;, &#x27;2019-12-14T17:16:48.0000000Z&#x27;, &#x27;2019-12-14T17:45:36.0000000Z&#x27;, &#x27;2019-12-14T18:14:24.0000000Z&#x27;, &#x27;2019-12-14T18:43:12.0000000Z&#x27;, &#x27;2019-12-14T19:12:00.0000000Z&#x27;, &#x27;2019-12-14T19:40:48.0000000Z&#x27;, &#x27;2019-12-14T20:09:36.0000000Z&#x27;, &#x27;2019-12-14T20:38:24.0000000Z&#x27;, &#x27;2019-12-14T21:07:12.0000000Z&#x27;, &#x27;2019-12-14T21:36:00.0000000Z&#x27;, &#x27;2019-12-14T22:04:48.0000000Z&#x27;, &#x27;2019-12-14T22:33:36.0000000Z&#x27;, &#x27;2019-12-14T23:02:24.0000000Z&#x27;, &#x27;2019-12-14T23:31:12.0000000Z&#x27;, &#x27;2019-12-15T00:00:00.0000000Z&#x27;, &#x27;2019-12-15T00:28:48.0000000Z&#x27;, &#x27;2019-12-15T00:57:36.0000000Z&#x27;, &#x27;2019-12-15T01:26:24.0000000Z&#x27;, &#x27;2019-12-15T01:55:12.0000000Z&#x27;, &#x27;2019-12-15T02:24:00.0000000Z&#x27;, &#x27;2019-12-15T02:52:48.0000000Z&#x27;, &#x27;2019-12-15T03:21:36.0000000Z&#x27;, &#x27;2019-12-15T03:50:24.0000000Z&#x27;, &#x27;2019-12-15T04:19:12.0000000Z&#x27;, &#x27;2019-12-15T04:48:00.0000000Z&#x27;, &#x27;2019-12-15T05:16:48.0000000Z&#x27;, &#x27;2019-12-15T05:45:36.0000000Z&#x27;, &#x27;2019-12-15T06:14:24.0000000Z&#x27;, &#x27;2019-12-15T06:43:12.0000000Z&#x27;, &#x27;2019-12-15T07:12:00.0000000Z&#x27;, &#x27;2019-12-15T07:40:48.0000000Z&#x27;, &#x27;2019-12-15T08:09:36.0000000Z&#x27;, &#x27;2019-12-15T08:38:24.0000000Z&#x27;, &#x27;2019-12-15T09:07:12.0000000Z&#x27;, &#x27;2019-12-15T09:36:00.0000000Z&#x27;, &#x27;2019-12-15T10:04:48.0000000Z&#x27;, &#x27;2019-12-15T10:33:36.0000000Z&#x27;, &#x27;2019-12-15T11:02:24.0000000Z&#x27;, &#x27;2019-12-15T11:31:12.0000000Z&#x27;, &#x27;2019-12-15T12:00:00.0000000Z&#x27;, &#x27;2019-12-15T12:28:48.0000000Z&#x27;, &#x27;2019-12-15T12:57:36.0000000Z&#x27;, &#x27;2019-12-15T13:26:24.0000000Z&#x27;, &#x27;2019-12-15T13:55:12.0000000Z&#x27;, &#x27;2019-12-15T14:24:00.0000000Z&#x27;, &#x27;2019-12-15T14:52:48.0000000Z&#x27;, &#x27;2019-12-15T15:21:36.0000000Z&#x27;, &#x27;2019-12-15T15:50:24.0000000Z&#x27;, &#x27;2019-12-15T16:19:12.0000000Z&#x27;, &#x27;2019-12-15T16:48:00.0000000Z&#x27;, &#x27;2019-12-15T17:16:48.0000000Z&#x27;, &#x27;2019-12-15T17:45:36.0000000Z&#x27;, &#x27;2019-12-15T18:14:24.0000000Z&#x27;, &#x27;2019-12-15T18:43:12.0000000Z&#x27;, &#x27;2019-12-15T19:12:00.0000000Z&#x27;, &#x27;2019-12-15T19:40:48.0000000Z&#x27;, &#x27;2019-12-15T20:09:36.0000000Z&#x27;, &#x27;2019-12-15T20:38:24.0000000Z&#x27;, &#x27;2019-12-15T21:07:12.0000000Z&#x27;, &#x27;2019-12-15T21:36:00.0000000Z&#x27;, &#x27;2019-12-15T22:04:48.0000000Z&#x27;, &#x27;2019-12-15T22:33:36.0000000Z&#x27;, &#x27;2019-12-15T23:02:24.0000000Z&#x27;, &#x27;2019-12-15T23:31:12.0000000Z&#x27;, &#x27;2019-12-16T00:00:00.0000000Z&#x27;, &#x27;2019-12-16T00:28:48.0000000Z&#x27;, &#x27;2019-12-16T00:57:36.0000000Z&#x27;, &#x27;2019-12-16T01:26:24.0000000Z&#x27;, &#x27;2019-12-16T01:55:12.0000000Z&#x27;, &#x27;2019-12-16T02:24:00.0000000Z&#x27;, &#x27;2019-12-16T02:52:48.0000000Z&#x27;, &#x27;2019-12-16T03:21:36.0000000Z&#x27;, &#x27;2019-12-16T03:50:24.0000000Z&#x27;, &#x27;2019-12-16T04:19:12.0000000Z&#x27;, &#x27;2019-12-16T04:48:00.0000000Z&#x27;, &#x27;2019-12-16T05:16:48.0000000Z&#x27;, &#x27;2019-12-16T05:45:36.0000000Z&#x27;, &#x27;2019-12-16T06:14:24.0000000Z&#x27;, &#x27;2019-12-16T06:43:12.0000000Z&#x27;, &#x27;2019-12-16T07:12:00.0000000Z&#x27;, &#x27;2019-12-16T07:40:48.0000000Z&#x27;, &#x27;2019-12-16T08:09:36.0000000Z&#x27;, &#x27;2019-12-16T08:38:24.0000000Z&#x27;, &#x27;2019-12-16T09:07:12.0000000Z&#x27;, &#x27;2019-12-16T09:36:00.0000000Z&#x27;, &#x27;2019-12-16T10:04:48.0000000Z&#x27;]</td>\n    </tr>\n    <tr>\n        <td>11</td>\n        <td>[0, 0, 0, 0, 0, 0, 0, 0, 0, 0, 0, 0, 0, 0, 0, 0, 0, 0, 0, 0, 85490, 271464, 0, 85994, 87342, 138860, 77174, 46294, 0, 0, 0, 0, 0, 0, 0, 0, 0, 0, 0, 0, 0, 0, 0, 0, 0, 0, 0, 0, 65854, 132724, 172780, 89146, 167382, 131459, 124142, 124043, 124142, 122279, 126495, 124533, 125906, 126197, 125126, 126298, 124232, 121011, 121888, 126199, 90410, 0, 0, 0, 0, 0, 0, 0, 0, 0, 0, 0, 0, 0, 0, 0, 0, 0, 0, 0, 0, 0, 0, 0, 0, 0, 0, 0, 0, 0, 0, 0, 0]</td>\n        <td>[&#x27;2019-12-14T10:04:48.0000000Z&#x27;, &#x27;2019-12-14T10:33:36.0000000Z&#x27;, &#x27;2019-12-14T11:02:24.0000000Z&#x27;, &#x27;2019-12-14T11:31:12.0000000Z&#x27;, &#x27;2019-12-14T12:00:00.0000000Z&#x27;, &#x27;2019-12-14T12:28:48.0000000Z&#x27;, &#x27;2019-12-14T12:57:36.0000000Z&#x27;, &#x27;2019-12-14T13:26:24.0000000Z&#x27;, &#x27;2019-12-14T13:55:12.0000000Z&#x27;, &#x27;2019-12-14T14:24:00.0000000Z&#x27;, &#x27;2019-12-14T14:52:48.0000000Z&#x27;, &#x27;2019-12-14T15:21:36.0000000Z&#x27;, &#x27;2019-12-14T15:50:24.0000000Z&#x27;, &#x27;2019-12-14T16:19:12.0000000Z&#x27;, &#x27;2019-12-14T16:48:00.0000000Z&#x27;, &#x27;2019-12-14T17:16:48.0000000Z&#x27;, &#x27;2019-12-14T17:45:36.0000000Z&#x27;, &#x27;2019-12-14T18:14:24.0000000Z&#x27;, &#x27;2019-12-14T18:43:12.0000000Z&#x27;, &#x27;2019-12-14T19:12:00.0000000Z&#x27;, &#x27;2019-12-14T19:40:48.0000000Z&#x27;, &#x27;2019-12-14T20:09:36.0000000Z&#x27;, &#x27;2019-12-14T20:38:24.0000000Z&#x27;, &#x27;2019-12-14T21:07:12.0000000Z&#x27;, &#x27;2019-12-14T21:36:00.0000000Z&#x27;, &#x27;2019-12-14T22:04:48.0000000Z&#x27;, &#x27;2019-12-14T22:33:36.0000000Z&#x27;, &#x27;2019-12-14T23:02:24.0000000Z&#x27;, &#x27;2019-12-14T23:31:12.0000000Z&#x27;, &#x27;2019-12-15T00:00:00.0000000Z&#x27;, &#x27;2019-12-15T00:28:48.0000000Z&#x27;, &#x27;2019-12-15T00:57:36.0000000Z&#x27;, &#x27;2019-12-15T01:26:24.0000000Z&#x27;, &#x27;2019-12-15T01:55:12.0000000Z&#x27;, &#x27;2019-12-15T02:24:00.0000000Z&#x27;, &#x27;2019-12-15T02:52:48.0000000Z&#x27;, &#x27;2019-12-15T03:21:36.0000000Z&#x27;, &#x27;2019-12-15T03:50:24.0000000Z&#x27;, &#x27;2019-12-15T04:19:12.0000000Z&#x27;, &#x27;2019-12-15T04:48:00.0000000Z&#x27;, &#x27;2019-12-15T05:16:48.0000000Z&#x27;, &#x27;2019-12-15T05:45:36.0000000Z&#x27;, &#x27;2019-12-15T06:14:24.0000000Z&#x27;, &#x27;2019-12-15T06:43:12.0000000Z&#x27;, &#x27;2019-12-15T07:12:00.0000000Z&#x27;, &#x27;2019-12-15T07:40:48.0000000Z&#x27;, &#x27;2019-12-15T08:09:36.0000000Z&#x27;, &#x27;2019-12-15T08:38:24.0000000Z&#x27;, &#x27;2019-12-15T09:07:12.0000000Z&#x27;, &#x27;2019-12-15T09:36:00.0000000Z&#x27;, &#x27;2019-12-15T10:04:48.0000000Z&#x27;, &#x27;2019-12-15T10:33:36.0000000Z&#x27;, &#x27;2019-12-15T11:02:24.0000000Z&#x27;, &#x27;2019-12-15T11:31:12.0000000Z&#x27;, &#x27;2019-12-15T12:00:00.0000000Z&#x27;, &#x27;2019-12-15T12:28:48.0000000Z&#x27;, &#x27;2019-12-15T12:57:36.0000000Z&#x27;, &#x27;2019-12-15T13:26:24.0000000Z&#x27;, &#x27;2019-12-15T13:55:12.0000000Z&#x27;, &#x27;2019-12-15T14:24:00.0000000Z&#x27;, &#x27;2019-12-15T14:52:48.0000000Z&#x27;, &#x27;2019-12-15T15:21:36.0000000Z&#x27;, &#x27;2019-12-15T15:50:24.0000000Z&#x27;, &#x27;2019-12-15T16:19:12.0000000Z&#x27;, &#x27;2019-12-15T16:48:00.0000000Z&#x27;, &#x27;2019-12-15T17:16:48.0000000Z&#x27;, &#x27;2019-12-15T17:45:36.0000000Z&#x27;, &#x27;2019-12-15T18:14:24.0000000Z&#x27;, &#x27;2019-12-15T18:43:12.0000000Z&#x27;, &#x27;2019-12-15T19:12:00.0000000Z&#x27;, &#x27;2019-12-15T19:40:48.0000000Z&#x27;, &#x27;2019-12-15T20:09:36.0000000Z&#x27;, &#x27;2019-12-15T20:38:24.0000000Z&#x27;, &#x27;2019-12-15T21:07:12.0000000Z&#x27;, &#x27;2019-12-15T21:36:00.0000000Z&#x27;, &#x27;2019-12-15T22:04:48.0000000Z&#x27;, &#x27;2019-12-15T22:33:36.0000000Z&#x27;, &#x27;2019-12-15T23:02:24.0000000Z&#x27;, &#x27;2019-12-15T23:31:12.0000000Z&#x27;, &#x27;2019-12-16T00:00:00.0000000Z&#x27;, &#x27;2019-12-16T00:28:48.0000000Z&#x27;, &#x27;2019-12-16T00:57:36.0000000Z&#x27;, &#x27;2019-12-16T01:26:24.0000000Z&#x27;, &#x27;2019-12-16T01:55:12.0000000Z&#x27;, &#x27;2019-12-16T02:24:00.0000000Z&#x27;, &#x27;2019-12-16T02:52:48.0000000Z&#x27;, &#x27;2019-12-16T03:21:36.0000000Z&#x27;, &#x27;2019-12-16T03:50:24.0000000Z&#x27;, &#x27;2019-12-16T04:19:12.0000000Z&#x27;, &#x27;2019-12-16T04:48:00.0000000Z&#x27;, &#x27;2019-12-16T05:16:48.0000000Z&#x27;, &#x27;2019-12-16T05:45:36.0000000Z&#x27;, &#x27;2019-12-16T06:14:24.0000000Z&#x27;, &#x27;2019-12-16T06:43:12.0000000Z&#x27;, &#x27;2019-12-16T07:12:00.0000000Z&#x27;, &#x27;2019-12-16T07:40:48.0000000Z&#x27;, &#x27;2019-12-16T08:09:36.0000000Z&#x27;, &#x27;2019-12-16T08:38:24.0000000Z&#x27;, &#x27;2019-12-16T09:07:12.0000000Z&#x27;, &#x27;2019-12-16T09:36:00.0000000Z&#x27;, &#x27;2019-12-16T10:04:48.0000000Z&#x27;]</td>\n    </tr>\n    <tr>\n        <td>12</td>\n        <td>[0, 0, 0, 0, 0, 0, 0, 0, 0, 0, 0, 0, 0, 0, 0, 0, 0, 0, 0, 0, 85490, 271461, 0, 85994, 87342, 138858, 77176, 46294, 0, 0, 0, 0, 0, 0, 0, 0, 0, 0, 0, 0, 0, 0, 0, 0, 0, 0, 0, 0, 65854, 132724, 172780, 89146, 167382, 131459, 124141, 124044, 124142, 122278, 126496, 124533, 125906, 126197, 125126, 126298, 124232, 121011, 121888, 126199, 90410, 0, 0, 0, 0, 0, 0, 0, 0, 0, 0, 0, 0, 0, 0, 0, 0, 0, 0, 0, 0, 0, 0, 0, 0, 0, 0, 0, 0, 0, 0, 0, 0]</td>\n        <td>[&#x27;2019-12-14T10:04:48.0000000Z&#x27;, &#x27;2019-12-14T10:33:36.0000000Z&#x27;, &#x27;2019-12-14T11:02:24.0000000Z&#x27;, &#x27;2019-12-14T11:31:12.0000000Z&#x27;, &#x27;2019-12-14T12:00:00.0000000Z&#x27;, &#x27;2019-12-14T12:28:48.0000000Z&#x27;, &#x27;2019-12-14T12:57:36.0000000Z&#x27;, &#x27;2019-12-14T13:26:24.0000000Z&#x27;, &#x27;2019-12-14T13:55:12.0000000Z&#x27;, &#x27;2019-12-14T14:24:00.0000000Z&#x27;, &#x27;2019-12-14T14:52:48.0000000Z&#x27;, &#x27;2019-12-14T15:21:36.0000000Z&#x27;, &#x27;2019-12-14T15:50:24.0000000Z&#x27;, &#x27;2019-12-14T16:19:12.0000000Z&#x27;, &#x27;2019-12-14T16:48:00.0000000Z&#x27;, &#x27;2019-12-14T17:16:48.0000000Z&#x27;, &#x27;2019-12-14T17:45:36.0000000Z&#x27;, &#x27;2019-12-14T18:14:24.0000000Z&#x27;, &#x27;2019-12-14T18:43:12.0000000Z&#x27;, &#x27;2019-12-14T19:12:00.0000000Z&#x27;, &#x27;2019-12-14T19:40:48.0000000Z&#x27;, &#x27;2019-12-14T20:09:36.0000000Z&#x27;, &#x27;2019-12-14T20:38:24.0000000Z&#x27;, &#x27;2019-12-14T21:07:12.0000000Z&#x27;, &#x27;2019-12-14T21:36:00.0000000Z&#x27;, &#x27;2019-12-14T22:04:48.0000000Z&#x27;, &#x27;2019-12-14T22:33:36.0000000Z&#x27;, &#x27;2019-12-14T23:02:24.0000000Z&#x27;, &#x27;2019-12-14T23:31:12.0000000Z&#x27;, &#x27;2019-12-15T00:00:00.0000000Z&#x27;, &#x27;2019-12-15T00:28:48.0000000Z&#x27;, &#x27;2019-12-15T00:57:36.0000000Z&#x27;, &#x27;2019-12-15T01:26:24.0000000Z&#x27;, &#x27;2019-12-15T01:55:12.0000000Z&#x27;, &#x27;2019-12-15T02:24:00.0000000Z&#x27;, &#x27;2019-12-15T02:52:48.0000000Z&#x27;, &#x27;2019-12-15T03:21:36.0000000Z&#x27;, &#x27;2019-12-15T03:50:24.0000000Z&#x27;, &#x27;2019-12-15T04:19:12.0000000Z&#x27;, &#x27;2019-12-15T04:48:00.0000000Z&#x27;, &#x27;2019-12-15T05:16:48.0000000Z&#x27;, &#x27;2019-12-15T05:45:36.0000000Z&#x27;, &#x27;2019-12-15T06:14:24.0000000Z&#x27;, &#x27;2019-12-15T06:43:12.0000000Z&#x27;, &#x27;2019-12-15T07:12:00.0000000Z&#x27;, &#x27;2019-12-15T07:40:48.0000000Z&#x27;, &#x27;2019-12-15T08:09:36.0000000Z&#x27;, &#x27;2019-12-15T08:38:24.0000000Z&#x27;, &#x27;2019-12-15T09:07:12.0000000Z&#x27;, &#x27;2019-12-15T09:36:00.0000000Z&#x27;, &#x27;2019-12-15T10:04:48.0000000Z&#x27;, &#x27;2019-12-15T10:33:36.0000000Z&#x27;, &#x27;2019-12-15T11:02:24.0000000Z&#x27;, &#x27;2019-12-15T11:31:12.0000000Z&#x27;, &#x27;2019-12-15T12:00:00.0000000Z&#x27;, &#x27;2019-12-15T12:28:48.0000000Z&#x27;, &#x27;2019-12-15T12:57:36.0000000Z&#x27;, &#x27;2019-12-15T13:26:24.0000000Z&#x27;, &#x27;2019-12-15T13:55:12.0000000Z&#x27;, &#x27;2019-12-15T14:24:00.0000000Z&#x27;, &#x27;2019-12-15T14:52:48.0000000Z&#x27;, &#x27;2019-12-15T15:21:36.0000000Z&#x27;, &#x27;2019-12-15T15:50:24.0000000Z&#x27;, &#x27;2019-12-15T16:19:12.0000000Z&#x27;, &#x27;2019-12-15T16:48:00.0000000Z&#x27;, &#x27;2019-12-15T17:16:48.0000000Z&#x27;, &#x27;2019-12-15T17:45:36.0000000Z&#x27;, &#x27;2019-12-15T18:14:24.0000000Z&#x27;, &#x27;2019-12-15T18:43:12.0000000Z&#x27;, &#x27;2019-12-15T19:12:00.0000000Z&#x27;, &#x27;2019-12-15T19:40:48.0000000Z&#x27;, &#x27;2019-12-15T20:09:36.0000000Z&#x27;, &#x27;2019-12-15T20:38:24.0000000Z&#x27;, &#x27;2019-12-15T21:07:12.0000000Z&#x27;, &#x27;2019-12-15T21:36:00.0000000Z&#x27;, &#x27;2019-12-15T22:04:48.0000000Z&#x27;, &#x27;2019-12-15T22:33:36.0000000Z&#x27;, &#x27;2019-12-15T23:02:24.0000000Z&#x27;, &#x27;2019-12-15T23:31:12.0000000Z&#x27;, &#x27;2019-12-16T00:00:00.0000000Z&#x27;, &#x27;2019-12-16T00:28:48.0000000Z&#x27;, &#x27;2019-12-16T00:57:36.0000000Z&#x27;, &#x27;2019-12-16T01:26:24.0000000Z&#x27;, &#x27;2019-12-16T01:55:12.0000000Z&#x27;, &#x27;2019-12-16T02:24:00.0000000Z&#x27;, &#x27;2019-12-16T02:52:48.0000000Z&#x27;, &#x27;2019-12-16T03:21:36.0000000Z&#x27;, &#x27;2019-12-16T03:50:24.0000000Z&#x27;, &#x27;2019-12-16T04:19:12.0000000Z&#x27;, &#x27;2019-12-16T04:48:00.0000000Z&#x27;, &#x27;2019-12-16T05:16:48.0000000Z&#x27;, &#x27;2019-12-16T05:45:36.0000000Z&#x27;, &#x27;2019-12-16T06:14:24.0000000Z&#x27;, &#x27;2019-12-16T06:43:12.0000000Z&#x27;, &#x27;2019-12-16T07:12:00.0000000Z&#x27;, &#x27;2019-12-16T07:40:48.0000000Z&#x27;, &#x27;2019-12-16T08:09:36.0000000Z&#x27;, &#x27;2019-12-16T08:38:24.0000000Z&#x27;, &#x27;2019-12-16T09:07:12.0000000Z&#x27;, &#x27;2019-12-16T09:36:00.0000000Z&#x27;, &#x27;2019-12-16T10:04:48.0000000Z&#x27;]</td>\n    </tr>\n    <tr>\n        <td>13</td>\n        <td>[0, 0, 0, 0, 0, 0, 0, 0, 0, 0, 0, 0, 0, 0, 0, 0, 0, 0, 0, 0, 85490, 271461, 0, 85994, 87342, 138858, 77176, 46294, 0, 0, 0, 0, 0, 0, 0, 0, 0, 0, 0, 0, 0, 0, 0, 0, 0, 0, 0, 0, 65854, 132724, 172780, 89146, 167382, 131459, 124141, 124044, 124142, 122278, 126495, 124534, 125906, 126197, 125126, 126298, 124232, 121011, 121888, 126199, 90410, 0, 0, 0, 0, 0, 0, 0, 0, 0, 0, 0, 0, 0, 0, 0, 0, 0, 0, 0, 0, 0, 0, 0, 0, 0, 0, 0, 0, 0, 0, 0, 0]</td>\n        <td>[&#x27;2019-12-14T10:04:48.0000000Z&#x27;, &#x27;2019-12-14T10:33:36.0000000Z&#x27;, &#x27;2019-12-14T11:02:24.0000000Z&#x27;, &#x27;2019-12-14T11:31:12.0000000Z&#x27;, &#x27;2019-12-14T12:00:00.0000000Z&#x27;, &#x27;2019-12-14T12:28:48.0000000Z&#x27;, &#x27;2019-12-14T12:57:36.0000000Z&#x27;, &#x27;2019-12-14T13:26:24.0000000Z&#x27;, &#x27;2019-12-14T13:55:12.0000000Z&#x27;, &#x27;2019-12-14T14:24:00.0000000Z&#x27;, &#x27;2019-12-14T14:52:48.0000000Z&#x27;, &#x27;2019-12-14T15:21:36.0000000Z&#x27;, &#x27;2019-12-14T15:50:24.0000000Z&#x27;, &#x27;2019-12-14T16:19:12.0000000Z&#x27;, &#x27;2019-12-14T16:48:00.0000000Z&#x27;, &#x27;2019-12-14T17:16:48.0000000Z&#x27;, &#x27;2019-12-14T17:45:36.0000000Z&#x27;, &#x27;2019-12-14T18:14:24.0000000Z&#x27;, &#x27;2019-12-14T18:43:12.0000000Z&#x27;, &#x27;2019-12-14T19:12:00.0000000Z&#x27;, &#x27;2019-12-14T19:40:48.0000000Z&#x27;, &#x27;2019-12-14T20:09:36.0000000Z&#x27;, &#x27;2019-12-14T20:38:24.0000000Z&#x27;, &#x27;2019-12-14T21:07:12.0000000Z&#x27;, &#x27;2019-12-14T21:36:00.0000000Z&#x27;, &#x27;2019-12-14T22:04:48.0000000Z&#x27;, &#x27;2019-12-14T22:33:36.0000000Z&#x27;, &#x27;2019-12-14T23:02:24.0000000Z&#x27;, &#x27;2019-12-14T23:31:12.0000000Z&#x27;, &#x27;2019-12-15T00:00:00.0000000Z&#x27;, &#x27;2019-12-15T00:28:48.0000000Z&#x27;, &#x27;2019-12-15T00:57:36.0000000Z&#x27;, &#x27;2019-12-15T01:26:24.0000000Z&#x27;, &#x27;2019-12-15T01:55:12.0000000Z&#x27;, &#x27;2019-12-15T02:24:00.0000000Z&#x27;, &#x27;2019-12-15T02:52:48.0000000Z&#x27;, &#x27;2019-12-15T03:21:36.0000000Z&#x27;, &#x27;2019-12-15T03:50:24.0000000Z&#x27;, &#x27;2019-12-15T04:19:12.0000000Z&#x27;, &#x27;2019-12-15T04:48:00.0000000Z&#x27;, &#x27;2019-12-15T05:16:48.0000000Z&#x27;, &#x27;2019-12-15T05:45:36.0000000Z&#x27;, &#x27;2019-12-15T06:14:24.0000000Z&#x27;, &#x27;2019-12-15T06:43:12.0000000Z&#x27;, &#x27;2019-12-15T07:12:00.0000000Z&#x27;, &#x27;2019-12-15T07:40:48.0000000Z&#x27;, &#x27;2019-12-15T08:09:36.0000000Z&#x27;, &#x27;2019-12-15T08:38:24.0000000Z&#x27;, &#x27;2019-12-15T09:07:12.0000000Z&#x27;, &#x27;2019-12-15T09:36:00.0000000Z&#x27;, &#x27;2019-12-15T10:04:48.0000000Z&#x27;, &#x27;2019-12-15T10:33:36.0000000Z&#x27;, &#x27;2019-12-15T11:02:24.0000000Z&#x27;, &#x27;2019-12-15T11:31:12.0000000Z&#x27;, &#x27;2019-12-15T12:00:00.0000000Z&#x27;, &#x27;2019-12-15T12:28:48.0000000Z&#x27;, &#x27;2019-12-15T12:57:36.0000000Z&#x27;, &#x27;2019-12-15T13:26:24.0000000Z&#x27;, &#x27;2019-12-15T13:55:12.0000000Z&#x27;, &#x27;2019-12-15T14:24:00.0000000Z&#x27;, &#x27;2019-12-15T14:52:48.0000000Z&#x27;, &#x27;2019-12-15T15:21:36.0000000Z&#x27;, &#x27;2019-12-15T15:50:24.0000000Z&#x27;, &#x27;2019-12-15T16:19:12.0000000Z&#x27;, &#x27;2019-12-15T16:48:00.0000000Z&#x27;, &#x27;2019-12-15T17:16:48.0000000Z&#x27;, &#x27;2019-12-15T17:45:36.0000000Z&#x27;, &#x27;2019-12-15T18:14:24.0000000Z&#x27;, &#x27;2019-12-15T18:43:12.0000000Z&#x27;, &#x27;2019-12-15T19:12:00.0000000Z&#x27;, &#x27;2019-12-15T19:40:48.0000000Z&#x27;, &#x27;2019-12-15T20:09:36.0000000Z&#x27;, &#x27;2019-12-15T20:38:24.0000000Z&#x27;, &#x27;2019-12-15T21:07:12.0000000Z&#x27;, &#x27;2019-12-15T21:36:00.0000000Z&#x27;, &#x27;2019-12-15T22:04:48.0000000Z&#x27;, &#x27;2019-12-15T22:33:36.0000000Z&#x27;, &#x27;2019-12-15T23:02:24.0000000Z&#x27;, &#x27;2019-12-15T23:31:12.0000000Z&#x27;, &#x27;2019-12-16T00:00:00.0000000Z&#x27;, &#x27;2019-12-16T00:28:48.0000000Z&#x27;, &#x27;2019-12-16T00:57:36.0000000Z&#x27;, &#x27;2019-12-16T01:26:24.0000000Z&#x27;, &#x27;2019-12-16T01:55:12.0000000Z&#x27;, &#x27;2019-12-16T02:24:00.0000000Z&#x27;, &#x27;2019-12-16T02:52:48.0000000Z&#x27;, &#x27;2019-12-16T03:21:36.0000000Z&#x27;, &#x27;2019-12-16T03:50:24.0000000Z&#x27;, &#x27;2019-12-16T04:19:12.0000000Z&#x27;, &#x27;2019-12-16T04:48:00.0000000Z&#x27;, &#x27;2019-12-16T05:16:48.0000000Z&#x27;, &#x27;2019-12-16T05:45:36.0000000Z&#x27;, &#x27;2019-12-16T06:14:24.0000000Z&#x27;, &#x27;2019-12-16T06:43:12.0000000Z&#x27;, &#x27;2019-12-16T07:12:00.0000000Z&#x27;, &#x27;2019-12-16T07:40:48.0000000Z&#x27;, &#x27;2019-12-16T08:09:36.0000000Z&#x27;, &#x27;2019-12-16T08:38:24.0000000Z&#x27;, &#x27;2019-12-16T09:07:12.0000000Z&#x27;, &#x27;2019-12-16T09:36:00.0000000Z&#x27;, &#x27;2019-12-16T10:04:48.0000000Z&#x27;]</td>\n    </tr>\n    <tr>\n        <td>14</td>\n        <td>[0, 0, 0, 0, 0, 0, 0, 0, 0, 0, 0, 0, 0, 0, 0, 0, 0, 0, 0, 0, 85490, 271461, 0, 85994, 87342, 138860, 77178, 46294, 0, 0, 0, 0, 0, 0, 0, 0, 0, 0, 0, 0, 0, 0, 0, 0, 0, 0, 0, 0, 65854, 132724, 172778, 89146, 167380, 131459, 124141, 124044, 124142, 122278, 126495, 124534, 125905, 126198, 125126, 126298, 124232, 121011, 121888, 126199, 90410, 0, 0, 0, 0, 0, 0, 0, 0, 0, 0, 0, 0, 0, 0, 0, 0, 0, 0, 0, 0, 0, 0, 0, 0, 0, 0, 0, 0, 0, 0, 0, 0]</td>\n        <td>[&#x27;2019-12-14T10:04:48.0000000Z&#x27;, &#x27;2019-12-14T10:33:36.0000000Z&#x27;, &#x27;2019-12-14T11:02:24.0000000Z&#x27;, &#x27;2019-12-14T11:31:12.0000000Z&#x27;, &#x27;2019-12-14T12:00:00.0000000Z&#x27;, &#x27;2019-12-14T12:28:48.0000000Z&#x27;, &#x27;2019-12-14T12:57:36.0000000Z&#x27;, &#x27;2019-12-14T13:26:24.0000000Z&#x27;, &#x27;2019-12-14T13:55:12.0000000Z&#x27;, &#x27;2019-12-14T14:24:00.0000000Z&#x27;, &#x27;2019-12-14T14:52:48.0000000Z&#x27;, &#x27;2019-12-14T15:21:36.0000000Z&#x27;, &#x27;2019-12-14T15:50:24.0000000Z&#x27;, &#x27;2019-12-14T16:19:12.0000000Z&#x27;, &#x27;2019-12-14T16:48:00.0000000Z&#x27;, &#x27;2019-12-14T17:16:48.0000000Z&#x27;, &#x27;2019-12-14T17:45:36.0000000Z&#x27;, &#x27;2019-12-14T18:14:24.0000000Z&#x27;, &#x27;2019-12-14T18:43:12.0000000Z&#x27;, &#x27;2019-12-14T19:12:00.0000000Z&#x27;, &#x27;2019-12-14T19:40:48.0000000Z&#x27;, &#x27;2019-12-14T20:09:36.0000000Z&#x27;, &#x27;2019-12-14T20:38:24.0000000Z&#x27;, &#x27;2019-12-14T21:07:12.0000000Z&#x27;, &#x27;2019-12-14T21:36:00.0000000Z&#x27;, &#x27;2019-12-14T22:04:48.0000000Z&#x27;, &#x27;2019-12-14T22:33:36.0000000Z&#x27;, &#x27;2019-12-14T23:02:24.0000000Z&#x27;, &#x27;2019-12-14T23:31:12.0000000Z&#x27;, &#x27;2019-12-15T00:00:00.0000000Z&#x27;, &#x27;2019-12-15T00:28:48.0000000Z&#x27;, &#x27;2019-12-15T00:57:36.0000000Z&#x27;, &#x27;2019-12-15T01:26:24.0000000Z&#x27;, &#x27;2019-12-15T01:55:12.0000000Z&#x27;, &#x27;2019-12-15T02:24:00.0000000Z&#x27;, &#x27;2019-12-15T02:52:48.0000000Z&#x27;, &#x27;2019-12-15T03:21:36.0000000Z&#x27;, &#x27;2019-12-15T03:50:24.0000000Z&#x27;, &#x27;2019-12-15T04:19:12.0000000Z&#x27;, &#x27;2019-12-15T04:48:00.0000000Z&#x27;, &#x27;2019-12-15T05:16:48.0000000Z&#x27;, &#x27;2019-12-15T05:45:36.0000000Z&#x27;, &#x27;2019-12-15T06:14:24.0000000Z&#x27;, &#x27;2019-12-15T06:43:12.0000000Z&#x27;, &#x27;2019-12-15T07:12:00.0000000Z&#x27;, &#x27;2019-12-15T07:40:48.0000000Z&#x27;, &#x27;2019-12-15T08:09:36.0000000Z&#x27;, &#x27;2019-12-15T08:38:24.0000000Z&#x27;, &#x27;2019-12-15T09:07:12.0000000Z&#x27;, &#x27;2019-12-15T09:36:00.0000000Z&#x27;, &#x27;2019-12-15T10:04:48.0000000Z&#x27;, &#x27;2019-12-15T10:33:36.0000000Z&#x27;, &#x27;2019-12-15T11:02:24.0000000Z&#x27;, &#x27;2019-12-15T11:31:12.0000000Z&#x27;, &#x27;2019-12-15T12:00:00.0000000Z&#x27;, &#x27;2019-12-15T12:28:48.0000000Z&#x27;, &#x27;2019-12-15T12:57:36.0000000Z&#x27;, &#x27;2019-12-15T13:26:24.0000000Z&#x27;, &#x27;2019-12-15T13:55:12.0000000Z&#x27;, &#x27;2019-12-15T14:24:00.0000000Z&#x27;, &#x27;2019-12-15T14:52:48.0000000Z&#x27;, &#x27;2019-12-15T15:21:36.0000000Z&#x27;, &#x27;2019-12-15T15:50:24.0000000Z&#x27;, &#x27;2019-12-15T16:19:12.0000000Z&#x27;, &#x27;2019-12-15T16:48:00.0000000Z&#x27;, &#x27;2019-12-15T17:16:48.0000000Z&#x27;, &#x27;2019-12-15T17:45:36.0000000Z&#x27;, &#x27;2019-12-15T18:14:24.0000000Z&#x27;, &#x27;2019-12-15T18:43:12.0000000Z&#x27;, &#x27;2019-12-15T19:12:00.0000000Z&#x27;, &#x27;2019-12-15T19:40:48.0000000Z&#x27;, &#x27;2019-12-15T20:09:36.0000000Z&#x27;, &#x27;2019-12-15T20:38:24.0000000Z&#x27;, &#x27;2019-12-15T21:07:12.0000000Z&#x27;, &#x27;2019-12-15T21:36:00.0000000Z&#x27;, &#x27;2019-12-15T22:04:48.0000000Z&#x27;, &#x27;2019-12-15T22:33:36.0000000Z&#x27;, &#x27;2019-12-15T23:02:24.0000000Z&#x27;, &#x27;2019-12-15T23:31:12.0000000Z&#x27;, &#x27;2019-12-16T00:00:00.0000000Z&#x27;, &#x27;2019-12-16T00:28:48.0000000Z&#x27;, &#x27;2019-12-16T00:57:36.0000000Z&#x27;, &#x27;2019-12-16T01:26:24.0000000Z&#x27;, &#x27;2019-12-16T01:55:12.0000000Z&#x27;, &#x27;2019-12-16T02:24:00.0000000Z&#x27;, &#x27;2019-12-16T02:52:48.0000000Z&#x27;, &#x27;2019-12-16T03:21:36.0000000Z&#x27;, &#x27;2019-12-16T03:50:24.0000000Z&#x27;, &#x27;2019-12-16T04:19:12.0000000Z&#x27;, &#x27;2019-12-16T04:48:00.0000000Z&#x27;, &#x27;2019-12-16T05:16:48.0000000Z&#x27;, &#x27;2019-12-16T05:45:36.0000000Z&#x27;, &#x27;2019-12-16T06:14:24.0000000Z&#x27;, &#x27;2019-12-16T06:43:12.0000000Z&#x27;, &#x27;2019-12-16T07:12:00.0000000Z&#x27;, &#x27;2019-12-16T07:40:48.0000000Z&#x27;, &#x27;2019-12-16T08:09:36.0000000Z&#x27;, &#x27;2019-12-16T08:38:24.0000000Z&#x27;, &#x27;2019-12-16T09:07:12.0000000Z&#x27;, &#x27;2019-12-16T09:36:00.0000000Z&#x27;, &#x27;2019-12-16T10:04:48.0000000Z&#x27;]</td>\n    </tr>\n    <tr>\n        <td>0</td>\n        <td>[0, 0, 0, 0, 0, 0, 0, 0, 0, 0, 0, 0, 0, 0, 0, 0, 0, 0, 0, 0, 85492, 271461, 0, 85992, 87342, 138860, 77178, 46294, 0, 0, 0, 0, 0, 0, 0, 0, 0, 0, 0, 0, 0, 0, 0, 0, 0, 0, 0, 0, 65854, 132726, 172778, 89146, 167380, 131458, 124142, 124044, 124142, 122278, 126495, 124533, 125906, 126198, 125125, 126299, 124232, 121011, 121888, 126199, 90410, 0, 0, 0, 0, 0, 0, 0, 0, 0, 0, 0, 0, 0, 0, 0, 0, 0, 0, 0, 0, 0, 0, 0, 0, 0, 0, 0, 0, 0, 0, 0, 0]</td>\n        <td>[&#x27;2019-12-14T10:04:48.0000000Z&#x27;, &#x27;2019-12-14T10:33:36.0000000Z&#x27;, &#x27;2019-12-14T11:02:24.0000000Z&#x27;, &#x27;2019-12-14T11:31:12.0000000Z&#x27;, &#x27;2019-12-14T12:00:00.0000000Z&#x27;, &#x27;2019-12-14T12:28:48.0000000Z&#x27;, &#x27;2019-12-14T12:57:36.0000000Z&#x27;, &#x27;2019-12-14T13:26:24.0000000Z&#x27;, &#x27;2019-12-14T13:55:12.0000000Z&#x27;, &#x27;2019-12-14T14:24:00.0000000Z&#x27;, &#x27;2019-12-14T14:52:48.0000000Z&#x27;, &#x27;2019-12-14T15:21:36.0000000Z&#x27;, &#x27;2019-12-14T15:50:24.0000000Z&#x27;, &#x27;2019-12-14T16:19:12.0000000Z&#x27;, &#x27;2019-12-14T16:48:00.0000000Z&#x27;, &#x27;2019-12-14T17:16:48.0000000Z&#x27;, &#x27;2019-12-14T17:45:36.0000000Z&#x27;, &#x27;2019-12-14T18:14:24.0000000Z&#x27;, &#x27;2019-12-14T18:43:12.0000000Z&#x27;, &#x27;2019-12-14T19:12:00.0000000Z&#x27;, &#x27;2019-12-14T19:40:48.0000000Z&#x27;, &#x27;2019-12-14T20:09:36.0000000Z&#x27;, &#x27;2019-12-14T20:38:24.0000000Z&#x27;, &#x27;2019-12-14T21:07:12.0000000Z&#x27;, &#x27;2019-12-14T21:36:00.0000000Z&#x27;, &#x27;2019-12-14T22:04:48.0000000Z&#x27;, &#x27;2019-12-14T22:33:36.0000000Z&#x27;, &#x27;2019-12-14T23:02:24.0000000Z&#x27;, &#x27;2019-12-14T23:31:12.0000000Z&#x27;, &#x27;2019-12-15T00:00:00.0000000Z&#x27;, &#x27;2019-12-15T00:28:48.0000000Z&#x27;, &#x27;2019-12-15T00:57:36.0000000Z&#x27;, &#x27;2019-12-15T01:26:24.0000000Z&#x27;, &#x27;2019-12-15T01:55:12.0000000Z&#x27;, &#x27;2019-12-15T02:24:00.0000000Z&#x27;, &#x27;2019-12-15T02:52:48.0000000Z&#x27;, &#x27;2019-12-15T03:21:36.0000000Z&#x27;, &#x27;2019-12-15T03:50:24.0000000Z&#x27;, &#x27;2019-12-15T04:19:12.0000000Z&#x27;, &#x27;2019-12-15T04:48:00.0000000Z&#x27;, &#x27;2019-12-15T05:16:48.0000000Z&#x27;, &#x27;2019-12-15T05:45:36.0000000Z&#x27;, &#x27;2019-12-15T06:14:24.0000000Z&#x27;, &#x27;2019-12-15T06:43:12.0000000Z&#x27;, &#x27;2019-12-15T07:12:00.0000000Z&#x27;, &#x27;2019-12-15T07:40:48.0000000Z&#x27;, &#x27;2019-12-15T08:09:36.0000000Z&#x27;, &#x27;2019-12-15T08:38:24.0000000Z&#x27;, &#x27;2019-12-15T09:07:12.0000000Z&#x27;, &#x27;2019-12-15T09:36:00.0000000Z&#x27;, &#x27;2019-12-15T10:04:48.0000000Z&#x27;, &#x27;2019-12-15T10:33:36.0000000Z&#x27;, &#x27;2019-12-15T11:02:24.0000000Z&#x27;, &#x27;2019-12-15T11:31:12.0000000Z&#x27;, &#x27;2019-12-15T12:00:00.0000000Z&#x27;, &#x27;2019-12-15T12:28:48.0000000Z&#x27;, &#x27;2019-12-15T12:57:36.0000000Z&#x27;, &#x27;2019-12-15T13:26:24.0000000Z&#x27;, &#x27;2019-12-15T13:55:12.0000000Z&#x27;, &#x27;2019-12-15T14:24:00.0000000Z&#x27;, &#x27;2019-12-15T14:52:48.0000000Z&#x27;, &#x27;2019-12-15T15:21:36.0000000Z&#x27;, &#x27;2019-12-15T15:50:24.0000000Z&#x27;, &#x27;2019-12-15T16:19:12.0000000Z&#x27;, &#x27;2019-12-15T16:48:00.0000000Z&#x27;, &#x27;2019-12-15T17:16:48.0000000Z&#x27;, &#x27;2019-12-15T17:45:36.0000000Z&#x27;, &#x27;2019-12-15T18:14:24.0000000Z&#x27;, &#x27;2019-12-15T18:43:12.0000000Z&#x27;, &#x27;2019-12-15T19:12:00.0000000Z&#x27;, &#x27;2019-12-15T19:40:48.0000000Z&#x27;, &#x27;2019-12-15T20:09:36.0000000Z&#x27;, &#x27;2019-12-15T20:38:24.0000000Z&#x27;, &#x27;2019-12-15T21:07:12.0000000Z&#x27;, &#x27;2019-12-15T21:36:00.0000000Z&#x27;, &#x27;2019-12-15T22:04:48.0000000Z&#x27;, &#x27;2019-12-15T22:33:36.0000000Z&#x27;, &#x27;2019-12-15T23:02:24.0000000Z&#x27;, &#x27;2019-12-15T23:31:12.0000000Z&#x27;, &#x27;2019-12-16T00:00:00.0000000Z&#x27;, &#x27;2019-12-16T00:28:48.0000000Z&#x27;, &#x27;2019-12-16T00:57:36.0000000Z&#x27;, &#x27;2019-12-16T01:26:24.0000000Z&#x27;, &#x27;2019-12-16T01:55:12.0000000Z&#x27;, &#x27;2019-12-16T02:24:00.0000000Z&#x27;, &#x27;2019-12-16T02:52:48.0000000Z&#x27;, &#x27;2019-12-16T03:21:36.0000000Z&#x27;, &#x27;2019-12-16T03:50:24.0000000Z&#x27;, &#x27;2019-12-16T04:19:12.0000000Z&#x27;, &#x27;2019-12-16T04:48:00.0000000Z&#x27;, &#x27;2019-12-16T05:16:48.0000000Z&#x27;, &#x27;2019-12-16T05:45:36.0000000Z&#x27;, &#x27;2019-12-16T06:14:24.0000000Z&#x27;, &#x27;2019-12-16T06:43:12.0000000Z&#x27;, &#x27;2019-12-16T07:12:00.0000000Z&#x27;, &#x27;2019-12-16T07:40:48.0000000Z&#x27;, &#x27;2019-12-16T08:09:36.0000000Z&#x27;, &#x27;2019-12-16T08:38:24.0000000Z&#x27;, &#x27;2019-12-16T09:07:12.0000000Z&#x27;, &#x27;2019-12-16T09:36:00.0000000Z&#x27;, &#x27;2019-12-16T10:04:48.0000000Z&#x27;]</td>\n    </tr>\n    <tr>\n        <td>1</td>\n        <td>[0, 0, 0, 0, 0, 0, 0, 0, 0, 0, 0, 0, 0, 0, 0, 0, 0, 0, 0, 0, 85492, 271461, 0, 85992, 87342, 138860, 77180, 46294, 0, 0, 0, 0, 0, 0, 0, 0, 0, 0, 0, 0, 0, 0, 0, 0, 0, 0, 0, 0, 65854, 132726, 172778, 89144, 167380, 131458, 124142, 124044, 124142, 122278, 126495, 124533, 125906, 126197, 125126, 126299, 124232, 121011, 121888, 126199, 90410, 0, 0, 0, 0, 0, 0, 0, 0, 0, 0, 0, 0, 0, 0, 0, 0, 0, 0, 0, 0, 0, 0, 0, 0, 0, 0, 0, 0, 0, 0, 0, 0]</td>\n        <td>[&#x27;2019-12-14T10:04:48.0000000Z&#x27;, &#x27;2019-12-14T10:33:36.0000000Z&#x27;, &#x27;2019-12-14T11:02:24.0000000Z&#x27;, &#x27;2019-12-14T11:31:12.0000000Z&#x27;, &#x27;2019-12-14T12:00:00.0000000Z&#x27;, &#x27;2019-12-14T12:28:48.0000000Z&#x27;, &#x27;2019-12-14T12:57:36.0000000Z&#x27;, &#x27;2019-12-14T13:26:24.0000000Z&#x27;, &#x27;2019-12-14T13:55:12.0000000Z&#x27;, &#x27;2019-12-14T14:24:00.0000000Z&#x27;, &#x27;2019-12-14T14:52:48.0000000Z&#x27;, &#x27;2019-12-14T15:21:36.0000000Z&#x27;, &#x27;2019-12-14T15:50:24.0000000Z&#x27;, &#x27;2019-12-14T16:19:12.0000000Z&#x27;, &#x27;2019-12-14T16:48:00.0000000Z&#x27;, &#x27;2019-12-14T17:16:48.0000000Z&#x27;, &#x27;2019-12-14T17:45:36.0000000Z&#x27;, &#x27;2019-12-14T18:14:24.0000000Z&#x27;, &#x27;2019-12-14T18:43:12.0000000Z&#x27;, &#x27;2019-12-14T19:12:00.0000000Z&#x27;, &#x27;2019-12-14T19:40:48.0000000Z&#x27;, &#x27;2019-12-14T20:09:36.0000000Z&#x27;, &#x27;2019-12-14T20:38:24.0000000Z&#x27;, &#x27;2019-12-14T21:07:12.0000000Z&#x27;, &#x27;2019-12-14T21:36:00.0000000Z&#x27;, &#x27;2019-12-14T22:04:48.0000000Z&#x27;, &#x27;2019-12-14T22:33:36.0000000Z&#x27;, &#x27;2019-12-14T23:02:24.0000000Z&#x27;, &#x27;2019-12-14T23:31:12.0000000Z&#x27;, &#x27;2019-12-15T00:00:00.0000000Z&#x27;, &#x27;2019-12-15T00:28:48.0000000Z&#x27;, &#x27;2019-12-15T00:57:36.0000000Z&#x27;, &#x27;2019-12-15T01:26:24.0000000Z&#x27;, &#x27;2019-12-15T01:55:12.0000000Z&#x27;, &#x27;2019-12-15T02:24:00.0000000Z&#x27;, &#x27;2019-12-15T02:52:48.0000000Z&#x27;, &#x27;2019-12-15T03:21:36.0000000Z&#x27;, &#x27;2019-12-15T03:50:24.0000000Z&#x27;, &#x27;2019-12-15T04:19:12.0000000Z&#x27;, &#x27;2019-12-15T04:48:00.0000000Z&#x27;, &#x27;2019-12-15T05:16:48.0000000Z&#x27;, &#x27;2019-12-15T05:45:36.0000000Z&#x27;, &#x27;2019-12-15T06:14:24.0000000Z&#x27;, &#x27;2019-12-15T06:43:12.0000000Z&#x27;, &#x27;2019-12-15T07:12:00.0000000Z&#x27;, &#x27;2019-12-15T07:40:48.0000000Z&#x27;, &#x27;2019-12-15T08:09:36.0000000Z&#x27;, &#x27;2019-12-15T08:38:24.0000000Z&#x27;, &#x27;2019-12-15T09:07:12.0000000Z&#x27;, &#x27;2019-12-15T09:36:00.0000000Z&#x27;, &#x27;2019-12-15T10:04:48.0000000Z&#x27;, &#x27;2019-12-15T10:33:36.0000000Z&#x27;, &#x27;2019-12-15T11:02:24.0000000Z&#x27;, &#x27;2019-12-15T11:31:12.0000000Z&#x27;, &#x27;2019-12-15T12:00:00.0000000Z&#x27;, &#x27;2019-12-15T12:28:48.0000000Z&#x27;, &#x27;2019-12-15T12:57:36.0000000Z&#x27;, &#x27;2019-12-15T13:26:24.0000000Z&#x27;, &#x27;2019-12-15T13:55:12.0000000Z&#x27;, &#x27;2019-12-15T14:24:00.0000000Z&#x27;, &#x27;2019-12-15T14:52:48.0000000Z&#x27;, &#x27;2019-12-15T15:21:36.0000000Z&#x27;, &#x27;2019-12-15T15:50:24.0000000Z&#x27;, &#x27;2019-12-15T16:19:12.0000000Z&#x27;, &#x27;2019-12-15T16:48:00.0000000Z&#x27;, &#x27;2019-12-15T17:16:48.0000000Z&#x27;, &#x27;2019-12-15T17:45:36.0000000Z&#x27;, &#x27;2019-12-15T18:14:24.0000000Z&#x27;, &#x27;2019-12-15T18:43:12.0000000Z&#x27;, &#x27;2019-12-15T19:12:00.0000000Z&#x27;, &#x27;2019-12-15T19:40:48.0000000Z&#x27;, &#x27;2019-12-15T20:09:36.0000000Z&#x27;, &#x27;2019-12-15T20:38:24.0000000Z&#x27;, &#x27;2019-12-15T21:07:12.0000000Z&#x27;, &#x27;2019-12-15T21:36:00.0000000Z&#x27;, &#x27;2019-12-15T22:04:48.0000000Z&#x27;, &#x27;2019-12-15T22:33:36.0000000Z&#x27;, &#x27;2019-12-15T23:02:24.0000000Z&#x27;, &#x27;2019-12-15T23:31:12.0000000Z&#x27;, &#x27;2019-12-16T00:00:00.0000000Z&#x27;, &#x27;2019-12-16T00:28:48.0000000Z&#x27;, &#x27;2019-12-16T00:57:36.0000000Z&#x27;, &#x27;2019-12-16T01:26:24.0000000Z&#x27;, &#x27;2019-12-16T01:55:12.0000000Z&#x27;, &#x27;2019-12-16T02:24:00.0000000Z&#x27;, &#x27;2019-12-16T02:52:48.0000000Z&#x27;, &#x27;2019-12-16T03:21:36.0000000Z&#x27;, &#x27;2019-12-16T03:50:24.0000000Z&#x27;, &#x27;2019-12-16T04:19:12.0000000Z&#x27;, &#x27;2019-12-16T04:48:00.0000000Z&#x27;, &#x27;2019-12-16T05:16:48.0000000Z&#x27;, &#x27;2019-12-16T05:45:36.0000000Z&#x27;, &#x27;2019-12-16T06:14:24.0000000Z&#x27;, &#x27;2019-12-16T06:43:12.0000000Z&#x27;, &#x27;2019-12-16T07:12:00.0000000Z&#x27;, &#x27;2019-12-16T07:40:48.0000000Z&#x27;, &#x27;2019-12-16T08:09:36.0000000Z&#x27;, &#x27;2019-12-16T08:38:24.0000000Z&#x27;, &#x27;2019-12-16T09:07:12.0000000Z&#x27;, &#x27;2019-12-16T09:36:00.0000000Z&#x27;, &#x27;2019-12-16T10:04:48.0000000Z&#x27;]</td>\n    </tr>\n    <tr>\n        <td>2</td>\n        <td>[0, 0, 0, 0, 0, 0, 0, 0, 0, 0, 0, 0, 0, 0, 0, 0, 0, 0, 0, 0, 85492, 271461, 0, 85992, 87342, 138860, 77180, 46294, 0, 0, 0, 0, 0, 0, 0, 0, 0, 0, 0, 0, 0, 0, 0, 0, 0, 0, 0, 0, 65854, 132726, 172778, 89144, 167380, 131458, 124142, 124044, 124141, 122279, 126495, 124533, 125906, 126197, 125126, 126299, 124232, 121011, 121887, 126200, 90410, 0, 0, 0, 0, 0, 0, 0, 0, 0, 0, 0, 0, 0, 0, 0, 0, 0, 0, 0, 0, 0, 0, 0, 0, 0, 0, 0, 0, 0, 0, 0, 0]</td>\n        <td>[&#x27;2019-12-14T10:04:48.0000000Z&#x27;, &#x27;2019-12-14T10:33:36.0000000Z&#x27;, &#x27;2019-12-14T11:02:24.0000000Z&#x27;, &#x27;2019-12-14T11:31:12.0000000Z&#x27;, &#x27;2019-12-14T12:00:00.0000000Z&#x27;, &#x27;2019-12-14T12:28:48.0000000Z&#x27;, &#x27;2019-12-14T12:57:36.0000000Z&#x27;, &#x27;2019-12-14T13:26:24.0000000Z&#x27;, &#x27;2019-12-14T13:55:12.0000000Z&#x27;, &#x27;2019-12-14T14:24:00.0000000Z&#x27;, &#x27;2019-12-14T14:52:48.0000000Z&#x27;, &#x27;2019-12-14T15:21:36.0000000Z&#x27;, &#x27;2019-12-14T15:50:24.0000000Z&#x27;, &#x27;2019-12-14T16:19:12.0000000Z&#x27;, &#x27;2019-12-14T16:48:00.0000000Z&#x27;, &#x27;2019-12-14T17:16:48.0000000Z&#x27;, &#x27;2019-12-14T17:45:36.0000000Z&#x27;, &#x27;2019-12-14T18:14:24.0000000Z&#x27;, &#x27;2019-12-14T18:43:12.0000000Z&#x27;, &#x27;2019-12-14T19:12:00.0000000Z&#x27;, &#x27;2019-12-14T19:40:48.0000000Z&#x27;, &#x27;2019-12-14T20:09:36.0000000Z&#x27;, &#x27;2019-12-14T20:38:24.0000000Z&#x27;, &#x27;2019-12-14T21:07:12.0000000Z&#x27;, &#x27;2019-12-14T21:36:00.0000000Z&#x27;, &#x27;2019-12-14T22:04:48.0000000Z&#x27;, &#x27;2019-12-14T22:33:36.0000000Z&#x27;, &#x27;2019-12-14T23:02:24.0000000Z&#x27;, &#x27;2019-12-14T23:31:12.0000000Z&#x27;, &#x27;2019-12-15T00:00:00.0000000Z&#x27;, &#x27;2019-12-15T00:28:48.0000000Z&#x27;, &#x27;2019-12-15T00:57:36.0000000Z&#x27;, &#x27;2019-12-15T01:26:24.0000000Z&#x27;, &#x27;2019-12-15T01:55:12.0000000Z&#x27;, &#x27;2019-12-15T02:24:00.0000000Z&#x27;, &#x27;2019-12-15T02:52:48.0000000Z&#x27;, &#x27;2019-12-15T03:21:36.0000000Z&#x27;, &#x27;2019-12-15T03:50:24.0000000Z&#x27;, &#x27;2019-12-15T04:19:12.0000000Z&#x27;, &#x27;2019-12-15T04:48:00.0000000Z&#x27;, &#x27;2019-12-15T05:16:48.0000000Z&#x27;, &#x27;2019-12-15T05:45:36.0000000Z&#x27;, &#x27;2019-12-15T06:14:24.0000000Z&#x27;, &#x27;2019-12-15T06:43:12.0000000Z&#x27;, &#x27;2019-12-15T07:12:00.0000000Z&#x27;, &#x27;2019-12-15T07:40:48.0000000Z&#x27;, &#x27;2019-12-15T08:09:36.0000000Z&#x27;, &#x27;2019-12-15T08:38:24.0000000Z&#x27;, &#x27;2019-12-15T09:07:12.0000000Z&#x27;, &#x27;2019-12-15T09:36:00.0000000Z&#x27;, &#x27;2019-12-15T10:04:48.0000000Z&#x27;, &#x27;2019-12-15T10:33:36.0000000Z&#x27;, &#x27;2019-12-15T11:02:24.0000000Z&#x27;, &#x27;2019-12-15T11:31:12.0000000Z&#x27;, &#x27;2019-12-15T12:00:00.0000000Z&#x27;, &#x27;2019-12-15T12:28:48.0000000Z&#x27;, &#x27;2019-12-15T12:57:36.0000000Z&#x27;, &#x27;2019-12-15T13:26:24.0000000Z&#x27;, &#x27;2019-12-15T13:55:12.0000000Z&#x27;, &#x27;2019-12-15T14:24:00.0000000Z&#x27;, &#x27;2019-12-15T14:52:48.0000000Z&#x27;, &#x27;2019-12-15T15:21:36.0000000Z&#x27;, &#x27;2019-12-15T15:50:24.0000000Z&#x27;, &#x27;2019-12-15T16:19:12.0000000Z&#x27;, &#x27;2019-12-15T16:48:00.0000000Z&#x27;, &#x27;2019-12-15T17:16:48.0000000Z&#x27;, &#x27;2019-12-15T17:45:36.0000000Z&#x27;, &#x27;2019-12-15T18:14:24.0000000Z&#x27;, &#x27;2019-12-15T18:43:12.0000000Z&#x27;, &#x27;2019-12-15T19:12:00.0000000Z&#x27;, &#x27;2019-12-15T19:40:48.0000000Z&#x27;, &#x27;2019-12-15T20:09:36.0000000Z&#x27;, &#x27;2019-12-15T20:38:24.0000000Z&#x27;, &#x27;2019-12-15T21:07:12.0000000Z&#x27;, &#x27;2019-12-15T21:36:00.0000000Z&#x27;, &#x27;2019-12-15T22:04:48.0000000Z&#x27;, &#x27;2019-12-15T22:33:36.0000000Z&#x27;, &#x27;2019-12-15T23:02:24.0000000Z&#x27;, &#x27;2019-12-15T23:31:12.0000000Z&#x27;, &#x27;2019-12-16T00:00:00.0000000Z&#x27;, &#x27;2019-12-16T00:28:48.0000000Z&#x27;, &#x27;2019-12-16T00:57:36.0000000Z&#x27;, &#x27;2019-12-16T01:26:24.0000000Z&#x27;, &#x27;2019-12-16T01:55:12.0000000Z&#x27;, &#x27;2019-12-16T02:24:00.0000000Z&#x27;, &#x27;2019-12-16T02:52:48.0000000Z&#x27;, &#x27;2019-12-16T03:21:36.0000000Z&#x27;, &#x27;2019-12-16T03:50:24.0000000Z&#x27;, &#x27;2019-12-16T04:19:12.0000000Z&#x27;, &#x27;2019-12-16T04:48:00.0000000Z&#x27;, &#x27;2019-12-16T05:16:48.0000000Z&#x27;, &#x27;2019-12-16T05:45:36.0000000Z&#x27;, &#x27;2019-12-16T06:14:24.0000000Z&#x27;, &#x27;2019-12-16T06:43:12.0000000Z&#x27;, &#x27;2019-12-16T07:12:00.0000000Z&#x27;, &#x27;2019-12-16T07:40:48.0000000Z&#x27;, &#x27;2019-12-16T08:09:36.0000000Z&#x27;, &#x27;2019-12-16T08:38:24.0000000Z&#x27;, &#x27;2019-12-16T09:07:12.0000000Z&#x27;, &#x27;2019-12-16T09:36:00.0000000Z&#x27;, &#x27;2019-12-16T10:04:48.0000000Z&#x27;]</td>\n    </tr>\n    <tr>\n        <td>3</td>\n        <td>[0, 0, 0, 0, 0, 0, 0, 0, 0, 0, 0, 0, 0, 0, 0, 0, 0, 0, 0, 0, 85492, 271461, 0, 85994, 87344, 138860, 77180, 46294, 0, 0, 0, 0, 0, 0, 0, 0, 0, 0, 0, 0, 0, 0, 0, 0, 0, 0, 0, 0, 65854, 132722, 172778, 89144, 167380, 131458, 124142, 124044, 124141, 122279, 126495, 124533, 125906, 126197, 125126, 126299, 124231, 121012, 121887, 126200, 90410, 0, 0, 0, 0, 0, 0, 0, 0, 0, 0, 0, 0, 0, 0, 0, 0, 0, 0, 0, 0, 0, 0, 0, 0, 0, 0, 0, 0, 0, 0, 0, 0]</td>\n        <td>[&#x27;2019-12-14T10:04:48.0000000Z&#x27;, &#x27;2019-12-14T10:33:36.0000000Z&#x27;, &#x27;2019-12-14T11:02:24.0000000Z&#x27;, &#x27;2019-12-14T11:31:12.0000000Z&#x27;, &#x27;2019-12-14T12:00:00.0000000Z&#x27;, &#x27;2019-12-14T12:28:48.0000000Z&#x27;, &#x27;2019-12-14T12:57:36.0000000Z&#x27;, &#x27;2019-12-14T13:26:24.0000000Z&#x27;, &#x27;2019-12-14T13:55:12.0000000Z&#x27;, &#x27;2019-12-14T14:24:00.0000000Z&#x27;, &#x27;2019-12-14T14:52:48.0000000Z&#x27;, &#x27;2019-12-14T15:21:36.0000000Z&#x27;, &#x27;2019-12-14T15:50:24.0000000Z&#x27;, &#x27;2019-12-14T16:19:12.0000000Z&#x27;, &#x27;2019-12-14T16:48:00.0000000Z&#x27;, &#x27;2019-12-14T17:16:48.0000000Z&#x27;, &#x27;2019-12-14T17:45:36.0000000Z&#x27;, &#x27;2019-12-14T18:14:24.0000000Z&#x27;, &#x27;2019-12-14T18:43:12.0000000Z&#x27;, &#x27;2019-12-14T19:12:00.0000000Z&#x27;, &#x27;2019-12-14T19:40:48.0000000Z&#x27;, &#x27;2019-12-14T20:09:36.0000000Z&#x27;, &#x27;2019-12-14T20:38:24.0000000Z&#x27;, &#x27;2019-12-14T21:07:12.0000000Z&#x27;, &#x27;2019-12-14T21:36:00.0000000Z&#x27;, &#x27;2019-12-14T22:04:48.0000000Z&#x27;, &#x27;2019-12-14T22:33:36.0000000Z&#x27;, &#x27;2019-12-14T23:02:24.0000000Z&#x27;, &#x27;2019-12-14T23:31:12.0000000Z&#x27;, &#x27;2019-12-15T00:00:00.0000000Z&#x27;, &#x27;2019-12-15T00:28:48.0000000Z&#x27;, &#x27;2019-12-15T00:57:36.0000000Z&#x27;, &#x27;2019-12-15T01:26:24.0000000Z&#x27;, &#x27;2019-12-15T01:55:12.0000000Z&#x27;, &#x27;2019-12-15T02:24:00.0000000Z&#x27;, &#x27;2019-12-15T02:52:48.0000000Z&#x27;, &#x27;2019-12-15T03:21:36.0000000Z&#x27;, &#x27;2019-12-15T03:50:24.0000000Z&#x27;, &#x27;2019-12-15T04:19:12.0000000Z&#x27;, &#x27;2019-12-15T04:48:00.0000000Z&#x27;, &#x27;2019-12-15T05:16:48.0000000Z&#x27;, &#x27;2019-12-15T05:45:36.0000000Z&#x27;, &#x27;2019-12-15T06:14:24.0000000Z&#x27;, &#x27;2019-12-15T06:43:12.0000000Z&#x27;, &#x27;2019-12-15T07:12:00.0000000Z&#x27;, &#x27;2019-12-15T07:40:48.0000000Z&#x27;, &#x27;2019-12-15T08:09:36.0000000Z&#x27;, &#x27;2019-12-15T08:38:24.0000000Z&#x27;, &#x27;2019-12-15T09:07:12.0000000Z&#x27;, &#x27;2019-12-15T09:36:00.0000000Z&#x27;, &#x27;2019-12-15T10:04:48.0000000Z&#x27;, &#x27;2019-12-15T10:33:36.0000000Z&#x27;, &#x27;2019-12-15T11:02:24.0000000Z&#x27;, &#x27;2019-12-15T11:31:12.0000000Z&#x27;, &#x27;2019-12-15T12:00:00.0000000Z&#x27;, &#x27;2019-12-15T12:28:48.0000000Z&#x27;, &#x27;2019-12-15T12:57:36.0000000Z&#x27;, &#x27;2019-12-15T13:26:24.0000000Z&#x27;, &#x27;2019-12-15T13:55:12.0000000Z&#x27;, &#x27;2019-12-15T14:24:00.0000000Z&#x27;, &#x27;2019-12-15T14:52:48.0000000Z&#x27;, &#x27;2019-12-15T15:21:36.0000000Z&#x27;, &#x27;2019-12-15T15:50:24.0000000Z&#x27;, &#x27;2019-12-15T16:19:12.0000000Z&#x27;, &#x27;2019-12-15T16:48:00.0000000Z&#x27;, &#x27;2019-12-15T17:16:48.0000000Z&#x27;, &#x27;2019-12-15T17:45:36.0000000Z&#x27;, &#x27;2019-12-15T18:14:24.0000000Z&#x27;, &#x27;2019-12-15T18:43:12.0000000Z&#x27;, &#x27;2019-12-15T19:12:00.0000000Z&#x27;, &#x27;2019-12-15T19:40:48.0000000Z&#x27;, &#x27;2019-12-15T20:09:36.0000000Z&#x27;, &#x27;2019-12-15T20:38:24.0000000Z&#x27;, &#x27;2019-12-15T21:07:12.0000000Z&#x27;, &#x27;2019-12-15T21:36:00.0000000Z&#x27;, &#x27;2019-12-15T22:04:48.0000000Z&#x27;, &#x27;2019-12-15T22:33:36.0000000Z&#x27;, &#x27;2019-12-15T23:02:24.0000000Z&#x27;, &#x27;2019-12-15T23:31:12.0000000Z&#x27;, &#x27;2019-12-16T00:00:00.0000000Z&#x27;, &#x27;2019-12-16T00:28:48.0000000Z&#x27;, &#x27;2019-12-16T00:57:36.0000000Z&#x27;, &#x27;2019-12-16T01:26:24.0000000Z&#x27;, &#x27;2019-12-16T01:55:12.0000000Z&#x27;, &#x27;2019-12-16T02:24:00.0000000Z&#x27;, &#x27;2019-12-16T02:52:48.0000000Z&#x27;, &#x27;2019-12-16T03:21:36.0000000Z&#x27;, &#x27;2019-12-16T03:50:24.0000000Z&#x27;, &#x27;2019-12-16T04:19:12.0000000Z&#x27;, &#x27;2019-12-16T04:48:00.0000000Z&#x27;, &#x27;2019-12-16T05:16:48.0000000Z&#x27;, &#x27;2019-12-16T05:45:36.0000000Z&#x27;, &#x27;2019-12-16T06:14:24.0000000Z&#x27;, &#x27;2019-12-16T06:43:12.0000000Z&#x27;, &#x27;2019-12-16T07:12:00.0000000Z&#x27;, &#x27;2019-12-16T07:40:48.0000000Z&#x27;, &#x27;2019-12-16T08:09:36.0000000Z&#x27;, &#x27;2019-12-16T08:38:24.0000000Z&#x27;, &#x27;2019-12-16T09:07:12.0000000Z&#x27;, &#x27;2019-12-16T09:36:00.0000000Z&#x27;, &#x27;2019-12-16T10:04:48.0000000Z&#x27;]</td>\n    </tr>\n    <tr>\n        <td>4</td>\n        <td>[0, 0, 0, 0, 0, 0, 0, 0, 0, 0, 0, 0, 0, 0, 0, 0, 0, 0, 0, 0, 85492, 271461, 0, 85994, 87342, 138860, 77180, 46294, 0, 0, 0, 0, 0, 0, 0, 0, 0, 0, 0, 0, 0, 0, 0, 0, 0, 0, 0, 0, 65854, 132722, 172780, 89144, 167380, 131458, 124142, 124044, 124141, 122279, 126495, 124533, 125906, 126197, 125126, 126299, 124231, 121012, 121887, 126200, 90409, 0, 0, 0, 0, 0, 0, 0, 0, 0, 0, 0, 0, 0, 0, 0, 0, 0, 0, 0, 0, 0, 0, 0, 0, 0, 0, 0, 0, 0, 0, 0, 0]</td>\n        <td>[&#x27;2019-12-14T10:04:48.0000000Z&#x27;, &#x27;2019-12-14T10:33:36.0000000Z&#x27;, &#x27;2019-12-14T11:02:24.0000000Z&#x27;, &#x27;2019-12-14T11:31:12.0000000Z&#x27;, &#x27;2019-12-14T12:00:00.0000000Z&#x27;, &#x27;2019-12-14T12:28:48.0000000Z&#x27;, &#x27;2019-12-14T12:57:36.0000000Z&#x27;, &#x27;2019-12-14T13:26:24.0000000Z&#x27;, &#x27;2019-12-14T13:55:12.0000000Z&#x27;, &#x27;2019-12-14T14:24:00.0000000Z&#x27;, &#x27;2019-12-14T14:52:48.0000000Z&#x27;, &#x27;2019-12-14T15:21:36.0000000Z&#x27;, &#x27;2019-12-14T15:50:24.0000000Z&#x27;, &#x27;2019-12-14T16:19:12.0000000Z&#x27;, &#x27;2019-12-14T16:48:00.0000000Z&#x27;, &#x27;2019-12-14T17:16:48.0000000Z&#x27;, &#x27;2019-12-14T17:45:36.0000000Z&#x27;, &#x27;2019-12-14T18:14:24.0000000Z&#x27;, &#x27;2019-12-14T18:43:12.0000000Z&#x27;, &#x27;2019-12-14T19:12:00.0000000Z&#x27;, &#x27;2019-12-14T19:40:48.0000000Z&#x27;, &#x27;2019-12-14T20:09:36.0000000Z&#x27;, &#x27;2019-12-14T20:38:24.0000000Z&#x27;, &#x27;2019-12-14T21:07:12.0000000Z&#x27;, &#x27;2019-12-14T21:36:00.0000000Z&#x27;, &#x27;2019-12-14T22:04:48.0000000Z&#x27;, &#x27;2019-12-14T22:33:36.0000000Z&#x27;, &#x27;2019-12-14T23:02:24.0000000Z&#x27;, &#x27;2019-12-14T23:31:12.0000000Z&#x27;, &#x27;2019-12-15T00:00:00.0000000Z&#x27;, &#x27;2019-12-15T00:28:48.0000000Z&#x27;, &#x27;2019-12-15T00:57:36.0000000Z&#x27;, &#x27;2019-12-15T01:26:24.0000000Z&#x27;, &#x27;2019-12-15T01:55:12.0000000Z&#x27;, &#x27;2019-12-15T02:24:00.0000000Z&#x27;, &#x27;2019-12-15T02:52:48.0000000Z&#x27;, &#x27;2019-12-15T03:21:36.0000000Z&#x27;, &#x27;2019-12-15T03:50:24.0000000Z&#x27;, &#x27;2019-12-15T04:19:12.0000000Z&#x27;, &#x27;2019-12-15T04:48:00.0000000Z&#x27;, &#x27;2019-12-15T05:16:48.0000000Z&#x27;, &#x27;2019-12-15T05:45:36.0000000Z&#x27;, &#x27;2019-12-15T06:14:24.0000000Z&#x27;, &#x27;2019-12-15T06:43:12.0000000Z&#x27;, &#x27;2019-12-15T07:12:00.0000000Z&#x27;, &#x27;2019-12-15T07:40:48.0000000Z&#x27;, &#x27;2019-12-15T08:09:36.0000000Z&#x27;, &#x27;2019-12-15T08:38:24.0000000Z&#x27;, &#x27;2019-12-15T09:07:12.0000000Z&#x27;, &#x27;2019-12-15T09:36:00.0000000Z&#x27;, &#x27;2019-12-15T10:04:48.0000000Z&#x27;, &#x27;2019-12-15T10:33:36.0000000Z&#x27;, &#x27;2019-12-15T11:02:24.0000000Z&#x27;, &#x27;2019-12-15T11:31:12.0000000Z&#x27;, &#x27;2019-12-15T12:00:00.0000000Z&#x27;, &#x27;2019-12-15T12:28:48.0000000Z&#x27;, &#x27;2019-12-15T12:57:36.0000000Z&#x27;, &#x27;2019-12-15T13:26:24.0000000Z&#x27;, &#x27;2019-12-15T13:55:12.0000000Z&#x27;, &#x27;2019-12-15T14:24:00.0000000Z&#x27;, &#x27;2019-12-15T14:52:48.0000000Z&#x27;, &#x27;2019-12-15T15:21:36.0000000Z&#x27;, &#x27;2019-12-15T15:50:24.0000000Z&#x27;, &#x27;2019-12-15T16:19:12.0000000Z&#x27;, &#x27;2019-12-15T16:48:00.0000000Z&#x27;, &#x27;2019-12-15T17:16:48.0000000Z&#x27;, &#x27;2019-12-15T17:45:36.0000000Z&#x27;, &#x27;2019-12-15T18:14:24.0000000Z&#x27;, &#x27;2019-12-15T18:43:12.0000000Z&#x27;, &#x27;2019-12-15T19:12:00.0000000Z&#x27;, &#x27;2019-12-15T19:40:48.0000000Z&#x27;, &#x27;2019-12-15T20:09:36.0000000Z&#x27;, &#x27;2019-12-15T20:38:24.0000000Z&#x27;, &#x27;2019-12-15T21:07:12.0000000Z&#x27;, &#x27;2019-12-15T21:36:00.0000000Z&#x27;, &#x27;2019-12-15T22:04:48.0000000Z&#x27;, &#x27;2019-12-15T22:33:36.0000000Z&#x27;, &#x27;2019-12-15T23:02:24.0000000Z&#x27;, &#x27;2019-12-15T23:31:12.0000000Z&#x27;, &#x27;2019-12-16T00:00:00.0000000Z&#x27;, &#x27;2019-12-16T00:28:48.0000000Z&#x27;, &#x27;2019-12-16T00:57:36.0000000Z&#x27;, &#x27;2019-12-16T01:26:24.0000000Z&#x27;, &#x27;2019-12-16T01:55:12.0000000Z&#x27;, &#x27;2019-12-16T02:24:00.0000000Z&#x27;, &#x27;2019-12-16T02:52:48.0000000Z&#x27;, &#x27;2019-12-16T03:21:36.0000000Z&#x27;, &#x27;2019-12-16T03:50:24.0000000Z&#x27;, &#x27;2019-12-16T04:19:12.0000000Z&#x27;, &#x27;2019-12-16T04:48:00.0000000Z&#x27;, &#x27;2019-12-16T05:16:48.0000000Z&#x27;, &#x27;2019-12-16T05:45:36.0000000Z&#x27;, &#x27;2019-12-16T06:14:24.0000000Z&#x27;, &#x27;2019-12-16T06:43:12.0000000Z&#x27;, &#x27;2019-12-16T07:12:00.0000000Z&#x27;, &#x27;2019-12-16T07:40:48.0000000Z&#x27;, &#x27;2019-12-16T08:09:36.0000000Z&#x27;, &#x27;2019-12-16T08:38:24.0000000Z&#x27;, &#x27;2019-12-16T09:07:12.0000000Z&#x27;, &#x27;2019-12-16T09:36:00.0000000Z&#x27;, &#x27;2019-12-16T10:04:48.0000000Z&#x27;]</td>\n    </tr>\n    <tr>\n        <td>5</td>\n        <td>[0, 0, 0, 0, 0, 0, 0, 0, 0, 0, 0, 0, 0, 0, 0, 0, 0, 0, 0, 0, 85492, 271464, 0, 85994, 87342, 138860, 77180, 46294, 0, 0, 0, 0, 0, 0, 0, 0, 0, 0, 0, 0, 0, 0, 0, 0, 0, 0, 0, 0, 65854, 132722, 172780, 89144, 167380, 131457, 124142, 124044, 124141, 122279, 126495, 124533, 125906, 126197, 125126, 126299, 124231, 121012, 121887, 126200, 90409, 0, 0, 0, 0, 0, 0, 0, 0, 0, 0, 0, 0, 0, 0, 0, 0, 0, 0, 0, 0, 0, 0, 0, 0, 0, 0, 0, 0, 0, 0, 0, 0]</td>\n        <td>[&#x27;2019-12-14T10:04:48.0000000Z&#x27;, &#x27;2019-12-14T10:33:36.0000000Z&#x27;, &#x27;2019-12-14T11:02:24.0000000Z&#x27;, &#x27;2019-12-14T11:31:12.0000000Z&#x27;, &#x27;2019-12-14T12:00:00.0000000Z&#x27;, &#x27;2019-12-14T12:28:48.0000000Z&#x27;, &#x27;2019-12-14T12:57:36.0000000Z&#x27;, &#x27;2019-12-14T13:26:24.0000000Z&#x27;, &#x27;2019-12-14T13:55:12.0000000Z&#x27;, &#x27;2019-12-14T14:24:00.0000000Z&#x27;, &#x27;2019-12-14T14:52:48.0000000Z&#x27;, &#x27;2019-12-14T15:21:36.0000000Z&#x27;, &#x27;2019-12-14T15:50:24.0000000Z&#x27;, &#x27;2019-12-14T16:19:12.0000000Z&#x27;, &#x27;2019-12-14T16:48:00.0000000Z&#x27;, &#x27;2019-12-14T17:16:48.0000000Z&#x27;, &#x27;2019-12-14T17:45:36.0000000Z&#x27;, &#x27;2019-12-14T18:14:24.0000000Z&#x27;, &#x27;2019-12-14T18:43:12.0000000Z&#x27;, &#x27;2019-12-14T19:12:00.0000000Z&#x27;, &#x27;2019-12-14T19:40:48.0000000Z&#x27;, &#x27;2019-12-14T20:09:36.0000000Z&#x27;, &#x27;2019-12-14T20:38:24.0000000Z&#x27;, &#x27;2019-12-14T21:07:12.0000000Z&#x27;, &#x27;2019-12-14T21:36:00.0000000Z&#x27;, &#x27;2019-12-14T22:04:48.0000000Z&#x27;, &#x27;2019-12-14T22:33:36.0000000Z&#x27;, &#x27;2019-12-14T23:02:24.0000000Z&#x27;, &#x27;2019-12-14T23:31:12.0000000Z&#x27;, &#x27;2019-12-15T00:00:00.0000000Z&#x27;, &#x27;2019-12-15T00:28:48.0000000Z&#x27;, &#x27;2019-12-15T00:57:36.0000000Z&#x27;, &#x27;2019-12-15T01:26:24.0000000Z&#x27;, &#x27;2019-12-15T01:55:12.0000000Z&#x27;, &#x27;2019-12-15T02:24:00.0000000Z&#x27;, &#x27;2019-12-15T02:52:48.0000000Z&#x27;, &#x27;2019-12-15T03:21:36.0000000Z&#x27;, &#x27;2019-12-15T03:50:24.0000000Z&#x27;, &#x27;2019-12-15T04:19:12.0000000Z&#x27;, &#x27;2019-12-15T04:48:00.0000000Z&#x27;, &#x27;2019-12-15T05:16:48.0000000Z&#x27;, &#x27;2019-12-15T05:45:36.0000000Z&#x27;, &#x27;2019-12-15T06:14:24.0000000Z&#x27;, &#x27;2019-12-15T06:43:12.0000000Z&#x27;, &#x27;2019-12-15T07:12:00.0000000Z&#x27;, &#x27;2019-12-15T07:40:48.0000000Z&#x27;, &#x27;2019-12-15T08:09:36.0000000Z&#x27;, &#x27;2019-12-15T08:38:24.0000000Z&#x27;, &#x27;2019-12-15T09:07:12.0000000Z&#x27;, &#x27;2019-12-15T09:36:00.0000000Z&#x27;, &#x27;2019-12-15T10:04:48.0000000Z&#x27;, &#x27;2019-12-15T10:33:36.0000000Z&#x27;, &#x27;2019-12-15T11:02:24.0000000Z&#x27;, &#x27;2019-12-15T11:31:12.0000000Z&#x27;, &#x27;2019-12-15T12:00:00.0000000Z&#x27;, &#x27;2019-12-15T12:28:48.0000000Z&#x27;, &#x27;2019-12-15T12:57:36.0000000Z&#x27;, &#x27;2019-12-15T13:26:24.0000000Z&#x27;, &#x27;2019-12-15T13:55:12.0000000Z&#x27;, &#x27;2019-12-15T14:24:00.0000000Z&#x27;, &#x27;2019-12-15T14:52:48.0000000Z&#x27;, &#x27;2019-12-15T15:21:36.0000000Z&#x27;, &#x27;2019-12-15T15:50:24.0000000Z&#x27;, &#x27;2019-12-15T16:19:12.0000000Z&#x27;, &#x27;2019-12-15T16:48:00.0000000Z&#x27;, &#x27;2019-12-15T17:16:48.0000000Z&#x27;, &#x27;2019-12-15T17:45:36.0000000Z&#x27;, &#x27;2019-12-15T18:14:24.0000000Z&#x27;, &#x27;2019-12-15T18:43:12.0000000Z&#x27;, &#x27;2019-12-15T19:12:00.0000000Z&#x27;, &#x27;2019-12-15T19:40:48.0000000Z&#x27;, &#x27;2019-12-15T20:09:36.0000000Z&#x27;, &#x27;2019-12-15T20:38:24.0000000Z&#x27;, &#x27;2019-12-15T21:07:12.0000000Z&#x27;, &#x27;2019-12-15T21:36:00.0000000Z&#x27;, &#x27;2019-12-15T22:04:48.0000000Z&#x27;, &#x27;2019-12-15T22:33:36.0000000Z&#x27;, &#x27;2019-12-15T23:02:24.0000000Z&#x27;, &#x27;2019-12-15T23:31:12.0000000Z&#x27;, &#x27;2019-12-16T00:00:00.0000000Z&#x27;, &#x27;2019-12-16T00:28:48.0000000Z&#x27;, &#x27;2019-12-16T00:57:36.0000000Z&#x27;, &#x27;2019-12-16T01:26:24.0000000Z&#x27;, &#x27;2019-12-16T01:55:12.0000000Z&#x27;, &#x27;2019-12-16T02:24:00.0000000Z&#x27;, &#x27;2019-12-16T02:52:48.0000000Z&#x27;, &#x27;2019-12-16T03:21:36.0000000Z&#x27;, &#x27;2019-12-16T03:50:24.0000000Z&#x27;, &#x27;2019-12-16T04:19:12.0000000Z&#x27;, &#x27;2019-12-16T04:48:00.0000000Z&#x27;, &#x27;2019-12-16T05:16:48.0000000Z&#x27;, &#x27;2019-12-16T05:45:36.0000000Z&#x27;, &#x27;2019-12-16T06:14:24.0000000Z&#x27;, &#x27;2019-12-16T06:43:12.0000000Z&#x27;, &#x27;2019-12-16T07:12:00.0000000Z&#x27;, &#x27;2019-12-16T07:40:48.0000000Z&#x27;, &#x27;2019-12-16T08:09:36.0000000Z&#x27;, &#x27;2019-12-16T08:38:24.0000000Z&#x27;, &#x27;2019-12-16T09:07:12.0000000Z&#x27;, &#x27;2019-12-16T09:36:00.0000000Z&#x27;, &#x27;2019-12-16T10:04:48.0000000Z&#x27;]</td>\n    </tr>\n    <tr>\n        <td>6</td>\n        <td>[0, 0, 0, 0, 0, 0, 0, 0, 0, 0, 0, 0, 0, 0, 0, 0, 0, 0, 0, 0, 85492, 271463, 0, 85994, 87342, 138860, 77180, 46294, 0, 0, 0, 0, 0, 0, 0, 0, 0, 0, 0, 0, 0, 0, 0, 0, 0, 0, 0, 0, 65854, 132722, 172780, 89144, 167380, 131457, 124142, 124043, 124142, 122279, 126495, 124533, 125906, 126197, 125126, 126299, 124231, 121012, 121887, 126200, 90409, 0, 0, 0, 0, 0, 0, 0, 0, 0, 0, 0, 0, 0, 0, 0, 0, 0, 0, 0, 0, 0, 0, 0, 0, 0, 0, 0, 0, 0, 0, 0, 0]</td>\n        <td>[&#x27;2019-12-14T10:04:48.0000000Z&#x27;, &#x27;2019-12-14T10:33:36.0000000Z&#x27;, &#x27;2019-12-14T11:02:24.0000000Z&#x27;, &#x27;2019-12-14T11:31:12.0000000Z&#x27;, &#x27;2019-12-14T12:00:00.0000000Z&#x27;, &#x27;2019-12-14T12:28:48.0000000Z&#x27;, &#x27;2019-12-14T12:57:36.0000000Z&#x27;, &#x27;2019-12-14T13:26:24.0000000Z&#x27;, &#x27;2019-12-14T13:55:12.0000000Z&#x27;, &#x27;2019-12-14T14:24:00.0000000Z&#x27;, &#x27;2019-12-14T14:52:48.0000000Z&#x27;, &#x27;2019-12-14T15:21:36.0000000Z&#x27;, &#x27;2019-12-14T15:50:24.0000000Z&#x27;, &#x27;2019-12-14T16:19:12.0000000Z&#x27;, &#x27;2019-12-14T16:48:00.0000000Z&#x27;, &#x27;2019-12-14T17:16:48.0000000Z&#x27;, &#x27;2019-12-14T17:45:36.0000000Z&#x27;, &#x27;2019-12-14T18:14:24.0000000Z&#x27;, &#x27;2019-12-14T18:43:12.0000000Z&#x27;, &#x27;2019-12-14T19:12:00.0000000Z&#x27;, &#x27;2019-12-14T19:40:48.0000000Z&#x27;, &#x27;2019-12-14T20:09:36.0000000Z&#x27;, &#x27;2019-12-14T20:38:24.0000000Z&#x27;, &#x27;2019-12-14T21:07:12.0000000Z&#x27;, &#x27;2019-12-14T21:36:00.0000000Z&#x27;, &#x27;2019-12-14T22:04:48.0000000Z&#x27;, &#x27;2019-12-14T22:33:36.0000000Z&#x27;, &#x27;2019-12-14T23:02:24.0000000Z&#x27;, &#x27;2019-12-14T23:31:12.0000000Z&#x27;, &#x27;2019-12-15T00:00:00.0000000Z&#x27;, &#x27;2019-12-15T00:28:48.0000000Z&#x27;, &#x27;2019-12-15T00:57:36.0000000Z&#x27;, &#x27;2019-12-15T01:26:24.0000000Z&#x27;, &#x27;2019-12-15T01:55:12.0000000Z&#x27;, &#x27;2019-12-15T02:24:00.0000000Z&#x27;, &#x27;2019-12-15T02:52:48.0000000Z&#x27;, &#x27;2019-12-15T03:21:36.0000000Z&#x27;, &#x27;2019-12-15T03:50:24.0000000Z&#x27;, &#x27;2019-12-15T04:19:12.0000000Z&#x27;, &#x27;2019-12-15T04:48:00.0000000Z&#x27;, &#x27;2019-12-15T05:16:48.0000000Z&#x27;, &#x27;2019-12-15T05:45:36.0000000Z&#x27;, &#x27;2019-12-15T06:14:24.0000000Z&#x27;, &#x27;2019-12-15T06:43:12.0000000Z&#x27;, &#x27;2019-12-15T07:12:00.0000000Z&#x27;, &#x27;2019-12-15T07:40:48.0000000Z&#x27;, &#x27;2019-12-15T08:09:36.0000000Z&#x27;, &#x27;2019-12-15T08:38:24.0000000Z&#x27;, &#x27;2019-12-15T09:07:12.0000000Z&#x27;, &#x27;2019-12-15T09:36:00.0000000Z&#x27;, &#x27;2019-12-15T10:04:48.0000000Z&#x27;, &#x27;2019-12-15T10:33:36.0000000Z&#x27;, &#x27;2019-12-15T11:02:24.0000000Z&#x27;, &#x27;2019-12-15T11:31:12.0000000Z&#x27;, &#x27;2019-12-15T12:00:00.0000000Z&#x27;, &#x27;2019-12-15T12:28:48.0000000Z&#x27;, &#x27;2019-12-15T12:57:36.0000000Z&#x27;, &#x27;2019-12-15T13:26:24.0000000Z&#x27;, &#x27;2019-12-15T13:55:12.0000000Z&#x27;, &#x27;2019-12-15T14:24:00.0000000Z&#x27;, &#x27;2019-12-15T14:52:48.0000000Z&#x27;, &#x27;2019-12-15T15:21:36.0000000Z&#x27;, &#x27;2019-12-15T15:50:24.0000000Z&#x27;, &#x27;2019-12-15T16:19:12.0000000Z&#x27;, &#x27;2019-12-15T16:48:00.0000000Z&#x27;, &#x27;2019-12-15T17:16:48.0000000Z&#x27;, &#x27;2019-12-15T17:45:36.0000000Z&#x27;, &#x27;2019-12-15T18:14:24.0000000Z&#x27;, &#x27;2019-12-15T18:43:12.0000000Z&#x27;, &#x27;2019-12-15T19:12:00.0000000Z&#x27;, &#x27;2019-12-15T19:40:48.0000000Z&#x27;, &#x27;2019-12-15T20:09:36.0000000Z&#x27;, &#x27;2019-12-15T20:38:24.0000000Z&#x27;, &#x27;2019-12-15T21:07:12.0000000Z&#x27;, &#x27;2019-12-15T21:36:00.0000000Z&#x27;, &#x27;2019-12-15T22:04:48.0000000Z&#x27;, &#x27;2019-12-15T22:33:36.0000000Z&#x27;, &#x27;2019-12-15T23:02:24.0000000Z&#x27;, &#x27;2019-12-15T23:31:12.0000000Z&#x27;, &#x27;2019-12-16T00:00:00.0000000Z&#x27;, &#x27;2019-12-16T00:28:48.0000000Z&#x27;, &#x27;2019-12-16T00:57:36.0000000Z&#x27;, &#x27;2019-12-16T01:26:24.0000000Z&#x27;, &#x27;2019-12-16T01:55:12.0000000Z&#x27;, &#x27;2019-12-16T02:24:00.0000000Z&#x27;, &#x27;2019-12-16T02:52:48.0000000Z&#x27;, &#x27;2019-12-16T03:21:36.0000000Z&#x27;, &#x27;2019-12-16T03:50:24.0000000Z&#x27;, &#x27;2019-12-16T04:19:12.0000000Z&#x27;, &#x27;2019-12-16T04:48:00.0000000Z&#x27;, &#x27;2019-12-16T05:16:48.0000000Z&#x27;, &#x27;2019-12-16T05:45:36.0000000Z&#x27;, &#x27;2019-12-16T06:14:24.0000000Z&#x27;, &#x27;2019-12-16T06:43:12.0000000Z&#x27;, &#x27;2019-12-16T07:12:00.0000000Z&#x27;, &#x27;2019-12-16T07:40:48.0000000Z&#x27;, &#x27;2019-12-16T08:09:36.0000000Z&#x27;, &#x27;2019-12-16T08:38:24.0000000Z&#x27;, &#x27;2019-12-16T09:07:12.0000000Z&#x27;, &#x27;2019-12-16T09:36:00.0000000Z&#x27;, &#x27;2019-12-16T10:04:48.0000000Z&#x27;]</td>\n    </tr>\n    <tr>\n        <td>7</td>\n        <td>[0, 0, 0, 0, 0, 0, 0, 0, 0, 0, 0, 0, 0, 0, 0, 0, 0, 0, 0, 0, 85492, 271463, 0, 85994, 87342, 138860, 77178, 46294, 0, 0, 0, 0, 0, 0, 0, 0, 0, 0, 0, 0, 0, 0, 0, 0, 0, 0, 0, 0, 65855, 132724, 172780, 89146, 167380, 131457, 124142, 124043, 124142, 122279, 126495, 124533, 125906, 126197, 125126, 126298, 124232, 121012, 121887, 126200, 90409, 0, 0, 0, 0, 0, 0, 0, 0, 0, 0, 0, 0, 0, 0, 0, 0, 0, 0, 0, 0, 0, 0, 0, 0, 0, 0, 0, 0, 0, 0, 0, 0]</td>\n        <td>[&#x27;2019-12-14T10:04:48.0000000Z&#x27;, &#x27;2019-12-14T10:33:36.0000000Z&#x27;, &#x27;2019-12-14T11:02:24.0000000Z&#x27;, &#x27;2019-12-14T11:31:12.0000000Z&#x27;, &#x27;2019-12-14T12:00:00.0000000Z&#x27;, &#x27;2019-12-14T12:28:48.0000000Z&#x27;, &#x27;2019-12-14T12:57:36.0000000Z&#x27;, &#x27;2019-12-14T13:26:24.0000000Z&#x27;, &#x27;2019-12-14T13:55:12.0000000Z&#x27;, &#x27;2019-12-14T14:24:00.0000000Z&#x27;, &#x27;2019-12-14T14:52:48.0000000Z&#x27;, &#x27;2019-12-14T15:21:36.0000000Z&#x27;, &#x27;2019-12-14T15:50:24.0000000Z&#x27;, &#x27;2019-12-14T16:19:12.0000000Z&#x27;, &#x27;2019-12-14T16:48:00.0000000Z&#x27;, &#x27;2019-12-14T17:16:48.0000000Z&#x27;, &#x27;2019-12-14T17:45:36.0000000Z&#x27;, &#x27;2019-12-14T18:14:24.0000000Z&#x27;, &#x27;2019-12-14T18:43:12.0000000Z&#x27;, &#x27;2019-12-14T19:12:00.0000000Z&#x27;, &#x27;2019-12-14T19:40:48.0000000Z&#x27;, &#x27;2019-12-14T20:09:36.0000000Z&#x27;, &#x27;2019-12-14T20:38:24.0000000Z&#x27;, &#x27;2019-12-14T21:07:12.0000000Z&#x27;, &#x27;2019-12-14T21:36:00.0000000Z&#x27;, &#x27;2019-12-14T22:04:48.0000000Z&#x27;, &#x27;2019-12-14T22:33:36.0000000Z&#x27;, &#x27;2019-12-14T23:02:24.0000000Z&#x27;, &#x27;2019-12-14T23:31:12.0000000Z&#x27;, &#x27;2019-12-15T00:00:00.0000000Z&#x27;, &#x27;2019-12-15T00:28:48.0000000Z&#x27;, &#x27;2019-12-15T00:57:36.0000000Z&#x27;, &#x27;2019-12-15T01:26:24.0000000Z&#x27;, &#x27;2019-12-15T01:55:12.0000000Z&#x27;, &#x27;2019-12-15T02:24:00.0000000Z&#x27;, &#x27;2019-12-15T02:52:48.0000000Z&#x27;, &#x27;2019-12-15T03:21:36.0000000Z&#x27;, &#x27;2019-12-15T03:50:24.0000000Z&#x27;, &#x27;2019-12-15T04:19:12.0000000Z&#x27;, &#x27;2019-12-15T04:48:00.0000000Z&#x27;, &#x27;2019-12-15T05:16:48.0000000Z&#x27;, &#x27;2019-12-15T05:45:36.0000000Z&#x27;, &#x27;2019-12-15T06:14:24.0000000Z&#x27;, &#x27;2019-12-15T06:43:12.0000000Z&#x27;, &#x27;2019-12-15T07:12:00.0000000Z&#x27;, &#x27;2019-12-15T07:40:48.0000000Z&#x27;, &#x27;2019-12-15T08:09:36.0000000Z&#x27;, &#x27;2019-12-15T08:38:24.0000000Z&#x27;, &#x27;2019-12-15T09:07:12.0000000Z&#x27;, &#x27;2019-12-15T09:36:00.0000000Z&#x27;, &#x27;2019-12-15T10:04:48.0000000Z&#x27;, &#x27;2019-12-15T10:33:36.0000000Z&#x27;, &#x27;2019-12-15T11:02:24.0000000Z&#x27;, &#x27;2019-12-15T11:31:12.0000000Z&#x27;, &#x27;2019-12-15T12:00:00.0000000Z&#x27;, &#x27;2019-12-15T12:28:48.0000000Z&#x27;, &#x27;2019-12-15T12:57:36.0000000Z&#x27;, &#x27;2019-12-15T13:26:24.0000000Z&#x27;, &#x27;2019-12-15T13:55:12.0000000Z&#x27;, &#x27;2019-12-15T14:24:00.0000000Z&#x27;, &#x27;2019-12-15T14:52:48.0000000Z&#x27;, &#x27;2019-12-15T15:21:36.0000000Z&#x27;, &#x27;2019-12-15T15:50:24.0000000Z&#x27;, &#x27;2019-12-15T16:19:12.0000000Z&#x27;, &#x27;2019-12-15T16:48:00.0000000Z&#x27;, &#x27;2019-12-15T17:16:48.0000000Z&#x27;, &#x27;2019-12-15T17:45:36.0000000Z&#x27;, &#x27;2019-12-15T18:14:24.0000000Z&#x27;, &#x27;2019-12-15T18:43:12.0000000Z&#x27;, &#x27;2019-12-15T19:12:00.0000000Z&#x27;, &#x27;2019-12-15T19:40:48.0000000Z&#x27;, &#x27;2019-12-15T20:09:36.0000000Z&#x27;, &#x27;2019-12-15T20:38:24.0000000Z&#x27;, &#x27;2019-12-15T21:07:12.0000000Z&#x27;, &#x27;2019-12-15T21:36:00.0000000Z&#x27;, &#x27;2019-12-15T22:04:48.0000000Z&#x27;, &#x27;2019-12-15T22:33:36.0000000Z&#x27;, &#x27;2019-12-15T23:02:24.0000000Z&#x27;, &#x27;2019-12-15T23:31:12.0000000Z&#x27;, &#x27;2019-12-16T00:00:00.0000000Z&#x27;, &#x27;2019-12-16T00:28:48.0000000Z&#x27;, &#x27;2019-12-16T00:57:36.0000000Z&#x27;, &#x27;2019-12-16T01:26:24.0000000Z&#x27;, &#x27;2019-12-16T01:55:12.0000000Z&#x27;, &#x27;2019-12-16T02:24:00.0000000Z&#x27;, &#x27;2019-12-16T02:52:48.0000000Z&#x27;, &#x27;2019-12-16T03:21:36.0000000Z&#x27;, &#x27;2019-12-16T03:50:24.0000000Z&#x27;, &#x27;2019-12-16T04:19:12.0000000Z&#x27;, &#x27;2019-12-16T04:48:00.0000000Z&#x27;, &#x27;2019-12-16T05:16:48.0000000Z&#x27;, &#x27;2019-12-16T05:45:36.0000000Z&#x27;, &#x27;2019-12-16T06:14:24.0000000Z&#x27;, &#x27;2019-12-16T06:43:12.0000000Z&#x27;, &#x27;2019-12-16T07:12:00.0000000Z&#x27;, &#x27;2019-12-16T07:40:48.0000000Z&#x27;, &#x27;2019-12-16T08:09:36.0000000Z&#x27;, &#x27;2019-12-16T08:38:24.0000000Z&#x27;, &#x27;2019-12-16T09:07:12.0000000Z&#x27;, &#x27;2019-12-16T09:36:00.0000000Z&#x27;, &#x27;2019-12-16T10:04:48.0000000Z&#x27;]</td>\n    </tr>\n    <tr>\n        <td>8</td>\n        <td>[0, 0, 0, 0, 0, 0, 0, 0, 0, 0, 0, 0, 0, 0, 0, 0, 0, 0, 0, 0, 85491, 271464, 0, 85994, 87342, 138860, 77178, 46294, 0, 0, 0, 0, 0, 0, 0, 0, 0, 0, 0, 0, 0, 0, 0, 0, 0, 0, 0, 0, 65854, 132724, 172780, 89146, 167380, 131457, 124142, 124043, 124142, 122279, 126495, 124533, 125906, 126197, 125126, 126298, 124232, 121012, 121887, 126200, 90409, 0, 0, 0, 0, 0, 0, 0, 0, 0, 0, 0, 0, 0, 0, 0, 0, 0, 0, 0, 0, 0, 0, 0, 0, 0, 0, 0, 0, 0, 0, 0, 0]</td>\n        <td>[&#x27;2019-12-14T10:04:48.0000000Z&#x27;, &#x27;2019-12-14T10:33:36.0000000Z&#x27;, &#x27;2019-12-14T11:02:24.0000000Z&#x27;, &#x27;2019-12-14T11:31:12.0000000Z&#x27;, &#x27;2019-12-14T12:00:00.0000000Z&#x27;, &#x27;2019-12-14T12:28:48.0000000Z&#x27;, &#x27;2019-12-14T12:57:36.0000000Z&#x27;, &#x27;2019-12-14T13:26:24.0000000Z&#x27;, &#x27;2019-12-14T13:55:12.0000000Z&#x27;, &#x27;2019-12-14T14:24:00.0000000Z&#x27;, &#x27;2019-12-14T14:52:48.0000000Z&#x27;, &#x27;2019-12-14T15:21:36.0000000Z&#x27;, &#x27;2019-12-14T15:50:24.0000000Z&#x27;, &#x27;2019-12-14T16:19:12.0000000Z&#x27;, &#x27;2019-12-14T16:48:00.0000000Z&#x27;, &#x27;2019-12-14T17:16:48.0000000Z&#x27;, &#x27;2019-12-14T17:45:36.0000000Z&#x27;, &#x27;2019-12-14T18:14:24.0000000Z&#x27;, &#x27;2019-12-14T18:43:12.0000000Z&#x27;, &#x27;2019-12-14T19:12:00.0000000Z&#x27;, &#x27;2019-12-14T19:40:48.0000000Z&#x27;, &#x27;2019-12-14T20:09:36.0000000Z&#x27;, &#x27;2019-12-14T20:38:24.0000000Z&#x27;, &#x27;2019-12-14T21:07:12.0000000Z&#x27;, &#x27;2019-12-14T21:36:00.0000000Z&#x27;, &#x27;2019-12-14T22:04:48.0000000Z&#x27;, &#x27;2019-12-14T22:33:36.0000000Z&#x27;, &#x27;2019-12-14T23:02:24.0000000Z&#x27;, &#x27;2019-12-14T23:31:12.0000000Z&#x27;, &#x27;2019-12-15T00:00:00.0000000Z&#x27;, &#x27;2019-12-15T00:28:48.0000000Z&#x27;, &#x27;2019-12-15T00:57:36.0000000Z&#x27;, &#x27;2019-12-15T01:26:24.0000000Z&#x27;, &#x27;2019-12-15T01:55:12.0000000Z&#x27;, &#x27;2019-12-15T02:24:00.0000000Z&#x27;, &#x27;2019-12-15T02:52:48.0000000Z&#x27;, &#x27;2019-12-15T03:21:36.0000000Z&#x27;, &#x27;2019-12-15T03:50:24.0000000Z&#x27;, &#x27;2019-12-15T04:19:12.0000000Z&#x27;, &#x27;2019-12-15T04:48:00.0000000Z&#x27;, &#x27;2019-12-15T05:16:48.0000000Z&#x27;, &#x27;2019-12-15T05:45:36.0000000Z&#x27;, &#x27;2019-12-15T06:14:24.0000000Z&#x27;, &#x27;2019-12-15T06:43:12.0000000Z&#x27;, &#x27;2019-12-15T07:12:00.0000000Z&#x27;, &#x27;2019-12-15T07:40:48.0000000Z&#x27;, &#x27;2019-12-15T08:09:36.0000000Z&#x27;, &#x27;2019-12-15T08:38:24.0000000Z&#x27;, &#x27;2019-12-15T09:07:12.0000000Z&#x27;, &#x27;2019-12-15T09:36:00.0000000Z&#x27;, &#x27;2019-12-15T10:04:48.0000000Z&#x27;, &#x27;2019-12-15T10:33:36.0000000Z&#x27;, &#x27;2019-12-15T11:02:24.0000000Z&#x27;, &#x27;2019-12-15T11:31:12.0000000Z&#x27;, &#x27;2019-12-15T12:00:00.0000000Z&#x27;, &#x27;2019-12-15T12:28:48.0000000Z&#x27;, &#x27;2019-12-15T12:57:36.0000000Z&#x27;, &#x27;2019-12-15T13:26:24.0000000Z&#x27;, &#x27;2019-12-15T13:55:12.0000000Z&#x27;, &#x27;2019-12-15T14:24:00.0000000Z&#x27;, &#x27;2019-12-15T14:52:48.0000000Z&#x27;, &#x27;2019-12-15T15:21:36.0000000Z&#x27;, &#x27;2019-12-15T15:50:24.0000000Z&#x27;, &#x27;2019-12-15T16:19:12.0000000Z&#x27;, &#x27;2019-12-15T16:48:00.0000000Z&#x27;, &#x27;2019-12-15T17:16:48.0000000Z&#x27;, &#x27;2019-12-15T17:45:36.0000000Z&#x27;, &#x27;2019-12-15T18:14:24.0000000Z&#x27;, &#x27;2019-12-15T18:43:12.0000000Z&#x27;, &#x27;2019-12-15T19:12:00.0000000Z&#x27;, &#x27;2019-12-15T19:40:48.0000000Z&#x27;, &#x27;2019-12-15T20:09:36.0000000Z&#x27;, &#x27;2019-12-15T20:38:24.0000000Z&#x27;, &#x27;2019-12-15T21:07:12.0000000Z&#x27;, &#x27;2019-12-15T21:36:00.0000000Z&#x27;, &#x27;2019-12-15T22:04:48.0000000Z&#x27;, &#x27;2019-12-15T22:33:36.0000000Z&#x27;, &#x27;2019-12-15T23:02:24.0000000Z&#x27;, &#x27;2019-12-15T23:31:12.0000000Z&#x27;, &#x27;2019-12-16T00:00:00.0000000Z&#x27;, &#x27;2019-12-16T00:28:48.0000000Z&#x27;, &#x27;2019-12-16T00:57:36.0000000Z&#x27;, &#x27;2019-12-16T01:26:24.0000000Z&#x27;, &#x27;2019-12-16T01:55:12.0000000Z&#x27;, &#x27;2019-12-16T02:24:00.0000000Z&#x27;, &#x27;2019-12-16T02:52:48.0000000Z&#x27;, &#x27;2019-12-16T03:21:36.0000000Z&#x27;, &#x27;2019-12-16T03:50:24.0000000Z&#x27;, &#x27;2019-12-16T04:19:12.0000000Z&#x27;, &#x27;2019-12-16T04:48:00.0000000Z&#x27;, &#x27;2019-12-16T05:16:48.0000000Z&#x27;, &#x27;2019-12-16T05:45:36.0000000Z&#x27;, &#x27;2019-12-16T06:14:24.0000000Z&#x27;, &#x27;2019-12-16T06:43:12.0000000Z&#x27;, &#x27;2019-12-16T07:12:00.0000000Z&#x27;, &#x27;2019-12-16T07:40:48.0000000Z&#x27;, &#x27;2019-12-16T08:09:36.0000000Z&#x27;, &#x27;2019-12-16T08:38:24.0000000Z&#x27;, &#x27;2019-12-16T09:07:12.0000000Z&#x27;, &#x27;2019-12-16T09:36:00.0000000Z&#x27;, &#x27;2019-12-16T10:04:48.0000000Z&#x27;]</td>\n    </tr>\n</table>\n        </body>\n        </html>",
      "text/plain": "<IPython.core.display.HTML object>"
     },
     "metadata": {},
     "output_type": "display_data"
    },
    {
     "data": {
      "text/html": "<html>\n        <head>\n        \n        </head>\n        <body>\n        <div><p style='padding: 10px; color: #3a87ad; background-color: #d9edf7; border-color: #bce9f1'>Done&nbsp;(00:46.749):&nbsp;15&nbsp;records</p></div>\n        </body>\n        </html>",
      "text/plain": "<IPython.core.display.HTML object>"
     },
     "metadata": {},
     "output_type": "display_data"
    },
    {
     "data": {
      "text/html": "",
      "text/plain": "000Z', '2019-12-15T12:28:48.0000000Z', '2019-12-15T12:57:36.0000000Z', '2019-12-15T13:26:24.0000000Z', '2019-12-15T13:55:12.0000000Z', '2019-12-15T14:24:00.0000000Z', '2019-12-15T14:52:48.0000000Z', '2019-12-15T15:21:36.0000000Z', '2019-12-15T15:50:24.0000000Z', '2019-12-15T16:19:12.0000000Z', '2019-12-15T16:48:00.0000000Z', '2019-12-15T17:16:48.0000000Z', '2019-12-15T17:45:36.0000000Z', '2019-12-15T18:14:24.0000000Z', '2019-12-15T18:43:12.0000000Z', '2019-12-15T19:12:00.0000000Z', '2019-12-15T19:40:48.0000000Z', '2019-12-15T20:09:36.0000000Z', '2019-12-15T20:38:24.0000000Z', '2019-12-15T21:07:12.0000000Z', '2019-12-15T21:36:00.0000000Z', '2019-12-15T22:04:48.0000000Z', '2019-12-15T22:33:36.0000000Z', '2019-12-15T23:02:24.0000000Z', '2019-12-15T23:31:12.0000000Z', '2019-12-16T00:00:00.0000000Z', '2019-12-16T00:28:48.0000000Z', '2019-12-16T00:57:36.0000000Z', '2019-12-16T01:26:24.0000000Z', '2019-12-16T01:55:12.0000000Z', '2019-12-16T02:24:00.0000000Z', '2019-12-16T02:52:48.0000000Z', '2019-12-16T03:21:36.0000000Z', '2019-12-16T03:50:24.0000000Z', '2019-12-16T04:19:12.0000000Z', '2019-12-16T04:48:00.0000000Z', '2019-12-16T05:16:48.0000000Z', '2019-12-16T05:45:36.0000000Z', '2019-12-16T06:14:24.0000000Z', '2019-12-16T06:43:12.0000000Z', '2019-12-16T07:12:00.0000000Z', '2019-12-16T07:40:48.0000000Z', '2019-12-16T08:09:36.0000000Z', '2019-12-16T08:38:24.0000000Z', '2019-12-16T09:07:12.0000000Z', '2019-12-16T09:36:00.0000000Z', '2019-12-16T10:04:48.0000000Z']},\n {'id': '4', 'ct': [0, 0, 0, 0, 0, 0, 0, 0, 0, 0, 0, 0, 0, 0, 0, 0, 0, 0, 0, 0, 85492, 271461, 0, 85994, 87342, 138860, 77180, 46294, 0, 0, 0, 0, 0, 0, 0, 0, 0, 0, 0, 0, 0, 0, 0, 0, 0, 0, 0, 0, 65854, 132722, 172780, 89144, 167380, 131458, 124142, 124044, 124141, 122279, 126495, 124533, 125906, 126197, 125126, 126299, 124231, 121012, 121887, 126200, 90409, 0, 0, 0, 0, 0, 0, 0, 0, 0, 0, 0, 0, 0, 0, 0, 0, 0, 0, 0, 0, 0, 0, 0, 0, 0, 0, 0, 0, 0, 0, 0, 0], 'timeStamp': ['2019-12-14T10:04:48.0000000Z', '2019-12-14T10:33:36.0000000Z', '2019-12-14T11:02:24.0000000Z', '2019-12-14T11:31:12.0000000Z', '2019-12-14T12:00:00.0000000Z', '2019-12-14T12:28:48.0000000Z', '2019-12-14T12:57:36.0000000Z', '2019-12-14T13:26:24.0000000Z', '2019-12-14T13:55:12.0000000Z', '2019-12-14T14:24:00.0000000Z', '2019-12-14T14:52:48.0000000Z', '2019-12-14T15:21:36.0000000Z', '2019-12-14T15:50:24.0000000Z', '2019-12-14T16:19:12.0000000Z', '2019-12-14T16:48:00.0000000Z', '2019-12-14T17:16:48.0000000Z', '2019-12-14T17:45:36.0000000Z', '2019-12-14T18:14:24.0000000Z', '2019-12-14T18:43:12.0000000Z', '2019-12-14T19:12:00.0000000Z', '2019-12-14T19:40:48.0000000Z', '2019-12-14T20:09:36.0000000Z', '2019-12-14T20:38:24.0000000Z', '2019-12-14T21:07:12.0000000Z', '2019-12-14T21:36:00.0000000Z', '2019-12-14T22:04:48.0000000Z', '2019-12-14T22:33:36.0000000Z', '2019-12-14T23:02:24.0000000Z', '2019-12-14T23:31:12.0000000Z', '2019-12-15T00:00:00.0000000Z', '2019-12-15T00:28:48.0000000Z', '2019-12-15T00:57:36.0000000Z', '2019-12-15T01:26:24.0000000Z', '2019-12-15T01:55:12.0000000Z', '2019-12-15T02:24:00.0000000Z', '2019-12-15T02:52:48.0000000Z', '2019-12-15T03:21:36.0000000Z', '2019-12-15T03:50:24.0000000Z', '2019-12-15T04:19:12.0000000Z', '2019-12-15T04:48:00.0000000Z', '2019-12-15T05:16:48.0000000Z', '2019-12-15T05:45:36.0000000Z', '2019-12-15T06:14:24.0000000Z', '2019-12-15T06:43:12.0000000Z', '2019-12-15T07:12:00.0000000Z', '2019-12-15T07:40:48.0000000Z', '2019-12-15T08:09:36.0000000Z', '2019-12-15T08:38:24.0000000Z', '2019-12-15T09:07:12.0000000Z', '2019-12-15T09:36:00.0000000Z', '2019-12-15T10:04:48.0000000Z', '2019-12-15T10:33:36.0000000Z', '2019-12-15T11:02:24.0000000Z', '2019-12-15T11:31:12.0000000Z', '2019-12-15T12:00:00.0000000Z', '2019-12-15T12:28:48.0000000Z', '2019-12-15T12:57:36.0000000Z', '2019-12-15T13:26:24.0000000Z', '2019-12-15T13:55:12.0000000Z', '2019-12-15T14:24:00.0000000Z', '2019-12-15T14:52:48.0000000Z', '2019-12-15T15:21:36.0000000Z', '2019-12-15T15:50:24.0000000Z', '2019-12-15T16:19:12.0000000Z', '2019-12-15T16:48:00.0000000Z', '2019-12-15T17:16:48.0000000Z', '2019-12-15T17:45:36.0000000Z', '2019-12-15T18:14:24.0000000Z', '2019-12-15T18:43:12.0000000Z', '2019-12-15T19:12:00.0000000Z', '2019-12-15T19:40:48.0000000Z', '2019-12-15T20:09:36.0000000Z', '2019-12-15T20:38:24.0000000Z', '2019-12-15T21:07:12.0000000Z', '2019-12-15T21:36:00.0000000Z', '2019-12-15T22:04:48.0000000Z', '2019-12-15T22:33:36.0000000Z', '2019-12-15T23:02:24.0000000Z', '2019-12-15T23:31:12.0000000Z', '2019-12-16T00:00:00.0000000Z', '2019-12-16T00:28:48.0000000Z', '2019-12-16T00:57:36.0000000Z', '2019-12-16T01:26:24.0000000Z', '2019-12-16T01:55:12.0000000Z', '2019-12-16T02:24:00.0000000Z', '2019-12-16T02:52:48.0000000Z', '2019-12-16T03:21:36.0000000Z', '2019-12-16T03:50:24.0000000Z', '2019-12-16T04:19:12.0000000Z', '2019-12-16T04:48:00.0000000Z', '2019-12-16T05:16:48.0000000Z', '2019-12-16T05:45:36.0000000Z', '2019-12-16T06:14:24.0000000Z', '2019-12-16T06:43:12.0000000Z', '2019-12-16T07:12:00.0000000Z', '2019-12-16T07:40:48.0000000Z', '2019-12-16T08:09:36.0000000Z', '2019-12-16T08:38:24.0000000Z', '2019-12-16T09:07:12.0000000Z', '2019-12-16T09:36:00.0000000Z', '2019-12-16T10:04:48.0000000Z']},\n {'id': '5', 'ct': [0, 0, 0, 0, 0, 0, 0, 0, 0, 0, 0, 0, 0, 0, 0, 0, 0, 0, 0, 0, 85492, 271464, 0, 85994, 87342, 138860, 77180, 46294, 0, 0, 0, 0, 0, 0, 0, 0, 0, 0, 0, 0, 0, 0, 0, 0, 0, 0, 0, 0, 65854, 132722, 172780, 89144, 167380, 131457, 124142, 124044, 124141, 122279, 126495, 124533, 125906, 126197, 125126, 126299, 124231, 121012, 121887, 126200, 90409, 0, 0, 0, 0, 0, 0, 0, 0, 0, 0, 0, 0, 0, 0, 0, 0, 0, 0, 0, 0, 0, 0, 0, 0, 0, 0, 0, 0, 0, 0, 0, 0], 'timeStamp': ['2019-12-14T10:04:48.0000000Z', '2019-12-14T10:33:36.0000000Z', '2019-12-14T11:02:24.0000000Z', '2019-12-14T11:31:12.0000000Z', '2019-12-14T12:00:00.0000000Z', '2019-12-14T12:28:48.0000000Z', '2019-12-14T12:57:36.0000000Z', '2019-12-14T13:26:24.0000000Z', '2019-12-14T13:55:12.0000000Z', '2019-12-14T14:24:00.0000000Z', '2019-12-14T14:52:48.0000000Z', '2019-12-14T15:21:36.0000000Z', '2019-12-14T15:50:24.0000000Z', '2019-12-14T16:19:12.0000000Z', '2019-12-14T16:48:00.0000000Z', '2019-12-14T17:16:48.0000000Z', '2019-12-14T17:45:36.0000000Z', '2019-12-14T18:14:24.0000000Z', '2019-12-14T18:43:12.0000000Z', '2019-12-14T19:12:00.0000000Z', '2019-12-14T19:40:48.0000000Z', '2019-12-14T20:09:36.0000000Z', '2019-12-14T20:38:24.0000000Z', '2019-12-14T21:07:12.0000000Z', '2019-12-14T21:36:00.0000000Z', '2019-12-14T22:04:48.0000000Z', '2019-12-14T22:33:36.0000000Z', '2019-12-14T23:02:24.0000000Z', '2019-12-14T23:31:12.0000000Z', '2019-12-15T00:00:00.0000000Z', '2019-12-15T00:28:48.0000000Z', '2019-12-15T00:57:36.0000000Z', '2019-12-15T01:26:24.0000000Z', '2019-12-15T01:55:12.0000000Z', '2019-12-15T02:24:00.0000000Z', '2019-12-15T02:52:48.0000000Z', '2019-12-15T03:21:36.0000000Z', '2019-12-15T03:50:24.0000000Z', '2019-12-15T04:19:12.0000000Z', '2019-12-15T04:48:00.0000000Z', '2019-12-15T05:16:48.0000000Z', '2019-12-15T05:45:36.0000000Z', '2019-12-15T06:14:24.0000000Z', '2019-12-15T06:43:12.0000000Z', '2019-12-15T07:12:00.0000000Z', '2019-12-15T07:40:48.0000000Z', '2019-12-15T08:09:36.0000000Z', '2019-12-15T08:38:24.0000000Z', '2019-12-15T09:07:12.0000000Z', '2019-12-15T09:36:00.0000000Z', '2019-12-15T10:04:48.0000000Z', '2019-12-15T10:33:36.0000000Z', '2019-12-15T11:02:24.0000000Z', '2019-12-15T11:31:12.0000000Z', '2019-12-15T12:00:00.0000000Z', '2019-12-15T12:28:48.0000000Z', '2019-12-15T12:57:36.0000000Z', '2019-12-15T13:26:24.0000000Z', '2019-12-15T13:55:12.0000000Z', '2019-12-15T14:24:00.0000000Z', '2019-12-15T14:52:48.0000000Z', '2019-12-15T15:21:36.0000000Z', '2019-12-15T15:50:24.0000000Z', '2019-12-15T16:19:12.0000000Z', '2019-12-15T16:48:00.0000000Z', '2019-12-15T17:16:48.0000000Z', '2019-12-15T17:45:36.0000000Z', '2019-12-15T18:14:24.0000000Z', '2019-12-15T18:43:12.0000000Z', '2019-12-15T19:12:00.0000000Z', '2019-12-15T19:40:48.0000000Z', '2019-12-15T20:09:36.0000000Z', '2019-12-15T20:38:24.0000000Z', '2019-12-15T21:07:12.0000000Z', '2019-12-15T21:36:00.0000000Z', '2019-12-15T22:04:48.0000000Z', '2019-12-15T22:33:36.0000000Z', '2019-12-15T23:02:24.0000000Z', '2019-12-15T23:31:12.0000000Z', '2019-12-16T00:00:00.0000000Z', '2019-12-16T00:28:48.0000000Z', '2019-12-16T00:57:36.0000000Z', '2019-12-16T01:26:24.0000000Z', '2019-12-16T01:55:12.0000000Z', '2019-12-16T02:24:00.0000000Z', '2019-12-16T02:52:48.0000000Z', '2019-12-16T03:21:36.0000000Z', '2019-12-16T03:50:24.0000000Z', '2019-12-16T04:19:12.0000000Z', '2019-12-16T04:48:00.0000000Z', '2019-12-16T05:16:48.0000000Z', '2019-12-16T05:45:36.0000000Z', '2019-12-16T06:14:24.0000000Z', '2019-12-16T06:43:12.0000000Z', '2019-12-16T07:12:00.0000000Z', '2019-12-16T07:40:48.0000000Z', '2019-12-16T08:09:36.0000000Z', '2019-12-16T08:38:24.0000000Z', '2019-12-16T09:07:12.0000000Z', '2019-12-16T09:36:00.0000000Z', '2019-12-16T10:04:48.0000000Z']},\n {'id': '6', 'ct': [0, 0, 0, 0, 0, 0, 0, 0, 0, 0, 0, 0, 0, 0, 0, 0, 0, 0, 0, 0, 85492, 271463, 0, 85994, 87342, 138860, 77180, 46294, 0, 0, 0, 0, 0, 0, 0, 0, 0, 0, 0, 0, 0, 0, 0, 0, 0, 0, 0, 0, 65854, 132722, 172780, 89144, 167380, 131457, 124142, 124043, 124142, 122279, 126495, 124533, 125906, 126197, 125126, 126299, 124231, 121012, 121887, 126200, 90409, 0, 0, 0, 0, 0, 0, 0, 0, 0, 0, 0, 0, 0, 0, 0, 0, 0, 0, 0, 0, 0, 0, 0, 0, 0, 0, 0, 0, 0, 0, 0, 0], 'timeStamp': ['2019-12-14T10:04:48.0000000Z', '2019-12-14T10:33:36.0000000Z', '2019-12-14T11:02:24.0000000Z', '2019-12-14T11:31:12.0000000Z', '2019-12-14T12:00:00.0000000Z', '2019-12-14T12:28:48.0000000Z', '2019-12-14T12:57:36.0000000Z', '2019-12-14T13:26:24.0000000Z', '2019-12-14T13:55:12.0000000Z', '2019-12-14T14:24:00.0000000Z', '2019-12-14T14:52:48.0000000Z', '2019-12-14T15:21:36.0000000Z', '2019-12-14T15:50:24.0000000Z', '2019-12-14T16:19:12.0000000Z', '2019-12-14T16:48:00.0000000Z', '2019-12-14T17:16:48.0000000Z', '2019-12-14T17:45:36.0000000Z', '2019-12-14T18:14:24.0000000Z', '2019-12-14T18:43:12.0000000Z', '2019-12-14T19:12:00.0000000Z', '2019-12-14T19:40:48.0000000Z', '2019-12-14T20:09:36.0000000Z', '2019-12-14T20:38:24.0000000Z', '2019-12-14T21:07:12.0000000Z', '2019-12-14T21:36:00.0000000Z', '2019-12-14T22:04:48.0000000Z', '2019-12-14T22:33:36.0000000Z', '2019-12-14T23:02:24.0000000Z', '2019-12-14T23:31:12.0000000Z', '2019-12-15T00:00:00.0000000Z', '2019-12-15T00:28:48.0000000Z', '2019-12-15T00:57:36.0000000Z', '2019-12-15T01:26:24.0000000Z', '2019-12-15T01:55:12.0000000Z', '2019-12-15T02:24:00.0000000Z', '2019-12-15T02:52:48.0000000Z', '2019-12-15T03:21:36.0000000Z', '2019-12-15T03:50:24.0000000Z', '2019-12-15T04:19:12.0000000Z', '2019-12-15T04:48:00.0000000Z', '2019-12-15T05:16:48.0000000Z', '2019-12-15T05:45:36.0000000Z', '2019-12-15T06:14:24.0000000Z', '2019-12-15T06:43:12.0000000Z', '2019-12-15T07:12:00.0000000Z', '2019-12-15T07:40:48.0000000Z', '2019-12-15T08:09:36.0000000Z', '2019-12-15T08:38:24.0000000Z', '2019-12-15T09:07:12.0000000Z', '2019-12-15T09:36:00.0000000Z', '2019-12-15T10:04:48.0000000Z', '2019-12-15T10:33:36.0000000Z', '2019-12-15T11:02:24.0000000Z', '2019-12-15T11:31:12.0000000Z', '2019-12-15T12:00:00.0000000Z', '2019-12-15T12:28:48.0000000Z', '2019-12-15T12:57:36.0000000Z', '2019-12-15T13:26:24.0000000Z', '2019-12-15T13:55:12.0000000Z', '2019-12-15T14:24:00.0000000Z', '2019-12-15T14:52:48.0000000Z', '2019-12-15T15:21:36.0000000Z', '2019-12-15T15:50:24.0000000Z', '2019-12-15T16:19:12.0000000Z', '2019-12-15T16:48:00.0000000Z', '2019-12-15T17:16:48.0000000Z', '2019-12-15T17:45:36.0000000Z', '2019-12-15T18:14:24.0000000Z', '2019-12-15T18:43:12.0000000Z', '2019-12-15T19:12:00.0000000Z', '2019-12-15T19:40:48.0000000Z', '2019-12-15T20:09:36.0000000Z', '2019-12-15T20:38:24.0000000Z', '2019-12-15T21:07:12.0000000Z', '2019-12-15T21:36:00.0000000Z', '2019-12-15T22:04:48.0000000Z', '2019-12-15T22:33:36.0000000Z', '2019-12-15T23:02:24.0000000Z', '2019-12-15T23:31:12.0000000Z', '2019-12-16T00:00:00.0000000Z', '2019-12-16T00:28:48.0000000Z', '2019-12-16T00:57:36.0000000Z', '2019-12-16T01:26:24.0000000Z', '2019-12-16T01:55:12.0000000Z', '2019-12-16T02:24:00.0000000Z', '2019-12-16T02:52:48.0000000Z', '2019-12-16T03:21:36.0000000Z', '2019-12-16T03:50:24.0000000Z', '2019-12-16T04:19:12.0000000Z', '2019-12-16T04:48:00.0000000Z', '2019-12-16T05:16:48.0000000Z', '2019-12-16T05:45:36.0000000Z', '2019-12-16T06:14:24.0000000Z', '2019-12-16T06:43:12.0000000Z', '2019-12-16T07:12:00.0000000Z', '2019-12-16T07:40:48.0000000Z', '2019-12-16T08:09:36.0000000Z', '2019-12-16T08:38:24.0000000Z', '2019-12-16T09:07:12.0000000Z', '2019-12-16T09:36:00.0000000Z', '2019-12-16T10:04:48.0000000Z']},\n {'id': '7', 'ct': [0, 0, 0, 0, 0, 0, 0, 0, 0, 0, 0, 0, 0, 0, 0, 0, 0, 0, 0, 0, 85492, 271463, 0, 85994, 87342, 138860, 77178, 46294, 0, 0, 0, 0, 0, 0, 0, 0, 0, 0, 0, 0, 0, 0, 0, 0, 0, 0, 0, 0, 65855, 132724, 172780, 89146, 167380, 131457, 124142, 124043, 124142, 122279, 126495, 124533, 125906, 126197, 125126, 126298, 124232, 121012, 121887, 126200, 90409, 0, 0, 0, 0, 0, 0, 0, 0, 0, 0, 0, 0, 0, 0, 0, 0, 0, 0, 0, 0, 0, 0, 0, 0, 0, 0, 0, 0, 0, 0, 0, 0], 'timeStamp': ['2019-12-14T10:04:48.0000000Z', '2019-12-14T10:33:36.0000000Z', '2019-12-14T11:02:24.0000000Z', '2019-12-14T11:31:12.0000000Z', '2019-12-14T12:00:00.0000000Z', '2019-12-14T12:28:48.0000000Z', '2019-12-14T12:57:36.0000000Z', '2019-12-14T13:26:24.0000000Z', '2019-12-14T13:55:12.0000000Z', '2019-12-14T14:24:00.0000000Z', '2019-12-14T14:52:48.0000000Z', '2019-12-14T15:21:36.0000000Z', '2019-12-14T15:50:24.0000000Z', '2019-12-14T16:19:12.0000000Z', '2019-12-14T16:48:00.0000000Z', '2019-12-14T17:16:48.0000000Z', '2019-12-14T17:45:36.0000000Z', '2019-12-14T18:14:24.0000000Z', '2019-12-14T18:43:12.0000000Z', '2019-12-14T19:12:00.0000000Z', '2019-12-14T19:40:48.0000000Z', '2019-12-14T20:09:36.0000000Z', '2019-12-14T20:38:24.0000000Z', '2019-12-14T21:07:12.0000000Z', '2019-12-14T21:36:00.0000000Z', '2019-12-14T22:04:48.0000000Z', '2019-12-14T22:33:36.0000000Z', '2019-12-14T23:02:24.0000000Z', '2019-12-14T23:31:12.0000000Z', '2019-12-15T00:00:00.0000000Z', '2019-12-15T00:28:48.0000000Z', '2019-12-15T00:57:36.0000000Z', '2019-12-15T01:26:24.0000000Z', '2019-12-15T01:55:12.0000000Z', '2019-12-15T02:24:00.0000000Z', '2019-12-15T02:52:48.0000000Z', '2019-12-15T03:21:36.0000000Z', '2019-12-15T03:50:24.0000000Z', '2019-12-15T04:19:12.0000000Z', '2019-12-15T04:48:00.0000000Z', '2019-12-15T05:16:48.0000000Z', '2019-12-15T05:45:36.0000000Z', '2019-12-15T06:14:24.0000000Z', '2019-12-15T06:43:12.0000000Z', '2019-12-15T07:12:00.0000000Z', '2019-12-15T07:40:48.0000000Z', '2019-12-15T08:09:36.0000000Z', '2019-12-15T08:38:24.0000000Z', '2019-12-15T09:07:12.0000000Z', '2019-12-15T09:36:00.0000000Z', '2019-12-15T10:04:48.0000000Z', '2019-12-15T10:33:36.0000000Z', '2019-12-15T11:02:24.0000000Z', '2019-12-15T11:31:12.0000000Z', '2019-12-15T12:00:00.0000000Z', '2019-12-15T12:28:48.0000000Z', '2019-12-15T12:57:36.0000000Z', '2019-12-15T13:26:24.0000000Z', '2019-12-15T13:55:12.0000000Z', '2019-12-15T14:24:00.0000000Z', '2019-12-15T14:52:48.0000000Z', '2019-12-15T15:21:36.0000000Z', '2019-12-15T15:50:24.0000000Z', '2019-12-15T16:19:12.0000000Z', '2019-12-15T16:48:00.0000000Z', '2019-12-15T17:16:48.0000000Z', '2019-12-15T17:45:36.0000000Z', '2019-12-15T18:14:24.0000000Z', '2019-12-15T18:43:12.0000000Z', '2019-12-15T19:12:00.0000000Z', '2019-12-15T19:40:48.0000000Z', '2019-12-15T20:09:36.0000000Z', '2019-12-15T20:38:24.0000000Z', '2019-12-15T21:07:12.0000000Z', '2019-12-15T21:36:00.0000000Z', '2019-12-15T22:04:48.0000000Z', '2019-12-15T22:33:36.0000000Z', '2019-12-15T23:02:24.0000000Z', '2019-12-15T23:31:12.0000000Z', '2019-12-16T00:00:00.0000000Z', '2019-12-16T00:28:48.0000000Z', '2019-12-16T00:57:36.0000000Z', '2019-12-16T01:26:24.0000000Z', '2019-12-16T01:55:12.0000000Z', '2019-12-16T02:24:00.0000000Z', '2019-12-16T02:52:48.0000000Z', '2019-12-16T03:21:36.0000000Z', '2019-12-16T03:50:24.0000000Z', '2019-12-16T04:19:12.0000000Z', '2019-12-16T04:48:00.0000000Z', '2019-12-16T05:16:48.0000000Z', '2019-12-16T05:45:36.0000000Z', '2019-12-16T06:14:24.0000000Z', '2019-12-16T06:43:12.0000000Z', '2019-12-16T07:12:00.0000000Z', '2019-12-16T07:40:48.0000000Z', '2019-12-16T08:09:36.0000000Z', '2019-12-16T08:38:24.0000000Z', '2019-12-16T09:07:12.0000000Z', '2019-12-16T09:36:00.0000000Z', '2019-12-16T10:04:48.0000000Z']},\n {'id': '8', 'ct': [0, 0, 0, 0, 0, 0, 0, 0, 0, 0, 0, 0, 0, 0, 0, 0, 0, 0, 0, 0, 85491, 271464, 0, 85994, 87342, 138860, 77178, 46294, 0, 0, 0, 0, 0, 0, 0, 0, 0, 0, 0, 0, 0, 0, 0, 0, 0, 0, 0, 0, 65854, 132724, 172780, 89146, 167380, 131457, 124142, 124043, 124142, 122279, 126495, 124533, 125906, 126197, 125126, 126298, 124232, 121012, 121887, 126200, 90409, 0, 0, 0, 0, 0, 0, 0, 0, 0, 0, 0, 0, 0, 0, 0, 0, 0, 0, 0, 0, 0, 0, 0, 0, 0, 0, 0, 0, 0, 0, 0, 0], 'timeStamp': ['2019-12-14T10:04:48.0000000Z', '2019-12-14T10:33:36.0000000Z', '2019-12-14T11:02:24.0000000Z', '2019-12-14T11:31:12.0000000Z', '2019-12-14T12:00:00.0000000Z', '2019-12-14T12:28:48.0000000Z', '2019-12-14T12:57:36.0000000Z', '2019-12-14T13:26:24.0000000Z', '2019-12-14T13:55:12.0000000Z', '2019-12-14T14:24:00.0000000Z', '2019-12-14T14:52:48.0000000Z', '2019-12-14T15:21:36.0000000Z', '2019-12-14T15:50:24.0000000Z', '2019-12-14T16:19:12.0000000Z', '2019-12-14T16:48:00.0000000Z', '2019-12-14T17:16:48.0000000Z', '2019-12-14T17:45:36.0000000Z', '2019-12-14T18:14:24.0000000Z', '2019-12-14T18:43:12.0000000Z', '2019-12-14T19:12:00.0000000Z', '2019-12-14T19:40:48.0000000Z', '2019-12-14T20:09:36.0000000Z', '2019-12-14T20:38:24.0000000Z', '2019-12-14T21:07:12.0000000Z', '2019-12-14T21:36:00.0000000Z', '2019-12-14T22:04:48.0000000Z', '2019-12-14T22:33:36.0000000Z', '2019-12-14T23:02:24.0000000Z', '2019-12-14T23:31:12.0000000Z', '2019-12-15T00:00:00.0000000Z', '2019-12-15T00:28:48.0000000Z', '2019-12-15T00:57:36.0000000Z', '2019-12-15T01:26:24.0000000Z', '2019-12-15T01:55:12.0000000Z', '2019-12-15T02:24:00.0000000Z', '2019-12-15T02:52:48.0000000Z', '2019-12-15T03:21:36.0000000Z', '2019-12-15T03:50:24.0000000Z', '2019-12-15T04:19:12.0000000Z', '2019-12-15T04:48:00.0000000Z', '2019-12-15T05:16:48.0000000Z', '2019-12-15T05:45:36.0000000Z', '2019-12-15T06:14:24.0000000Z', '2019-12-15T06:43:12.0000000Z', '2019-12-15T07:12:00.0000000Z', '2019-12-15T07:40:48.0000000Z', '2019-12-15T08:09:36.0000000Z', '2019-12-15T08:38:24.0000000Z', '2019-12-15T09:07:12.0000000Z', '2019-12-15T09:36:00.0000000Z', '2019-12-15T10:04:48.0000000Z', '2019-12-15T10:33:36.0000000Z', '2019-12-15T11:02:24.0000000Z', '2019-12-15T11:31:12.0000000Z', '2019-12-15T12:00:00.0000000Z', '2019-12-15T12:28:48.0000000Z', '2019-12-15T12:57:36.0000000Z', '2019-12-15T13:26:24.0000000Z', '2019-12-15T13:55:12.0000000Z', '2019-12-15T14:24:00.0000000Z', '2019-12-15T14:52:48.0000000Z', '2019-12-15T15:21:36.0000000Z', '2019-12-15T15:50:24.0000000Z', '2019-12-15T16:19:12.0000000Z', '2019-12-15T16:48:00.0000000Z', '2019-12-15T17:16:48.0000000Z', '2019-12-15T17:45:36.0000000Z', '2019-12-15T18:14:24.0000000Z', '2019-12-15T18:43:12.0000000Z', '2019-12-15T19:12:00.0000000Z', '2019-12-15T19:40:48.0000000Z', '2019-12-15T20:09:36.0000000Z', '2019-12-15T20:38:24.0000000Z', '2019-12-15T21:07:12.0000000Z', '2019-12-15T21:36:00.0000000Z', '2019-12-15T22:04:48.0000000Z', '2019-12-15T22:33:36.0000000Z', '2019-12-15T23:02:24.0000000Z', '2019-12-15T23:31:12.0000000Z', '2019-12-16T00:00:00.0000000Z', '2019-12-16T00:28:48.0000000Z', '2019-12-16T00:57:36.0000000Z', '2019-12-16T01:26:24.0000000Z', '2019-12-16T01:55:12.0000000Z', '2019-12-16T02:24:00.0000000Z', '2019-12-16T02:52:48.0000000Z', '2019-12-16T03:21:36.0000000Z', '2019-12-16T03:50:24.0000000Z', '2019-12-16T04:19:12.0000000Z', '2019-12-16T04:48:00.0000000Z', '2019-12-16T05:16:48.0000000Z', '2019-12-16T05:45:36.0000000Z', '2019-12-16T06:14:24.0000000Z', '2019-12-16T06:43:12.0000000Z', '2019-12-16T07:12:00.0000000Z', '2019-12-16T07:40:48.0000000Z', '2019-12-16T08:09:36.0000000Z', '2019-12-16T08:38:24.0000000Z', '2019-12-16T09:07:12.0000000Z', '2019-12-16T09:36:00.0000000Z', '2019-12-16T10:04:48.0000000Z']}]"
     },
     "execution_count": 74,
     "metadata": {},
     "output_type": "execute_result"
    }
   ],
   "source": [
    "%%kql\n",
    "\n",
    "let start = ago(2d);\n",
    "let end = now();\n",
    "let t1 = MeasuresT1 | where timeStamp between (start .. end);\n",
    "let t3 = MeasuresT3 | where timeStamp between (start .. end);\n",
    "let t4 = MeasuresT4 | where timeStamp between (start .. end);\n",
    "t1\n",
    "| join t3 on $left.URI == $right.URI\n",
    "| join t4 on $left.URI == $right.URI\n",
    "| project timeStamp, id,  val, URI\n",
    "| make-series ct=count() default=0 on timeStamp in range(start, end, (end-start)/100) by id\n",
    "| render linechart"
   ]
  },
  {
   "cell_type": "code",
   "execution_count": null,
   "metadata": {},
   "outputs": [],
   "source": []
  }
 ],
 "metadata": {
  "kernelspec": {
   "display_name": "Python 3",
   "language": "python",
   "name": "python3"
  },
  "language_info": {
   "codemirror_mode": {
    "name": "ipython",
    "version": 3
   },
   "file_extension": ".py",
   "mimetype": "text/x-python",
   "name": "python",
   "nbconvert_exporter": "python",
   "pygments_lexer": "ipython3",
   "version": "3.7.5"
  }
 },
 "nbformat": 4,
 "nbformat_minor": 2
}